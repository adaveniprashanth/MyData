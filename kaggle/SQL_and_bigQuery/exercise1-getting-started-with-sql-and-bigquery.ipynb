{
 "cells": [
  {
   "cell_type": "markdown",
   "id": "693682c7",
   "metadata": {
    "papermill": {
     "duration": 0.007829,
     "end_time": "2023-06-21T13:49:22.823139",
     "exception": false,
     "start_time": "2023-06-21T13:49:22.815310",
     "status": "completed"
    },
    "tags": []
   },
   "source": [
    "**This notebook is an exercise in the [SQL](https://www.kaggle.com/learn/intro-to-sql) course.  You can reference the tutorial at [this link](https://www.kaggle.com/dansbecker/getting-started-with-sql-and-bigquery).**\n",
    "\n",
    "---\n"
   ]
  },
  {
   "cell_type": "markdown",
   "id": "2f7b0f4a",
   "metadata": {
    "papermill": {
     "duration": 0.008166,
     "end_time": "2023-06-21T13:49:22.838548",
     "exception": false,
     "start_time": "2023-06-21T13:49:22.830382",
     "status": "completed"
    },
    "tags": []
   },
   "source": [
    "# Introduction\n",
    "\n",
    "The first test of your new data exploration skills uses data describing crime in the city of Chicago.\n",
    "\n",
    "Before you get started, run the following cell. It sets up the automated feedback system to review your answers."
   ]
  },
  {
   "cell_type": "code",
   "execution_count": 1,
   "id": "804ac11f",
   "metadata": {
    "execution": {
     "iopub.execute_input": "2023-06-21T13:49:22.856033Z",
     "iopub.status.busy": "2023-06-21T13:49:22.855371Z",
     "iopub.status.idle": "2023-06-21T13:49:24.254397Z",
     "shell.execute_reply": "2023-06-21T13:49:24.251918Z"
    },
    "papermill": {
     "duration": 1.411065,
     "end_time": "2023-06-21T13:49:24.257440",
     "exception": false,
     "start_time": "2023-06-21T13:49:22.846375",
     "status": "completed"
    },
    "tags": []
   },
   "outputs": [
    {
     "name": "stdout",
     "output_type": "stream",
     "text": [
      "Using Kaggle's public dataset BigQuery integration.\n",
      "Setup Complete\n"
     ]
    }
   ],
   "source": [
    "# Set up feedack system\n",
    "from learntools.core import binder\n",
    "binder.bind(globals())\n",
    "from learntools.sql.ex1 import *\n",
    "print(\"Setup Complete\")"
   ]
  },
  {
   "cell_type": "markdown",
   "id": "d914fa4c",
   "metadata": {
    "papermill": {
     "duration": 0.007026,
     "end_time": "2023-06-21T13:49:24.271666",
     "exception": false,
     "start_time": "2023-06-21T13:49:24.264640",
     "status": "completed"
    },
    "tags": []
   },
   "source": [
    "Use the next code cell to fetch the dataset."
   ]
  },
  {
   "cell_type": "code",
   "execution_count": 2,
   "id": "7e244b12",
   "metadata": {
    "execution": {
     "iopub.execute_input": "2023-06-21T13:49:24.288644Z",
     "iopub.status.busy": "2023-06-21T13:49:24.287844Z",
     "iopub.status.idle": "2023-06-21T13:49:24.568863Z",
     "shell.execute_reply": "2023-06-21T13:49:24.567530Z"
    },
    "papermill": {
     "duration": 0.292902,
     "end_time": "2023-06-21T13:49:24.571852",
     "exception": false,
     "start_time": "2023-06-21T13:49:24.278950",
     "status": "completed"
    },
    "tags": []
   },
   "outputs": [
    {
     "name": "stdout",
     "output_type": "stream",
     "text": [
      "Using Kaggle's public dataset BigQuery integration.\n"
     ]
    }
   ],
   "source": [
    "from google.cloud import bigquery\n",
    "\n",
    "# Create a \"Client\" object\n",
    "client = bigquery.Client()\n",
    "\n",
    "# Construct a reference to the \"chicago_crime\" dataset\n",
    "dataset_ref = client.dataset(\"chicago_crime\", project=\"bigquery-public-data\")\n",
    "\n",
    "# API request - fetch the dataset\n",
    "dataset = client.get_dataset(dataset_ref)"
   ]
  },
  {
   "cell_type": "markdown",
   "id": "582703de",
   "metadata": {
    "papermill": {
     "duration": 0.006968,
     "end_time": "2023-06-21T13:49:24.588630",
     "exception": false,
     "start_time": "2023-06-21T13:49:24.581662",
     "status": "completed"
    },
    "tags": []
   },
   "source": [
    "# Exercises\n",
    "\n",
    "### 1) Count tables in the dataset\n",
    "\n",
    "How many tables are in the Chicago Crime dataset?"
   ]
  },
  {
   "cell_type": "code",
   "execution_count": 3,
   "id": "07c646b0",
   "metadata": {
    "execution": {
     "iopub.execute_input": "2023-06-21T13:49:24.606780Z",
     "iopub.status.busy": "2023-06-21T13:49:24.606271Z",
     "iopub.status.idle": "2023-06-21T13:49:24.857204Z",
     "shell.execute_reply": "2023-06-21T13:49:24.855650Z"
    },
    "papermill": {
     "duration": 0.26341,
     "end_time": "2023-06-21T13:49:24.860203",
     "exception": false,
     "start_time": "2023-06-21T13:49:24.596793",
     "status": "completed"
    },
    "tags": []
   },
   "outputs": [],
   "source": [
    "tables = list(client.list_tables(dataset))\n",
    "# print(len(tables))"
   ]
  },
  {
   "cell_type": "code",
   "execution_count": 4,
   "id": "74d5982a",
   "metadata": {
    "execution": {
     "iopub.execute_input": "2023-06-21T13:49:24.878558Z",
     "iopub.status.busy": "2023-06-21T13:49:24.878090Z",
     "iopub.status.idle": "2023-06-21T13:49:24.891367Z",
     "shell.execute_reply": "2023-06-21T13:49:24.890026Z"
    },
    "papermill": {
     "duration": 0.025944,
     "end_time": "2023-06-21T13:49:24.894224",
     "exception": false,
     "start_time": "2023-06-21T13:49:24.868280",
     "status": "completed"
    },
    "tags": []
   },
   "outputs": [
    {
     "data": {
      "application/javascript": [
       "parent.postMessage({\"jupyterEvent\": \"custom.exercise_interaction\", \"data\": {\"outcomeType\": 1, \"valueTowardsCompletion\": 0.3333333333333333, \"interactionType\": 1, \"questionType\": 1, \"questionId\": \"1_CountTables\", \"learnToolsVersion\": \"0.3.4\", \"failureMessage\": \"\", \"exceptionClass\": \"\", \"trace\": \"\"}}, \"*\")"
      ],
      "text/plain": [
       "<IPython.core.display.Javascript object>"
      ]
     },
     "metadata": {},
     "output_type": "display_data"
    },
    {
     "data": {
      "text/markdown": [
       "<span style=\"color:#33cc33\">Correct</span>"
      ],
      "text/plain": [
       "Correct"
      ]
     },
     "metadata": {},
     "output_type": "display_data"
    }
   ],
   "source": [
    "num_tables = len(tables)  # Store the answer as num_tables and then run this cell\n",
    "\n",
    "# Check your answer\n",
    "q_1.check()"
   ]
  },
  {
   "cell_type": "markdown",
   "id": "90a0153e",
   "metadata": {
    "papermill": {
     "duration": 0.007625,
     "end_time": "2023-06-21T13:49:24.910016",
     "exception": false,
     "start_time": "2023-06-21T13:49:24.902391",
     "status": "completed"
    },
    "tags": []
   },
   "source": [
    "For a hint or the solution, uncomment the appropriate line below."
   ]
  },
  {
   "cell_type": "code",
   "execution_count": 5,
   "id": "c5d49c7c",
   "metadata": {
    "execution": {
     "iopub.execute_input": "2023-06-21T13:49:24.927411Z",
     "iopub.status.busy": "2023-06-21T13:49:24.926974Z",
     "iopub.status.idle": "2023-06-21T13:49:24.932413Z",
     "shell.execute_reply": "2023-06-21T13:49:24.930913Z"
    },
    "papermill": {
     "duration": 0.017468,
     "end_time": "2023-06-21T13:49:24.935136",
     "exception": false,
     "start_time": "2023-06-21T13:49:24.917668",
     "status": "completed"
    },
    "tags": []
   },
   "outputs": [],
   "source": [
    "#q_1.hint()\n",
    "#q_1.solution()"
   ]
  },
  {
   "cell_type": "markdown",
   "id": "9cd0fce8",
   "metadata": {
    "papermill": {
     "duration": 0.007208,
     "end_time": "2023-06-21T13:49:24.950149",
     "exception": false,
     "start_time": "2023-06-21T13:49:24.942941",
     "status": "completed"
    },
    "tags": []
   },
   "source": [
    "### 2) Explore the table schema\n",
    "\n",
    "How many columns in the `crime` table have `TIMESTAMP` data?"
   ]
  },
  {
   "cell_type": "code",
   "execution_count": 6,
   "id": "5fa5a2a7",
   "metadata": {
    "execution": {
     "iopub.execute_input": "2023-06-21T13:49:24.967659Z",
     "iopub.status.busy": "2023-06-21T13:49:24.967216Z",
     "iopub.status.idle": "2023-06-21T13:49:25.233486Z",
     "shell.execute_reply": "2023-06-21T13:49:25.232116Z"
    },
    "papermill": {
     "duration": 0.278688,
     "end_time": "2023-06-21T13:49:25.236545",
     "exception": false,
     "start_time": "2023-06-21T13:49:24.957857",
     "status": "completed"
    },
    "tags": []
   },
   "outputs": [
    {
     "data": {
      "text/plain": [
       "[SchemaField('unique_key', 'INTEGER', 'REQUIRED', None, (), None),\n",
       " SchemaField('case_number', 'STRING', 'NULLABLE', None, (), None),\n",
       " SchemaField('date', 'TIMESTAMP', 'NULLABLE', None, (), None),\n",
       " SchemaField('block', 'STRING', 'NULLABLE', None, (), None),\n",
       " SchemaField('iucr', 'STRING', 'NULLABLE', None, (), None),\n",
       " SchemaField('primary_type', 'STRING', 'NULLABLE', None, (), None),\n",
       " SchemaField('description', 'STRING', 'NULLABLE', None, (), None),\n",
       " SchemaField('location_description', 'STRING', 'NULLABLE', None, (), None),\n",
       " SchemaField('arrest', 'BOOLEAN', 'NULLABLE', None, (), None),\n",
       " SchemaField('domestic', 'BOOLEAN', 'NULLABLE', None, (), None),\n",
       " SchemaField('beat', 'INTEGER', 'NULLABLE', None, (), None),\n",
       " SchemaField('district', 'INTEGER', 'NULLABLE', None, (), None),\n",
       " SchemaField('ward', 'INTEGER', 'NULLABLE', None, (), None),\n",
       " SchemaField('community_area', 'INTEGER', 'NULLABLE', None, (), None),\n",
       " SchemaField('fbi_code', 'STRING', 'NULLABLE', None, (), None),\n",
       " SchemaField('x_coordinate', 'FLOAT', 'NULLABLE', None, (), None),\n",
       " SchemaField('y_coordinate', 'FLOAT', 'NULLABLE', None, (), None),\n",
       " SchemaField('year', 'INTEGER', 'NULLABLE', None, (), None),\n",
       " SchemaField('updated_on', 'TIMESTAMP', 'NULLABLE', None, (), None),\n",
       " SchemaField('latitude', 'FLOAT', 'NULLABLE', None, (), None),\n",
       " SchemaField('longitude', 'FLOAT', 'NULLABLE', None, (), None),\n",
       " SchemaField('location', 'STRING', 'NULLABLE', None, (), None)]"
      ]
     },
     "execution_count": 6,
     "metadata": {},
     "output_type": "execute_result"
    }
   ],
   "source": [
    "table_ref = dataset_ref.table(\"crime\")\n",
    "table = client.get_table(table_ref)\n",
    "table.schema"
   ]
  },
  {
   "cell_type": "code",
   "execution_count": 7,
   "id": "5b871914",
   "metadata": {
    "execution": {
     "iopub.execute_input": "2023-06-21T13:49:25.256441Z",
     "iopub.status.busy": "2023-06-21T13:49:25.255929Z",
     "iopub.status.idle": "2023-06-21T13:49:25.266211Z",
     "shell.execute_reply": "2023-06-21T13:49:25.265078Z"
    },
    "papermill": {
     "duration": 0.023872,
     "end_time": "2023-06-21T13:49:25.268593",
     "exception": false,
     "start_time": "2023-06-21T13:49:25.244721",
     "status": "completed"
    },
    "tags": []
   },
   "outputs": [
    {
     "data": {
      "application/javascript": [
       "parent.postMessage({\"jupyterEvent\": \"custom.exercise_interaction\", \"data\": {\"outcomeType\": 1, \"valueTowardsCompletion\": 0.3333333333333333, \"interactionType\": 1, \"questionType\": 1, \"questionId\": \"2_CountTimestampFields\", \"learnToolsVersion\": \"0.3.4\", \"failureMessage\": \"\", \"exceptionClass\": \"\", \"trace\": \"\"}}, \"*\")"
      ],
      "text/plain": [
       "<IPython.core.display.Javascript object>"
      ]
     },
     "metadata": {},
     "output_type": "display_data"
    },
    {
     "data": {
      "text/markdown": [
       "<span style=\"color:#33cc33\">Correct</span>"
      ],
      "text/plain": [
       "Correct"
      ]
     },
     "metadata": {},
     "output_type": "display_data"
    }
   ],
   "source": [
    "num_timestamp_fields = 2 # Put your answer here\n",
    "\n",
    "# Check your answer\n",
    "q_2.check()"
   ]
  },
  {
   "cell_type": "markdown",
   "id": "d8b16c90",
   "metadata": {
    "papermill": {
     "duration": 0.007982,
     "end_time": "2023-06-21T13:49:25.284877",
     "exception": false,
     "start_time": "2023-06-21T13:49:25.276895",
     "status": "completed"
    },
    "tags": []
   },
   "source": [
    "For a hint or the solution, uncomment the appropriate line below."
   ]
  },
  {
   "cell_type": "code",
   "execution_count": 8,
   "id": "61951537",
   "metadata": {
    "execution": {
     "iopub.execute_input": "2023-06-21T13:49:25.303982Z",
     "iopub.status.busy": "2023-06-21T13:49:25.303482Z",
     "iopub.status.idle": "2023-06-21T13:49:25.308638Z",
     "shell.execute_reply": "2023-06-21T13:49:25.307245Z"
    },
    "papermill": {
     "duration": 0.017683,
     "end_time": "2023-06-21T13:49:25.311104",
     "exception": false,
     "start_time": "2023-06-21T13:49:25.293421",
     "status": "completed"
    },
    "tags": []
   },
   "outputs": [],
   "source": [
    "#q_2.hint()\n",
    "#q_2.solution()"
   ]
  },
  {
   "cell_type": "markdown",
   "id": "422a50d0",
   "metadata": {
    "papermill": {
     "duration": 0.008638,
     "end_time": "2023-06-21T13:49:25.328299",
     "exception": false,
     "start_time": "2023-06-21T13:49:25.319661",
     "status": "completed"
    },
    "tags": []
   },
   "source": [
    "### 3) Create a crime map\n",
    "\n",
    "If you wanted to create a map with a dot at the location of each crime, what are the names of the two fields you likely need to pull out of the `crime` table to plot the crimes on a map?"
   ]
  },
  {
   "cell_type": "code",
   "execution_count": 9,
   "id": "a948e858",
   "metadata": {
    "execution": {
     "iopub.execute_input": "2023-06-21T13:49:25.354228Z",
     "iopub.status.busy": "2023-06-21T13:49:25.353737Z",
     "iopub.status.idle": "2023-06-21T13:49:25.359496Z",
     "shell.execute_reply": "2023-06-21T13:49:25.358419Z"
    },
    "papermill": {
     "duration": 0.022135,
     "end_time": "2023-06-21T13:49:25.363329",
     "exception": false,
     "start_time": "2023-06-21T13:49:25.341194",
     "status": "completed"
    },
    "tags": []
   },
   "outputs": [],
   "source": [
    "# Write the code here to explore the data so you can find the answer"
   ]
  },
  {
   "cell_type": "code",
   "execution_count": 10,
   "id": "2e9305fe",
   "metadata": {
    "execution": {
     "iopub.execute_input": "2023-06-21T13:49:25.386527Z",
     "iopub.status.busy": "2023-06-21T13:49:25.385390Z",
     "iopub.status.idle": "2023-06-21T13:49:25.396325Z",
     "shell.execute_reply": "2023-06-21T13:49:25.395446Z"
    },
    "papermill": {
     "duration": 0.024063,
     "end_time": "2023-06-21T13:49:25.398639",
     "exception": false,
     "start_time": "2023-06-21T13:49:25.374576",
     "status": "completed"
    },
    "tags": []
   },
   "outputs": [
    {
     "data": {
      "application/javascript": [
       "parent.postMessage({\"jupyterEvent\": \"custom.exercise_interaction\", \"data\": {\"outcomeType\": 1, \"valueTowardsCompletion\": 0.3333333333333333, \"interactionType\": 1, \"questionType\": 2, \"questionId\": \"3_IdentifyFieldsForPlotting\", \"learnToolsVersion\": \"0.3.4\", \"failureMessage\": \"\", \"exceptionClass\": \"\", \"trace\": \"\"}}, \"*\")"
      ],
      "text/plain": [
       "<IPython.core.display.Javascript object>"
      ]
     },
     "metadata": {},
     "output_type": "display_data"
    },
    {
     "data": {
      "text/markdown": [
       "<span style=\"color:#33cc33\">Correct</span>"
      ],
      "text/plain": [
       "Correct"
      ]
     },
     "metadata": {},
     "output_type": "display_data"
    }
   ],
   "source": [
    "fields_for_plotting = [\"latitude\", \"longitude\"] # Put your answers here\n",
    "\n",
    "# Check your answer\n",
    "q_3.check()"
   ]
  },
  {
   "cell_type": "markdown",
   "id": "6dcf32cb",
   "metadata": {
    "papermill": {
     "duration": 0.012745,
     "end_time": "2023-06-21T13:49:25.421060",
     "exception": false,
     "start_time": "2023-06-21T13:49:25.408315",
     "status": "completed"
    },
    "tags": []
   },
   "source": [
    "For a hint or the solution, uncomment the appropriate line below."
   ]
  },
  {
   "cell_type": "code",
   "execution_count": 11,
   "id": "4e11c7c8",
   "metadata": {
    "execution": {
     "iopub.execute_input": "2023-06-21T13:49:25.441152Z",
     "iopub.status.busy": "2023-06-21T13:49:25.440285Z",
     "iopub.status.idle": "2023-06-21T13:49:25.444775Z",
     "shell.execute_reply": "2023-06-21T13:49:25.443849Z"
    },
    "papermill": {
     "duration": 0.017507,
     "end_time": "2023-06-21T13:49:25.447285",
     "exception": false,
     "start_time": "2023-06-21T13:49:25.429778",
     "status": "completed"
    },
    "tags": []
   },
   "outputs": [],
   "source": [
    "#q_3.hint()\n",
    "#q_3.solution()"
   ]
  },
  {
   "cell_type": "markdown",
   "id": "42dce311",
   "metadata": {
    "papermill": {
     "duration": 0.008553,
     "end_time": "2023-06-21T13:49:25.464653",
     "exception": false,
     "start_time": "2023-06-21T13:49:25.456100",
     "status": "completed"
    },
    "tags": []
   },
   "source": [
    "Thinking about the question above, there are a few columns that appear to have geographic data. Look at a few values (with the `list_rows()` command) to see if you can determine their relationship.  Two columns will still be hard to interpret. But it should be obvious how the `location` column relates to `latitude` and `longitude`."
   ]
  },
  {
   "cell_type": "code",
   "execution_count": 12,
   "id": "c30eeb3f",
   "metadata": {
    "execution": {
     "iopub.execute_input": "2023-06-21T13:49:25.484718Z",
     "iopub.status.busy": "2023-06-21T13:49:25.483961Z",
     "iopub.status.idle": "2023-06-21T13:49:25.488608Z",
     "shell.execute_reply": "2023-06-21T13:49:25.487341Z"
    },
    "papermill": {
     "duration": 0.017935,
     "end_time": "2023-06-21T13:49:25.491308",
     "exception": false,
     "start_time": "2023-06-21T13:49:25.473373",
     "status": "completed"
    },
    "tags": []
   },
   "outputs": [],
   "source": [
    "# Scratch space for your code"
   ]
  },
  {
   "cell_type": "markdown",
   "id": "da7546f2",
   "metadata": {
    "papermill": {
     "duration": 0.008362,
     "end_time": "2023-06-21T13:49:25.508620",
     "exception": false,
     "start_time": "2023-06-21T13:49:25.500258",
     "status": "completed"
    },
    "tags": []
   },
   "source": [
    "# Keep going\n",
    "\n",
    "You've looked at the schema, but you haven't yet done anything exciting with the data itself. Things get more interesting when you get to the data, so keep going to **[write your first SQL query](https://www.kaggle.com/dansbecker/select-from-where).**"
   ]
  },
  {
   "cell_type": "markdown",
   "id": "36842b09",
   "metadata": {
    "papermill": {
     "duration": 0.008431,
     "end_time": "2023-06-21T13:49:25.525883",
     "exception": false,
     "start_time": "2023-06-21T13:49:25.517452",
     "status": "completed"
    },
    "tags": []
   },
   "source": [
    "---\n",
    "\n",
    "\n",
    "\n",
    "\n",
    "*Have questions or comments? Visit the [course discussion forum](https://www.kaggle.com/learn/intro-to-sql/discussion) to chat with other learners.*"
   ]
  }
 ],
 "metadata": {
  "kernelspec": {
   "display_name": "Python 3",
   "language": "python",
   "name": "python3"
  },
  "language_info": {
   "codemirror_mode": {
    "name": "ipython",
    "version": 3
   },
   "file_extension": ".py",
   "mimetype": "text/x-python",
   "name": "python",
   "nbconvert_exporter": "python",
   "pygments_lexer": "ipython3",
   "version": "3.10.10"
  },
  "papermill": {
   "default_parameters": {},
   "duration": 20.0899,
   "end_time": "2023-06-21T13:49:26.762113",
   "environment_variables": {},
   "exception": null,
   "input_path": "__notebook__.ipynb",
   "output_path": "__notebook__.ipynb",
   "parameters": {},
   "start_time": "2023-06-21T13:49:06.672213",
   "version": "2.4.0"
  }
 },
 "nbformat": 4,
 "nbformat_minor": 5
}
