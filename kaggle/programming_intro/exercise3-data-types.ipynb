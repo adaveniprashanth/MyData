{
 "cells": [
  {
   "cell_type": "markdown",
   "id": "14f9dc49",
   "metadata": {
    "papermill": {
     "duration": 0.006937,
     "end_time": "2023-05-25T09:51:48.028110",
     "exception": false,
     "start_time": "2023-05-25T09:51:48.021173",
     "status": "completed"
    },
    "tags": []
   },
   "source": [
    "**This notebook is an exercise in the [Intro to Programming](https://www.kaggle.com/learn/intro-to-programming) course.  You can reference the tutorial at [this link](https://www.kaggle.com/alexisbcook/data-types).**\n",
    "\n",
    "---\n"
   ]
  },
  {
   "cell_type": "markdown",
   "id": "454dac6e",
   "metadata": {
    "papermill": {
     "duration": 0.004982,
     "end_time": "2023-05-25T09:51:48.038529",
     "exception": false,
     "start_time": "2023-05-25T09:51:48.033547",
     "status": "completed"
    },
    "tags": []
   },
   "source": [
    "In the tutorial, you learned about four different data types: floats, integers, strings, and booleans.  In this exercise, you'll experiment with them.\n",
    "\n",
    "# Set up the notebook\n",
    "\n",
    "Run the next code cell without changes to set up the notebook."
   ]
  },
  {
   "cell_type": "code",
   "execution_count": 1,
   "id": "37b98838",
   "metadata": {
    "execution": {
     "iopub.execute_input": "2023-05-25T09:51:48.050560Z",
     "iopub.status.busy": "2023-05-25T09:51:48.049974Z",
     "iopub.status.idle": "2023-05-25T09:51:48.100470Z",
     "shell.execute_reply": "2023-05-25T09:51:48.099317Z"
    },
    "papermill": {
     "duration": 0.058732,
     "end_time": "2023-05-25T09:51:48.102401",
     "exception": false,
     "start_time": "2023-05-25T09:51:48.043669",
     "status": "completed"
    },
    "tags": []
   },
   "outputs": [
    {
     "name": "stdout",
     "output_type": "stream",
     "text": [
      "Setup complete.\n"
     ]
    }
   ],
   "source": [
    "# Set up the exercise\n",
    "from learntools.core import binder\n",
    "binder.bind(globals())\n",
    "from learntools.intro_to_programming.ex3 import *\n",
    "print('Setup complete.')"
   ]
  },
  {
   "cell_type": "markdown",
   "id": "3b1dca35",
   "metadata": {
    "papermill": {
     "duration": 0.005044,
     "end_time": "2023-05-25T09:51:48.113178",
     "exception": false,
     "start_time": "2023-05-25T09:51:48.108134",
     "status": "completed"
    },
    "tags": []
   },
   "source": [
    "# Question 1\n",
    "\n",
    "You have seen how to convert a float to an integer with the `int` function.  Try this out yourself by running the code cell below."
   ]
  },
  {
   "cell_type": "code",
   "execution_count": 2,
   "id": "36a013ff",
   "metadata": {
    "execution": {
     "iopub.execute_input": "2023-05-25T09:51:48.126349Z",
     "iopub.status.busy": "2023-05-25T09:51:48.126056Z",
     "iopub.status.idle": "2023-05-25T09:51:48.132539Z",
     "shell.execute_reply": "2023-05-25T09:51:48.131627Z"
    },
    "papermill": {
     "duration": 0.015959,
     "end_time": "2023-05-25T09:51:48.134281",
     "exception": false,
     "start_time": "2023-05-25T09:51:48.118322",
     "status": "completed"
    },
    "tags": []
   },
   "outputs": [
    {
     "name": "stdout",
     "output_type": "stream",
     "text": [
      "1.0\n",
      "<class 'float'>\n",
      "1\n",
      "<class 'int'>\n"
     ]
    }
   ],
   "source": [
    "# Define a float\n",
    "y = 1.\n",
    "print(y)\n",
    "print(type(y))\n",
    "\n",
    "# Convert float to integer with the int function\n",
    "z = int(y)\n",
    "print(z)\n",
    "print(type(z))"
   ]
  },
  {
   "cell_type": "markdown",
   "id": "c411c3f2",
   "metadata": {
    "papermill": {
     "duration": 0.005024,
     "end_time": "2023-05-25T09:51:48.144680",
     "exception": false,
     "start_time": "2023-05-25T09:51:48.139656",
     "status": "completed"
    },
    "tags": []
   },
   "source": [
    "In this case, the float you are using has no numbers after the decimal.  \n",
    "- But what happens when you try to convert a float with a fractional part to an integer?  \n",
    "- How does the outcome of the `int` function change for positive and negative numbers?\n",
    "\n",
    "Use the next code cell to investigate and answer these questions.  Feel free to add or remove any lines of code -- it is your workspace!"
   ]
  },
  {
   "cell_type": "code",
   "execution_count": 3,
   "id": "1d50bdc0",
   "metadata": {
    "execution": {
     "iopub.execute_input": "2023-05-25T09:51:48.157492Z",
     "iopub.status.busy": "2023-05-25T09:51:48.156274Z",
     "iopub.status.idle": "2023-05-25T09:51:48.161782Z",
     "shell.execute_reply": "2023-05-25T09:51:48.160887Z"
    },
    "papermill": {
     "duration": 0.013342,
     "end_time": "2023-05-25T09:51:48.163284",
     "exception": false,
     "start_time": "2023-05-25T09:51:48.149942",
     "status": "completed"
    },
    "tags": []
   },
   "outputs": [
    {
     "name": "stdout",
     "output_type": "stream",
     "text": [
      "1\n",
      "1\n",
      "-3\n",
      "-2\n"
     ]
    }
   ],
   "source": [
    "# Uncomment and run this code to get started!\n",
    "print(int(1.2321))\n",
    "print(int(1.747))\n",
    "print(int(-3.94535))\n",
    "print(int(-2.19774))"
   ]
  },
  {
   "cell_type": "markdown",
   "id": "19f4b26d",
   "metadata": {
    "papermill": {
     "duration": 0.005067,
     "end_time": "2023-05-25T09:51:48.173678",
     "exception": false,
     "start_time": "2023-05-25T09:51:48.168611",
     "status": "completed"
    },
    "tags": []
   },
   "source": [
    "Once you have an answer, run the code cell below to see the solution.  Viewing the solution will give you credit for answering the problem."
   ]
  },
  {
   "cell_type": "code",
   "execution_count": 4,
   "id": "bfc9a920",
   "metadata": {
    "execution": {
     "iopub.execute_input": "2023-05-25T09:51:48.186537Z",
     "iopub.status.busy": "2023-05-25T09:51:48.185390Z",
     "iopub.status.idle": "2023-05-25T09:51:48.193250Z",
     "shell.execute_reply": "2023-05-25T09:51:48.192330Z"
    },
    "papermill": {
     "duration": 0.016065,
     "end_time": "2023-05-25T09:51:48.195062",
     "exception": false,
     "start_time": "2023-05-25T09:51:48.178997",
     "status": "completed"
    },
    "tags": []
   },
   "outputs": [
    {
     "data": {
      "application/javascript": [
       "parent.postMessage({\"jupyterEvent\": \"custom.exercise_interaction\", \"data\": {\"outcomeType\": 1, \"valueTowardsCompletion\": 0.2, \"interactionType\": 1, \"questionType\": 4, \"questionId\": \"1_FloatToInt\", \"learnToolsVersion\": \"0.3.4\", \"failureMessage\": \"\", \"exceptionClass\": \"\", \"trace\": \"\"}}, \"*\")"
      ],
      "text/plain": [
       "<IPython.core.display.Javascript object>"
      ]
     },
     "metadata": {},
     "output_type": "display_data"
    },
    {
     "data": {
      "text/markdown": [
       "<span style=\"color:#33cc33\">Correct:</span> \n",
       "\n",
       "Negative floats are always rounded UP to the closest integer (for instance, both -1.1 and -1.9 are rounded up to -1). Positive floats are always rounded DOWN to the closest integer (for instance, 2.1 and 2.9 are rounded down to 2)."
      ],
      "text/plain": [
       "Correct: \n",
       "\n",
       "Negative floats are always rounded UP to the closest integer (for instance, both -1.1 and -1.9 are rounded up to -1). Positive floats are always rounded DOWN to the closest integer (for instance, 2.1 and 2.9 are rounded down to 2)."
      ]
     },
     "metadata": {},
     "output_type": "display_data"
    }
   ],
   "source": [
    "# Check your answer (Run this code cell to receive credit!)\n",
    "q1.check()"
   ]
  },
  {
   "cell_type": "markdown",
   "id": "8f5eea91",
   "metadata": {
    "papermill": {
     "duration": 0.005328,
     "end_time": "2023-05-25T09:51:48.206104",
     "exception": false,
     "start_time": "2023-05-25T09:51:48.200776",
     "status": "completed"
    },
    "tags": []
   },
   "source": [
    "# Question 2\n",
    "\n",
    "In the tutorial, you learned about booleans (which can take a value of `True` or `False`), in addition to integers, floats, and strings.  For this question, your goal is to determine what happens when you multiply a boolean by any of these data types.  Specifically, \n",
    "- What happens when you multiply an integer or float by `True`?  What happens when you multiply them by `False`?  How does the answer change if the numbers are positive or negative?\n",
    "- What happens when you multiply a string by `True`?  By `False`?\n",
    "\n",
    "Use the next code cell for your investigation. "
   ]
  },
  {
   "cell_type": "code",
   "execution_count": 5,
   "id": "24178f01",
   "metadata": {
    "execution": {
     "iopub.execute_input": "2023-05-25T09:51:48.218772Z",
     "iopub.status.busy": "2023-05-25T09:51:48.218378Z",
     "iopub.status.idle": "2023-05-25T09:51:48.223785Z",
     "shell.execute_reply": "2023-05-25T09:51:48.222830Z"
    },
    "papermill": {
     "duration": 0.0141,
     "end_time": "2023-05-25T09:51:48.225662",
     "exception": false,
     "start_time": "2023-05-25T09:51:48.211562",
     "status": "completed"
    },
    "tags": []
   },
   "outputs": [
    {
     "name": "stdout",
     "output_type": "stream",
     "text": [
      "3\n",
      "-3.1\n",
      "<class 'str'>\n",
      "0\n"
     ]
    }
   ],
   "source": [
    "# Uncomment and run this code to get started!\n",
    "print(3 * True)\n",
    "print(-3.1 * True)\n",
    "print(type(\"abc\" * False))\n",
    "print(len(\"abc\" * False))"
   ]
  },
  {
   "cell_type": "markdown",
   "id": "69cd3a25",
   "metadata": {
    "papermill": {
     "duration": 0.005935,
     "end_time": "2023-05-25T09:51:48.238221",
     "exception": false,
     "start_time": "2023-05-25T09:51:48.232286",
     "status": "completed"
    },
    "tags": []
   },
   "source": [
    "Once you have an answer, run the code cell below to see the solution.  Viewing the solution will give you credit for answering the problem."
   ]
  },
  {
   "cell_type": "code",
   "execution_count": 6,
   "id": "0a05ec29",
   "metadata": {
    "execution": {
     "iopub.execute_input": "2023-05-25T09:51:48.251545Z",
     "iopub.status.busy": "2023-05-25T09:51:48.251222Z",
     "iopub.status.idle": "2023-05-25T09:51:48.258975Z",
     "shell.execute_reply": "2023-05-25T09:51:48.257980Z"
    },
    "papermill": {
     "duration": 0.016504,
     "end_time": "2023-05-25T09:51:48.260684",
     "exception": false,
     "start_time": "2023-05-25T09:51:48.244180",
     "status": "completed"
    },
    "tags": []
   },
   "outputs": [
    {
     "data": {
      "application/javascript": [
       "parent.postMessage({\"jupyterEvent\": \"custom.exercise_interaction\", \"data\": {\"outcomeType\": 1, \"valueTowardsCompletion\": 0.2, \"interactionType\": 1, \"questionType\": 4, \"questionId\": \"2_MultiplyBooleans\", \"learnToolsVersion\": \"0.3.4\", \"failureMessage\": \"\", \"exceptionClass\": \"\", \"trace\": \"\"}}, \"*\")"
      ],
      "text/plain": [
       "<IPython.core.display.Javascript object>"
      ]
     },
     "metadata": {},
     "output_type": "display_data"
    },
    {
     "data": {
      "text/markdown": [
       "<span style=\"color:#33cc33\">Correct:</span> \n",
       "\n",
       "When you multiple an integer or float by a boolean with value `True`, it just returns that same integer or float (and is equivalent to multiplying by 1).  If you multiply an integer or float by a boolean with value `False`, it always returns 0.  This is true for both positive and negative numbers.  If you multiply a string by a boolean with value `True`, it just returns that same string.  And if you multiply a string by a boolean with value `False`, it returns an empty string (or a string with length zero)."
      ],
      "text/plain": [
       "Correct: \n",
       "\n",
       "When you multiple an integer or float by a boolean with value `True`, it just returns that same integer or float (and is equivalent to multiplying by 1).  If you multiply an integer or float by a boolean with value `False`, it always returns 0.  This is true for both positive and negative numbers.  If you multiply a string by a boolean with value `True`, it just returns that same string.  And if you multiply a string by a boolean with value `False`, it returns an empty string (or a string with length zero)."
      ]
     },
     "metadata": {},
     "output_type": "display_data"
    }
   ],
   "source": [
    "# Check your answer (Run this code cell to receive credit!)\n",
    "q2.check()"
   ]
  },
  {
   "cell_type": "markdown",
   "id": "d9d4523b",
   "metadata": {
    "papermill": {
     "duration": 0.005792,
     "end_time": "2023-05-25T09:51:48.272664",
     "exception": false,
     "start_time": "2023-05-25T09:51:48.266872",
     "status": "completed"
    },
    "tags": []
   },
   "source": [
    "# Question 3\n",
    "\n",
    "In this question, you will build off your work from the previous exercise to write a function that estimates the value of a house.\n",
    "\n",
    "Use the next code cell to create a function `get_expected_cost` that takes as input three variables:\n",
    "- `beds` - number of bedrooms (data type float)\n",
    "- `baths` - number of bathrooms (data type float)\n",
    "- `has_basement` - whether or not the house has a basement (data type boolean)\n",
    "\n",
    "It should return the expected cost of a house with those characteristics. Assume that:\n",
    "- the expected cost for a house with 0 bedrooms and 0 bathrooms, and no basement is 80000, \n",
    "- each bedroom adds 30000 to the expected cost,\n",
    "- each bathroom adds 10000 to the expected cost, and\n",
    "- a basement adds 40000 to the expected cost.\n",
    "\n",
    "For instance,\n",
    "- a house with 1 bedroom, 1 bathroom, and no basement has an expected cost of 80000 + 30000 + 10000 = 120000.  This value will be calculated with `get_expected_cost(1, 1, False)`.\n",
    "- a house with 2 bedrooms, 1 bathroom, and a basement has an expected cost of 80000 + 2*30000 + 10000 + 40000 = 190000.  This value will be calculated with `get_expected_cost(2, 1, True)`.\n",
    "\n",
    "Remember you can always get a hint by uncommenting `q3.hint()` in the code cell following the next!"
   ]
  },
  {
   "cell_type": "code",
   "execution_count": 7,
   "id": "a3e9d575",
   "metadata": {
    "execution": {
     "iopub.execute_input": "2023-05-25T09:51:48.287103Z",
     "iopub.status.busy": "2023-05-25T09:51:48.286102Z",
     "iopub.status.idle": "2023-05-25T09:51:48.294970Z",
     "shell.execute_reply": "2023-05-25T09:51:48.293927Z"
    },
    "papermill": {
     "duration": 0.018211,
     "end_time": "2023-05-25T09:51:48.296759",
     "exception": false,
     "start_time": "2023-05-25T09:51:48.278548",
     "status": "completed"
    },
    "tags": []
   },
   "outputs": [
    {
     "data": {
      "application/javascript": [
       "parent.postMessage({\"jupyterEvent\": \"custom.exercise_interaction\", \"data\": {\"outcomeType\": 1, \"valueTowardsCompletion\": 0.2, \"interactionType\": 1, \"questionType\": 2, \"questionId\": \"3_EstimateHouseValueBool\", \"learnToolsVersion\": \"0.3.4\", \"failureMessage\": \"\", \"exceptionClass\": \"\", \"trace\": \"\"}}, \"*\")"
      ],
      "text/plain": [
       "<IPython.core.display.Javascript object>"
      ]
     },
     "metadata": {},
     "output_type": "display_data"
    },
    {
     "data": {
      "text/markdown": [
       "<span style=\"color:#33cc33\">Correct</span>"
      ],
      "text/plain": [
       "Correct"
      ]
     },
     "metadata": {},
     "output_type": "display_data"
    }
   ],
   "source": [
    "# TODO: Complete the function\n",
    "def get_expected_cost(beds, baths, has_basement):\n",
    "    value = 80000+(30000*beds)+(10000*baths)+(40000*has_basement)\n",
    "    return value\n",
    "\n",
    "# Check your answer \n",
    "q3.check()"
   ]
  },
  {
   "cell_type": "code",
   "execution_count": 8,
   "id": "74282e6c",
   "metadata": {
    "execution": {
     "iopub.execute_input": "2023-05-25T09:51:48.311549Z",
     "iopub.status.busy": "2023-05-25T09:51:48.311013Z",
     "iopub.status.idle": "2023-05-25T09:51:48.314120Z",
     "shell.execute_reply": "2023-05-25T09:51:48.313540Z"
    },
    "papermill": {
     "duration": 0.012401,
     "end_time": "2023-05-25T09:51:48.315836",
     "exception": false,
     "start_time": "2023-05-25T09:51:48.303435",
     "status": "completed"
    },
    "tags": []
   },
   "outputs": [],
   "source": [
    "# Uncomment to see a hint\n",
    "#q3.hint()\n",
    "\n",
    "# Uncomment to view the solution\n",
    "#q3.solution()"
   ]
  },
  {
   "cell_type": "markdown",
   "id": "8be79b4f",
   "metadata": {
    "papermill": {
     "duration": 0.006247,
     "end_time": "2023-05-25T09:51:48.328537",
     "exception": false,
     "start_time": "2023-05-25T09:51:48.322290",
     "status": "completed"
    },
    "tags": []
   },
   "source": [
    "# Question 4\n",
    "\n",
    "We'll continue our study of boolean arithmetic.  For this question, your task is to provide a description of what happpens when you add booleans. \n",
    "\n",
    "Use the next code cell for your investigation.  Feel free to add or remove any lines of code - use it as your workspace!"
   ]
  },
  {
   "cell_type": "code",
   "execution_count": 9,
   "id": "f1be3bc9",
   "metadata": {
    "execution": {
     "iopub.execute_input": "2023-05-25T09:51:48.343539Z",
     "iopub.status.busy": "2023-05-25T09:51:48.342950Z",
     "iopub.status.idle": "2023-05-25T09:51:48.347658Z",
     "shell.execute_reply": "2023-05-25T09:51:48.346803Z"
    },
    "papermill": {
     "duration": 0.014748,
     "end_time": "2023-05-25T09:51:48.349896",
     "exception": false,
     "start_time": "2023-05-25T09:51:48.335148",
     "status": "completed"
    },
    "tags": []
   },
   "outputs": [
    {
     "name": "stdout",
     "output_type": "stream",
     "text": [
      "0\n",
      "1\n",
      "1\n",
      "2\n",
      "3\n"
     ]
    }
   ],
   "source": [
    "print(False + False)\n",
    "print(True + False)\n",
    "print(False + True)\n",
    "print(True + True)\n",
    "print(False + True + True + True)"
   ]
  },
  {
   "cell_type": "markdown",
   "id": "fed5ec00",
   "metadata": {
    "papermill": {
     "duration": 0.005913,
     "end_time": "2023-05-25T09:51:48.362243",
     "exception": false,
     "start_time": "2023-05-25T09:51:48.356330",
     "status": "completed"
    },
    "tags": []
   },
   "source": [
    "Once you have an answer, run the code cell below to see the solution.  Viewing the solution will give you credit for answering the problem."
   ]
  },
  {
   "cell_type": "code",
   "execution_count": 10,
   "id": "2627a017",
   "metadata": {
    "execution": {
     "iopub.execute_input": "2023-05-25T09:51:48.376161Z",
     "iopub.status.busy": "2023-05-25T09:51:48.375849Z",
     "iopub.status.idle": "2023-05-25T09:51:48.383428Z",
     "shell.execute_reply": "2023-05-25T09:51:48.382385Z"
    },
    "papermill": {
     "duration": 0.016727,
     "end_time": "2023-05-25T09:51:48.385192",
     "exception": false,
     "start_time": "2023-05-25T09:51:48.368465",
     "status": "completed"
    },
    "tags": []
   },
   "outputs": [
    {
     "data": {
      "application/javascript": [
       "parent.postMessage({\"jupyterEvent\": \"custom.exercise_interaction\", \"data\": {\"outcomeType\": 1, \"valueTowardsCompletion\": 0.2, \"interactionType\": 1, \"questionType\": 4, \"questionId\": \"4_AddingBooleans\", \"learnToolsVersion\": \"0.3.4\", \"failureMessage\": \"\", \"exceptionClass\": \"\", \"trace\": \"\"}}, \"*\")"
      ],
      "text/plain": [
       "<IPython.core.display.Javascript object>"
      ]
     },
     "metadata": {},
     "output_type": "display_data"
    },
    {
     "data": {
      "text/markdown": [
       "<span style=\"color:#33cc33\">Correct:</span> \n",
       "\n",
       "When you add booleans, adding `False` is equivalent to adding 0, and adding `True` is equivalent to adding 1."
      ],
      "text/plain": [
       "Correct: \n",
       "\n",
       "When you add booleans, adding `False` is equivalent to adding 0, and adding `True` is equivalent to adding 1."
      ]
     },
     "metadata": {},
     "output_type": "display_data"
    }
   ],
   "source": [
    "# Check your answer (Run this code cell to receive credit!)\n",
    "q4.check()"
   ]
  },
  {
   "cell_type": "markdown",
   "id": "88494e4f",
   "metadata": {
    "papermill": {
     "duration": 0.006184,
     "end_time": "2023-05-25T09:51:48.397931",
     "exception": false,
     "start_time": "2023-05-25T09:51:48.391747",
     "status": "completed"
    },
    "tags": []
   },
   "source": [
    "# 🌶️ Question 5\n",
    "\n",
    "You own an online shop where you sell rings with custom engravings.  You offer both gold plated and solid gold rings.\n",
    "- Gold plated rings have a base cost of \\\\$50, and you charge \\\\$7 per engraved unit.  \n",
    "- Solid gold rings have a base cost of \\\\$100, and you charge \\\\$10 per engraved unit.\n",
    "- Spaces and punctuation are counted as engraved units.\n",
    "\n",
    "Write a function `cost_of_project()` that takes two arguments:\n",
    "- `engraving` - a Python string with the text of the engraving\n",
    "- `solid_gold` - a Boolean that indicates whether the ring is solid gold\n",
    "\n",
    "It should return the cost of the project.  This question should be fairly challenging, and you may need a hint."
   ]
  },
  {
   "cell_type": "code",
   "execution_count": 11,
   "id": "89cf1dcd",
   "metadata": {
    "execution": {
     "iopub.execute_input": "2023-05-25T09:51:48.414445Z",
     "iopub.status.busy": "2023-05-25T09:51:48.413505Z",
     "iopub.status.idle": "2023-05-25T09:51:48.424571Z",
     "shell.execute_reply": "2023-05-25T09:51:48.423187Z"
    },
    "papermill": {
     "duration": 0.023521,
     "end_time": "2023-05-25T09:51:48.427778",
     "exception": false,
     "start_time": "2023-05-25T09:51:48.404257",
     "status": "completed"
    },
    "tags": []
   },
   "outputs": [
    {
     "data": {
      "application/javascript": [
       "parent.postMessage({\"jupyterEvent\": \"custom.exercise_interaction\", \"data\": {\"outcomeType\": 1, \"valueTowardsCompletion\": 0.2, \"interactionType\": 1, \"questionType\": 2, \"questionId\": \"5_CustomEngravings\", \"learnToolsVersion\": \"0.3.4\", \"failureMessage\": \"\", \"exceptionClass\": \"\", \"trace\": \"\"}}, \"*\")"
      ],
      "text/plain": [
       "<IPython.core.display.Javascript object>"
      ]
     },
     "metadata": {},
     "output_type": "display_data"
    },
    {
     "data": {
      "text/markdown": [
       "<span style=\"color:#33cc33\">Correct</span>"
      ],
      "text/plain": [
       "Correct"
      ]
     },
     "metadata": {},
     "output_type": "display_data"
    }
   ],
   "source": [
    "def cost_of_project(engraving, solid_gold):\n",
    "    cost = solid_gold*(100 +10*len(engraving))+(not solid_gold)*(50 +7*len(engraving))\n",
    "    return cost\n",
    "\n",
    "# Check your answer\n",
    "q5.check()"
   ]
  },
  {
   "cell_type": "code",
   "execution_count": 12,
   "id": "ce15ca5e",
   "metadata": {
    "execution": {
     "iopub.execute_input": "2023-05-25T09:51:48.448468Z",
     "iopub.status.busy": "2023-05-25T09:51:48.446915Z",
     "iopub.status.idle": "2023-05-25T09:51:48.456777Z",
     "shell.execute_reply": "2023-05-25T09:51:48.455858Z"
    },
    "papermill": {
     "duration": 0.021856,
     "end_time": "2023-05-25T09:51:48.458934",
     "exception": false,
     "start_time": "2023-05-25T09:51:48.437078",
     "status": "completed"
    },
    "tags": []
   },
   "outputs": [
    {
     "data": {
      "application/javascript": [
       "parent.postMessage({\"jupyterEvent\": \"custom.exercise_interaction\", \"data\": {\"interactionType\": 3, \"questionType\": 2, \"questionId\": \"5_CustomEngravings\", \"learnToolsVersion\": \"0.3.4\", \"valueTowardsCompletion\": 0.0, \"failureMessage\": \"\", \"exceptionClass\": \"\", \"trace\": \"\", \"outcomeType\": 4}}, \"*\")"
      ],
      "text/plain": [
       "<IPython.core.display.Javascript object>"
      ]
     },
     "metadata": {},
     "output_type": "display_data"
    },
    {
     "data": {
      "text/markdown": [
       "<span style=\"color:#33cc99\">Solution:</span> \n",
       "```python\n",
       "def cost_of_project(engraving, solid_gold):\n",
       "    cost = solid_gold * (100 + 10 * len(engraving)) + (not solid_gold) * (50 + 7 * len(engraving))\n",
       "    return cost\n",
       "\n",
       "```"
      ],
      "text/plain": [
       "Solution: \n",
       "```python\n",
       "def cost_of_project(engraving, solid_gold):\n",
       "    cost = solid_gold * (100 + 10 * len(engraving)) + (not solid_gold) * (50 + 7 * len(engraving))\n",
       "    return cost\n",
       "\n",
       "```"
      ]
     },
     "metadata": {},
     "output_type": "display_data"
    }
   ],
   "source": [
    "# Uncomment to see a hint\n",
    "# q5.hint()\n",
    "\n",
    "# Uncomment to view the solution\n",
    "q5.solution()"
   ]
  },
  {
   "cell_type": "markdown",
   "id": "86b1f4d3",
   "metadata": {
    "papermill": {
     "duration": 0.006868,
     "end_time": "2023-05-25T09:51:48.473109",
     "exception": false,
     "start_time": "2023-05-25T09:51:48.466241",
     "status": "completed"
    },
    "tags": []
   },
   "source": [
    "Run the next code cell to calculate the cost of engraving `Charlie+Denver` on a solid gold ring."
   ]
  },
  {
   "cell_type": "code",
   "execution_count": 13,
   "id": "64dfdaf2",
   "metadata": {
    "execution": {
     "iopub.execute_input": "2023-05-25T09:51:48.489220Z",
     "iopub.status.busy": "2023-05-25T09:51:48.488887Z",
     "iopub.status.idle": "2023-05-25T09:51:48.494517Z",
     "shell.execute_reply": "2023-05-25T09:51:48.493351Z"
    },
    "papermill": {
     "duration": 0.01566,
     "end_time": "2023-05-25T09:51:48.496472",
     "exception": false,
     "start_time": "2023-05-25T09:51:48.480812",
     "status": "completed"
    },
    "tags": []
   },
   "outputs": [
    {
     "name": "stdout",
     "output_type": "stream",
     "text": [
      "240\n"
     ]
    }
   ],
   "source": [
    "project_one = cost_of_project(\"Charlie+Denver\", True)\n",
    "print(project_one)"
   ]
  },
  {
   "cell_type": "markdown",
   "id": "f76f0f4a",
   "metadata": {
    "papermill": {
     "duration": 0.006754,
     "end_time": "2023-05-25T09:51:48.511234",
     "exception": false,
     "start_time": "2023-05-25T09:51:48.504480",
     "status": "completed"
    },
    "tags": []
   },
   "source": [
    "Use the next code cell to calculate the cost of engraving `08/10/2000` on a gold plated ring."
   ]
  },
  {
   "cell_type": "code",
   "execution_count": 14,
   "id": "406fee00",
   "metadata": {
    "execution": {
     "iopub.execute_input": "2023-05-25T09:51:48.527319Z",
     "iopub.status.busy": "2023-05-25T09:51:48.526981Z",
     "iopub.status.idle": "2023-05-25T09:51:48.533294Z",
     "shell.execute_reply": "2023-05-25T09:51:48.531656Z"
    },
    "papermill": {
     "duration": 0.017959,
     "end_time": "2023-05-25T09:51:48.536239",
     "exception": false,
     "start_time": "2023-05-25T09:51:48.518280",
     "status": "completed"
    },
    "tags": []
   },
   "outputs": [
    {
     "name": "stdout",
     "output_type": "stream",
     "text": [
      "120\n"
     ]
    }
   ],
   "source": [
    "project_two = cost_of_project(\"08/10/2000\", False)\n",
    "print(project_two)"
   ]
  },
  {
   "cell_type": "markdown",
   "id": "cc47c26e",
   "metadata": {
    "papermill": {
     "duration": 0.007834,
     "end_time": "2023-05-25T09:51:48.554242",
     "exception": false,
     "start_time": "2023-05-25T09:51:48.546408",
     "status": "completed"
    },
    "tags": []
   },
   "source": [
    "# Keep going\n",
    "\n",
    "Continue to the next lesson to **[learn about conditions and conditional statements](https://www.kaggle.com/alexisbcook/conditions-and-conditional-statements)**."
   ]
  },
  {
   "cell_type": "markdown",
   "id": "cfb1967e",
   "metadata": {
    "papermill": {
     "duration": 0.008163,
     "end_time": "2023-05-25T09:51:48.570706",
     "exception": false,
     "start_time": "2023-05-25T09:51:48.562543",
     "status": "completed"
    },
    "tags": []
   },
   "source": [
    "---\n",
    "\n",
    "\n",
    "\n",
    "\n",
    "*Have questions or comments? Visit the [course discussion forum](https://www.kaggle.com/learn/intro-to-programming/discussion) to chat with other learners.*"
   ]
  }
 ],
 "metadata": {
  "kernelspec": {
   "display_name": "Python 3",
   "language": "python",
   "name": "python3"
  },
  "language_info": {
   "codemirror_mode": {
    "name": "ipython",
    "version": 3
   },
   "file_extension": ".py",
   "mimetype": "text/x-python",
   "name": "python",
   "nbconvert_exporter": "python",
   "pygments_lexer": "ipython3",
   "version": "3.10.10"
  },
  "papermill": {
   "default_parameters": {},
   "duration": 12.335073,
   "end_time": "2023-05-25T09:51:51.555924",
   "environment_variables": {},
   "exception": null,
   "input_path": "__notebook__.ipynb",
   "output_path": "__notebook__.ipynb",
   "parameters": {},
   "start_time": "2023-05-25T09:51:39.220851",
   "version": "2.4.0"
  }
 },
 "nbformat": 4,
 "nbformat_minor": 5
}
