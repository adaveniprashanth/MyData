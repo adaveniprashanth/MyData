{
 "cells": [
  {
   "cell_type": "markdown",
   "id": "85f24ce9",
   "metadata": {
    "papermill": {
     "duration": 0.005469,
     "end_time": "2023-04-28T16:19:53.356380",
     "exception": false,
     "start_time": "2023-04-28T16:19:53.350911",
     "status": "completed"
    },
    "tags": []
   },
   "source": [
    "**This notebook is an exercise in the [Pandas](https://www.kaggle.com/learn/pandas) course.  You can reference the tutorial at [this link](https://www.kaggle.com/residentmario/data-types-and-missing-values).**\n",
    "\n",
    "---\n"
   ]
  },
  {
   "cell_type": "markdown",
   "id": "13a6f18e",
   "metadata": {
    "papermill": {
     "duration": 0.00399,
     "end_time": "2023-04-28T16:19:53.364882",
     "exception": false,
     "start_time": "2023-04-28T16:19:53.360892",
     "status": "completed"
    },
    "tags": []
   },
   "source": [
    "# Introduction\n",
    "\n",
    "Run the following cell to load your data and some utility functions."
   ]
  },
  {
   "cell_type": "code",
   "execution_count": 1,
   "id": "837e0e1f",
   "metadata": {
    "execution": {
     "iopub.execute_input": "2023-04-28T16:19:53.376394Z",
     "iopub.status.busy": "2023-04-28T16:19:53.374932Z",
     "iopub.status.idle": "2023-04-28T16:19:56.179189Z",
     "shell.execute_reply": "2023-04-28T16:19:56.177953Z"
    },
    "papermill": {
     "duration": 2.81345,
     "end_time": "2023-04-28T16:19:56.182534",
     "exception": false,
     "start_time": "2023-04-28T16:19:53.369084",
     "status": "completed"
    },
    "tags": []
   },
   "outputs": [
    {
     "name": "stdout",
     "output_type": "stream",
     "text": [
      "Setup complete.\n"
     ]
    }
   ],
   "source": [
    "import pandas as pd\n",
    "\n",
    "reviews = pd.read_csv(\"../input/wine-reviews/winemag-data-130k-v2.csv\", index_col=0)\n",
    "\n",
    "from learntools.core import binder; binder.bind(globals())\n",
    "from learntools.pandas.data_types_and_missing_data import *\n",
    "print(\"Setup complete.\")"
   ]
  },
  {
   "cell_type": "markdown",
   "id": "bfe2f66d",
   "metadata": {
    "papermill": {
     "duration": 0.004062,
     "end_time": "2023-04-28T16:19:56.191066",
     "exception": false,
     "start_time": "2023-04-28T16:19:56.187004",
     "status": "completed"
    },
    "tags": []
   },
   "source": [
    "# Exercises"
   ]
  },
  {
   "cell_type": "markdown",
   "id": "361c36c6",
   "metadata": {
    "papermill": {
     "duration": 0.004025,
     "end_time": "2023-04-28T16:19:56.199434",
     "exception": false,
     "start_time": "2023-04-28T16:19:56.195409",
     "status": "completed"
    },
    "tags": []
   },
   "source": [
    "## 1. \n",
    "What is the data type of the `points` column in the dataset?"
   ]
  },
  {
   "cell_type": "code",
   "execution_count": 2,
   "id": "af07872f",
   "metadata": {
    "execution": {
     "iopub.execute_input": "2023-04-28T16:19:56.209906Z",
     "iopub.status.busy": "2023-04-28T16:19:56.209500Z",
     "iopub.status.idle": "2023-04-28T16:19:56.221052Z",
     "shell.execute_reply": "2023-04-28T16:19:56.220200Z"
    },
    "papermill": {
     "duration": 0.019624,
     "end_time": "2023-04-28T16:19:56.223313",
     "exception": false,
     "start_time": "2023-04-28T16:19:56.203689",
     "status": "completed"
    },
    "tags": []
   },
   "outputs": [
    {
     "data": {
      "application/javascript": [
       "parent.postMessage({\"jupyterEvent\": \"custom.exercise_interaction\", \"data\": {\"outcomeType\": 1, \"valueTowardsCompletion\": 0.25, \"interactionType\": 1, \"questionType\": 1, \"questionId\": \"1_PointsDtype\", \"learnToolsVersion\": \"0.3.4\", \"failureMessage\": \"\", \"exceptionClass\": \"\", \"trace\": \"\"}}, \"*\")"
      ],
      "text/plain": [
       "<IPython.core.display.Javascript object>"
      ]
     },
     "metadata": {},
     "output_type": "display_data"
    },
    {
     "data": {
      "text/markdown": [
       "<span style=\"color:#33cc33\">Correct</span>"
      ],
      "text/plain": [
       "Correct"
      ]
     },
     "metadata": {},
     "output_type": "display_data"
    }
   ],
   "source": [
    "# Your code here\n",
    "dtype = reviews.points.dtype\n",
    "\n",
    "# Check your answer\n",
    "q1.check()"
   ]
  },
  {
   "cell_type": "code",
   "execution_count": 3,
   "id": "ca84ee1d",
   "metadata": {
    "execution": {
     "iopub.execute_input": "2023-04-28T16:19:56.234883Z",
     "iopub.status.busy": "2023-04-28T16:19:56.234164Z",
     "iopub.status.idle": "2023-04-28T16:19:56.238575Z",
     "shell.execute_reply": "2023-04-28T16:19:56.237600Z"
    },
    "papermill": {
     "duration": 0.012756,
     "end_time": "2023-04-28T16:19:56.240874",
     "exception": false,
     "start_time": "2023-04-28T16:19:56.228118",
     "status": "completed"
    },
    "tags": []
   },
   "outputs": [],
   "source": [
    "#q1.hint()\n",
    "#q1.solution()"
   ]
  },
  {
   "cell_type": "markdown",
   "id": "a027dafd",
   "metadata": {
    "papermill": {
     "duration": 0.004443,
     "end_time": "2023-04-28T16:19:56.250033",
     "exception": false,
     "start_time": "2023-04-28T16:19:56.245590",
     "status": "completed"
    },
    "tags": []
   },
   "source": [
    "## 2. \n",
    "Create a Series from entries in the `points` column, but convert the entries to strings. Hint: strings are `str` in native Python."
   ]
  },
  {
   "cell_type": "code",
   "execution_count": 4,
   "id": "96c62e82",
   "metadata": {
    "execution": {
     "iopub.execute_input": "2023-04-28T16:19:56.261970Z",
     "iopub.status.busy": "2023-04-28T16:19:56.261549Z",
     "iopub.status.idle": "2023-04-28T16:19:56.352880Z",
     "shell.execute_reply": "2023-04-28T16:19:56.351610Z"
    },
    "papermill": {
     "duration": 0.100428,
     "end_time": "2023-04-28T16:19:56.355536",
     "exception": false,
     "start_time": "2023-04-28T16:19:56.255108",
     "status": "completed"
    },
    "tags": []
   },
   "outputs": [
    {
     "data": {
      "application/javascript": [
       "parent.postMessage({\"jupyterEvent\": \"custom.exercise_interaction\", \"data\": {\"outcomeType\": 1, \"valueTowardsCompletion\": 0.25, \"interactionType\": 1, \"questionType\": 1, \"questionId\": \"2_StrPoints\", \"learnToolsVersion\": \"0.3.4\", \"failureMessage\": \"\", \"exceptionClass\": \"\", \"trace\": \"\"}}, \"*\")"
      ],
      "text/plain": [
       "<IPython.core.display.Javascript object>"
      ]
     },
     "metadata": {},
     "output_type": "display_data"
    },
    {
     "data": {
      "text/markdown": [
       "<span style=\"color:#33cc33\">Correct</span>"
      ],
      "text/plain": [
       "Correct"
      ]
     },
     "metadata": {},
     "output_type": "display_data"
    }
   ],
   "source": [
    "point_strings = reviews.points.astype('str')\n",
    "\n",
    "# Check your answer\n",
    "q2.check()"
   ]
  },
  {
   "cell_type": "code",
   "execution_count": 5,
   "id": "96722e30",
   "metadata": {
    "execution": {
     "iopub.execute_input": "2023-04-28T16:19:56.367475Z",
     "iopub.status.busy": "2023-04-28T16:19:56.367040Z",
     "iopub.status.idle": "2023-04-28T16:19:56.371871Z",
     "shell.execute_reply": "2023-04-28T16:19:56.370519Z"
    },
    "papermill": {
     "duration": 0.013273,
     "end_time": "2023-04-28T16:19:56.374217",
     "exception": false,
     "start_time": "2023-04-28T16:19:56.360944",
     "status": "completed"
    },
    "tags": []
   },
   "outputs": [],
   "source": [
    "#q2.hint()\n",
    "#q2.solution()"
   ]
  },
  {
   "cell_type": "markdown",
   "id": "2fd620e7",
   "metadata": {
    "papermill": {
     "duration": 0.004711,
     "end_time": "2023-04-28T16:19:56.384124",
     "exception": false,
     "start_time": "2023-04-28T16:19:56.379413",
     "status": "completed"
    },
    "tags": []
   },
   "source": [
    "## 3.\n",
    "Sometimes the price column is null. How many reviews in the dataset are missing a price?"
   ]
  },
  {
   "cell_type": "code",
   "execution_count": 6,
   "id": "91ab52b0",
   "metadata": {
    "execution": {
     "iopub.execute_input": "2023-04-28T16:19:56.396290Z",
     "iopub.status.busy": "2023-04-28T16:19:56.395490Z",
     "iopub.status.idle": "2023-04-28T16:19:56.416083Z",
     "shell.execute_reply": "2023-04-28T16:19:56.414921Z"
    },
    "papermill": {
     "duration": 0.02945,
     "end_time": "2023-04-28T16:19:56.418587",
     "exception": false,
     "start_time": "2023-04-28T16:19:56.389137",
     "status": "completed"
    },
    "tags": []
   },
   "outputs": [
    {
     "data": {
      "application/javascript": [
       "parent.postMessage({\"jupyterEvent\": \"custom.exercise_interaction\", \"data\": {\"outcomeType\": 1, \"valueTowardsCompletion\": 0.25, \"interactionType\": 1, \"questionType\": 1, \"questionId\": \"3_CountMissingPrices\", \"learnToolsVersion\": \"0.3.4\", \"failureMessage\": \"\", \"exceptionClass\": \"\", \"trace\": \"\"}}, \"*\")"
      ],
      "text/plain": [
       "<IPython.core.display.Javascript object>"
      ]
     },
     "metadata": {},
     "output_type": "display_data"
    },
    {
     "data": {
      "text/markdown": [
       "<span style=\"color:#33cc33\">Correct</span>"
      ],
      "text/plain": [
       "Correct"
      ]
     },
     "metadata": {},
     "output_type": "display_data"
    },
    {
     "data": {
      "text/plain": [
       "8996"
      ]
     },
     "execution_count": 6,
     "metadata": {},
     "output_type": "execute_result"
    }
   ],
   "source": [
    "n_missing_prices = len(reviews[reviews['price'].isnull()])\n",
    "\n",
    "# Check your answer\n",
    "q3.check()\n",
    "n_missing_prices"
   ]
  },
  {
   "cell_type": "code",
   "execution_count": 7,
   "id": "e8907324",
   "metadata": {
    "execution": {
     "iopub.execute_input": "2023-04-28T16:19:56.431127Z",
     "iopub.status.busy": "2023-04-28T16:19:56.430480Z",
     "iopub.status.idle": "2023-04-28T16:19:56.444090Z",
     "shell.execute_reply": "2023-04-28T16:19:56.443025Z"
    },
    "papermill": {
     "duration": 0.022227,
     "end_time": "2023-04-28T16:19:56.446206",
     "exception": false,
     "start_time": "2023-04-28T16:19:56.423979",
     "status": "completed"
    },
    "tags": []
   },
   "outputs": [
    {
     "data": {
      "application/javascript": [
       "parent.postMessage({\"jupyterEvent\": \"custom.exercise_interaction\", \"data\": {\"interactionType\": 2, \"questionType\": 1, \"questionId\": \"3_CountMissingPrices\", \"learnToolsVersion\": \"0.3.4\", \"valueTowardsCompletion\": 0.0, \"failureMessage\": \"\", \"exceptionClass\": \"\", \"trace\": \"\", \"outcomeType\": 4}}, \"*\")"
      ],
      "text/plain": [
       "<IPython.core.display.Javascript object>"
      ]
     },
     "metadata": {},
     "output_type": "display_data"
    },
    {
     "data": {
      "text/markdown": [
       "<span style=\"color:#3366cc\">Hint:</span> Use `pd.isnull()`."
      ],
      "text/plain": [
       "Hint: Use `pd.isnull()`."
      ]
     },
     "metadata": {},
     "output_type": "display_data"
    },
    {
     "data": {
      "application/javascript": [
       "parent.postMessage({\"jupyterEvent\": \"custom.exercise_interaction\", \"data\": {\"interactionType\": 3, \"questionType\": 1, \"questionId\": \"3_CountMissingPrices\", \"learnToolsVersion\": \"0.3.4\", \"valueTowardsCompletion\": 0.0, \"failureMessage\": \"\", \"exceptionClass\": \"\", \"trace\": \"\", \"outcomeType\": 4}}, \"*\")"
      ],
      "text/plain": [
       "<IPython.core.display.Javascript object>"
      ]
     },
     "metadata": {},
     "output_type": "display_data"
    },
    {
     "data": {
      "text/markdown": [
       "<span style=\"color:#33cc99\">Solution:</span> \n",
       "```python\n",
       "missing_price_reviews = reviews[reviews.price.isnull()]\n",
       "n_missing_prices = len(missing_price_reviews)\n",
       "# Cute alternative solution: if we sum a boolean series, True is treated as 1 and False as 0\n",
       "n_missing_prices = reviews.price.isnull().sum()\n",
       "# or equivalently:\n",
       "n_missing_prices = pd.isnull(reviews.price).sum()\n",
       "\n",
       "```"
      ],
      "text/plain": [
       "Solution: \n",
       "```python\n",
       "missing_price_reviews = reviews[reviews.price.isnull()]\n",
       "n_missing_prices = len(missing_price_reviews)\n",
       "# Cute alternative solution: if we sum a boolean series, True is treated as 1 and False as 0\n",
       "n_missing_prices = reviews.price.isnull().sum()\n",
       "# or equivalently:\n",
       "n_missing_prices = pd.isnull(reviews.price).sum()\n",
       "\n",
       "```"
      ]
     },
     "metadata": {},
     "output_type": "display_data"
    }
   ],
   "source": [
    "q3.hint()\n",
    "q3.solution()"
   ]
  },
  {
   "cell_type": "markdown",
   "id": "6c21e8ab",
   "metadata": {
    "papermill": {
     "duration": 0.005575,
     "end_time": "2023-04-28T16:19:56.457626",
     "exception": false,
     "start_time": "2023-04-28T16:19:56.452051",
     "status": "completed"
    },
    "tags": []
   },
   "source": [
    "## 4.\n",
    "What are the most common wine-producing regions? Create a Series counting the number of times each value occurs in the `region_1` field. This field is often missing data, so replace missing values with `Unknown`. Sort in descending order.  Your output should look something like this:\n",
    "\n",
    "```\n",
    "Unknown                    21247\n",
    "Napa Valley                 4480\n",
    "                           ...  \n",
    "Bardolino Superiore            1\n",
    "Primitivo del Tarantino        1\n",
    "Name: region_1, Length: 1230, dtype: int64\n",
    "```"
   ]
  },
  {
   "cell_type": "code",
   "execution_count": 8,
   "id": "5b14ae1b",
   "metadata": {
    "execution": {
     "iopub.execute_input": "2023-04-28T16:19:56.471268Z",
     "iopub.status.busy": "2023-04-28T16:19:56.470475Z",
     "iopub.status.idle": "2023-04-28T16:19:56.523063Z",
     "shell.execute_reply": "2023-04-28T16:19:56.521920Z"
    },
    "papermill": {
     "duration": 0.061804,
     "end_time": "2023-04-28T16:19:56.525272",
     "exception": false,
     "start_time": "2023-04-28T16:19:56.463468",
     "status": "completed"
    },
    "tags": []
   },
   "outputs": [
    {
     "data": {
      "application/javascript": [
       "parent.postMessage({\"jupyterEvent\": \"custom.exercise_interaction\", \"data\": {\"outcomeType\": 1, \"valueTowardsCompletion\": 0.25, \"interactionType\": 1, \"questionType\": 2, \"questionId\": \"4_ReviewsPerRegion\", \"learnToolsVersion\": \"0.3.4\", \"failureMessage\": \"\", \"exceptionClass\": \"\", \"trace\": \"\"}}, \"*\")"
      ],
      "text/plain": [
       "<IPython.core.display.Javascript object>"
      ]
     },
     "metadata": {},
     "output_type": "display_data"
    },
    {
     "data": {
      "text/markdown": [
       "<span style=\"color:#33cc33\">Correct</span>"
      ],
      "text/plain": [
       "Correct"
      ]
     },
     "metadata": {},
     "output_type": "display_data"
    },
    {
     "name": "stdout",
     "output_type": "stream",
     "text": [
      "<class 'pandas.core.series.Series'>\n"
     ]
    },
    {
     "data": {
      "text/plain": [
       "Unknown                 21247\n",
       "Napa Valley              4480\n",
       "Columbia Valley (WA)     4124\n",
       "Russian River Valley     3091\n",
       "California               2629\n",
       "                        ...  \n",
       "Offida Rosso                1\n",
       "Corton Perrières            1\n",
       "Isle St. George             1\n",
       "Geelong                     1\n",
       "Paestum                     1\n",
       "Name: region_1, Length: 1230, dtype: int64"
      ]
     },
     "execution_count": 8,
     "metadata": {},
     "output_type": "execute_result"
    }
   ],
   "source": [
    "reviews_per_region = reviews['region_1'].fillna('Unknown').value_counts().sort_values(ascending=False)\n",
    "\n",
    "# Check your answer\n",
    "q4.check()\n",
    "print(type(reviews_per_region))\n",
    "reviews_per_region"
   ]
  },
  {
   "cell_type": "code",
   "execution_count": 9,
   "id": "7c6695f8",
   "metadata": {
    "execution": {
     "iopub.execute_input": "2023-04-28T16:19:56.539578Z",
     "iopub.status.busy": "2023-04-28T16:19:56.538801Z",
     "iopub.status.idle": "2023-04-28T16:19:56.548919Z",
     "shell.execute_reply": "2023-04-28T16:19:56.547707Z"
    },
    "papermill": {
     "duration": 0.019522,
     "end_time": "2023-04-28T16:19:56.551061",
     "exception": false,
     "start_time": "2023-04-28T16:19:56.531539",
     "status": "completed"
    },
    "tags": []
   },
   "outputs": [
    {
     "data": {
      "application/javascript": [
       "parent.postMessage({\"jupyterEvent\": \"custom.exercise_interaction\", \"data\": {\"interactionType\": 3, \"questionType\": 2, \"questionId\": \"4_ReviewsPerRegion\", \"learnToolsVersion\": \"0.3.4\", \"valueTowardsCompletion\": 0.0, \"failureMessage\": \"\", \"exceptionClass\": \"\", \"trace\": \"\", \"outcomeType\": 4}}, \"*\")"
      ],
      "text/plain": [
       "<IPython.core.display.Javascript object>"
      ]
     },
     "metadata": {},
     "output_type": "display_data"
    },
    {
     "data": {
      "text/markdown": [
       "<span style=\"color:#33cc99\">Solution:</span> \n",
       "```python\n",
       "reviews_per_region = reviews.region_1.fillna('Unknown').value_counts().sort_values(ascending=False)\n",
       "```"
      ],
      "text/plain": [
       "Solution: \n",
       "```python\n",
       "reviews_per_region = reviews.region_1.fillna('Unknown').value_counts().sort_values(ascending=False)\n",
       "```"
      ]
     },
     "metadata": {},
     "output_type": "display_data"
    }
   ],
   "source": [
    "# q4.hint()\n",
    "q4.solution()"
   ]
  },
  {
   "cell_type": "markdown",
   "id": "fb7b1249",
   "metadata": {
    "papermill": {
     "duration": 0.006243,
     "end_time": "2023-04-28T16:19:56.563684",
     "exception": false,
     "start_time": "2023-04-28T16:19:56.557441",
     "status": "completed"
    },
    "tags": []
   },
   "source": [
    "# Keep going\n",
    "\n",
    "Move on to **[renaming and combining](https://www.kaggle.com/residentmario/renaming-and-combining)**."
   ]
  },
  {
   "cell_type": "markdown",
   "id": "7d7267fc",
   "metadata": {
    "papermill": {
     "duration": 0.006233,
     "end_time": "2023-04-28T16:19:56.576376",
     "exception": false,
     "start_time": "2023-04-28T16:19:56.570143",
     "status": "completed"
    },
    "tags": []
   },
   "source": [
    "---\n",
    "\n",
    "\n",
    "\n",
    "\n",
    "*Have questions or comments? Visit the [course discussion forum](https://www.kaggle.com/learn/pandas/discussion) to chat with other learners.*"
   ]
  }
 ],
 "metadata": {
  "kernelspec": {
   "display_name": "Python 3",
   "language": "python",
   "name": "python3"
  },
  "language_info": {
   "codemirror_mode": {
    "name": "ipython",
    "version": 3
   },
   "file_extension": ".py",
   "mimetype": "text/x-python",
   "name": "python",
   "nbconvert_exporter": "python",
   "pygments_lexer": "ipython3",
   "version": "3.7.12"
  },
  "papermill": {
   "default_parameters": {},
   "duration": 13.947594,
   "end_time": "2023-04-28T16:19:57.304278",
   "environment_variables": {},
   "exception": null,
   "input_path": "__notebook__.ipynb",
   "output_path": "__notebook__.ipynb",
   "parameters": {},
   "start_time": "2023-04-28T16:19:43.356684",
   "version": "2.4.0"
  }
 },
 "nbformat": 4,
 "nbformat_minor": 5
}
