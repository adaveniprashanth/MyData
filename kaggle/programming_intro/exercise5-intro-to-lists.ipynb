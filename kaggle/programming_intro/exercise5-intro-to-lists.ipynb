{
 "cells": [
  {
   "cell_type": "markdown",
   "id": "965ee216",
   "metadata": {
    "papermill": {
     "duration": 0.00735,
     "end_time": "2023-06-21T13:03:55.724541",
     "exception": false,
     "start_time": "2023-06-21T13:03:55.717191",
     "status": "completed"
    },
    "tags": []
   },
   "source": [
    "**This notebook is an exercise in the [Intro to Programming](https://www.kaggle.com/learn/intro-to-programming) course.  You can reference the tutorial at [this link](https://www.kaggle.com/alexisbcook/intro-to-lists).**\n",
    "\n",
    "---\n"
   ]
  },
  {
   "cell_type": "markdown",
   "id": "efa8b99f",
   "metadata": {
    "papermill": {
     "duration": 0.006128,
     "end_time": "2023-06-21T13:03:55.736936",
     "exception": false,
     "start_time": "2023-06-21T13:03:55.730808",
     "status": "completed"
    },
    "tags": []
   },
   "source": [
    "In the tutorial, you learned how to define and modify Python lists.  In this exercise, you will use your new knowledge to solve several problems.\n",
    "\n",
    "# Set up the notebook\n",
    "\n",
    "Run the next code cell without changes to set up the notebook."
   ]
  },
  {
   "cell_type": "code",
   "execution_count": 1,
   "id": "74c294ad",
   "metadata": {
    "execution": {
     "iopub.execute_input": "2023-06-21T13:03:55.750986Z",
     "iopub.status.busy": "2023-06-21T13:03:55.750274Z",
     "iopub.status.idle": "2023-06-21T13:03:55.805004Z",
     "shell.execute_reply": "2023-06-21T13:03:55.803487Z"
    },
    "papermill": {
     "duration": 0.065386,
     "end_time": "2023-06-21T13:03:55.808236",
     "exception": false,
     "start_time": "2023-06-21T13:03:55.742850",
     "status": "completed"
    },
    "tags": []
   },
   "outputs": [
    {
     "name": "stdout",
     "output_type": "stream",
     "text": [
      "Setup complete.\n"
     ]
    }
   ],
   "source": [
    "from learntools.core import binder\n",
    "binder.bind(globals())\n",
    "from learntools.intro_to_programming.ex5 import *\n",
    "print('Setup complete.')"
   ]
  },
  {
   "cell_type": "markdown",
   "id": "c095bf06",
   "metadata": {
    "papermill": {
     "duration": 0.005534,
     "end_time": "2023-06-21T13:03:55.819985",
     "exception": false,
     "start_time": "2023-06-21T13:03:55.814451",
     "status": "completed"
    },
    "tags": []
   },
   "source": [
    "# Question 1\n",
    "\n",
    "You own a restaurant with five food dishes, organized in the Python list `menu` below.  One day, you decide to:\n",
    "- remove bean soup (`'bean soup'`) from the menu, and\n",
    "- add roasted beet salad (`'roasted beet salad'`) to the menu.\n",
    "\n",
    "Implement this change to the list below.  While completing this task, \n",
    "- do not change the line that creates the `menu` list.  \n",
    "- your answer should use `.remove()` and `.append()`.  "
   ]
  },
  {
   "cell_type": "code",
   "execution_count": 2,
   "id": "16a53815",
   "metadata": {
    "execution": {
     "iopub.execute_input": "2023-06-21T13:03:55.834656Z",
     "iopub.status.busy": "2023-06-21T13:03:55.834284Z",
     "iopub.status.idle": "2023-06-21T13:03:55.844944Z",
     "shell.execute_reply": "2023-06-21T13:03:55.843871Z"
    },
    "papermill": {
     "duration": 0.021211,
     "end_time": "2023-06-21T13:03:55.846959",
     "exception": false,
     "start_time": "2023-06-21T13:03:55.825748",
     "status": "completed"
    },
    "tags": []
   },
   "outputs": [
    {
     "data": {
      "application/javascript": [
       "parent.postMessage({\"jupyterEvent\": \"custom.exercise_interaction\", \"data\": {\"outcomeType\": 1, \"valueTowardsCompletion\": 0.2, \"interactionType\": 1, \"questionType\": 2, \"questionId\": \"1_FoodMenu\", \"learnToolsVersion\": \"0.3.4\", \"failureMessage\": \"\", \"exceptionClass\": \"\", \"trace\": \"\"}}, \"*\")"
      ],
      "text/plain": [
       "<IPython.core.display.Javascript object>"
      ]
     },
     "metadata": {},
     "output_type": "display_data"
    },
    {
     "data": {
      "text/markdown": [
       "<span style=\"color:#33cc33\">Correct</span>"
      ],
      "text/plain": [
       "Correct"
      ]
     },
     "metadata": {},
     "output_type": "display_data"
    }
   ],
   "source": [
    "# Do not change: Initial menu for your restaurant\n",
    "menu = ['stewed meat with onions', 'bean soup', 'risotto with trout and shrimp',\n",
    "       'fish soup with cream and onion', 'gyro']\n",
    "\n",
    "# TODO: remove 'bean soup', and add 'roasted beet salad' to the end of the menu\n",
    "menu.remove('bean soup')\n",
    "menu.append('roasted beet salad')\n",
    "\n",
    "# Do not change: Check your answer\n",
    "q1.check()"
   ]
  },
  {
   "cell_type": "code",
   "execution_count": 3,
   "id": "5b9a6cce",
   "metadata": {
    "execution": {
     "iopub.execute_input": "2023-06-21T13:03:55.861185Z",
     "iopub.status.busy": "2023-06-21T13:03:55.860512Z",
     "iopub.status.idle": "2023-06-21T13:03:55.864318Z",
     "shell.execute_reply": "2023-06-21T13:03:55.863552Z"
    },
    "papermill": {
     "duration": 0.013315,
     "end_time": "2023-06-21T13:03:55.866319",
     "exception": false,
     "start_time": "2023-06-21T13:03:55.853004",
     "status": "completed"
    },
    "tags": []
   },
   "outputs": [],
   "source": [
    "# Uncomment to see a hint\n",
    "#q1.hint()\n",
    "\n",
    "# Uncomment to see the solution\n",
    "#q1.solution()"
   ]
  },
  {
   "cell_type": "markdown",
   "id": "6d37861f",
   "metadata": {
    "papermill": {
     "duration": 0.005819,
     "end_time": "2023-06-21T13:03:55.878496",
     "exception": false,
     "start_time": "2023-06-21T13:03:55.872677",
     "status": "completed"
    },
    "tags": []
   },
   "source": [
    "# Question 2\n",
    "\n",
    "The list `num_customers` contains the number of customers who came into your restaurant every day over the last month (which lasted thirty days).  Fill in values for each of the following:\n",
    "- `avg_first_seven` - average number of customers who visited in the first seven days\n",
    "- `avg_last_seven` - average number of customers who visited in the last seven days\n",
    "- `max_month` - number of customers on the day that got the most customers in the last month\n",
    "- `min_month` - number of customers on the day that got the least customers in the last month\n",
    "\n",
    "Answer this question by writing code.  For instance, if you have to find the minimum value in a list, use `min()` instead of scanning for the smallest value and directly filling in a number."
   ]
  },
  {
   "cell_type": "code",
   "execution_count": 4,
   "id": "e7476d63",
   "metadata": {
    "execution": {
     "iopub.execute_input": "2023-06-21T13:03:55.892234Z",
     "iopub.status.busy": "2023-06-21T13:03:55.891829Z",
     "iopub.status.idle": "2023-06-21T13:03:55.902138Z",
     "shell.execute_reply": "2023-06-21T13:03:55.901059Z"
    },
    "papermill": {
     "duration": 0.019821,
     "end_time": "2023-06-21T13:03:55.904357",
     "exception": false,
     "start_time": "2023-06-21T13:03:55.884536",
     "status": "completed"
    },
    "tags": []
   },
   "outputs": [
    {
     "data": {
      "application/javascript": [
       "parent.postMessage({\"jupyterEvent\": \"custom.exercise_interaction\", \"data\": {\"outcomeType\": 1, \"valueTowardsCompletion\": 0.2, \"interactionType\": 1, \"questionType\": 1, \"questionId\": \"2_NumCustomers\", \"learnToolsVersion\": \"0.3.4\", \"failureMessage\": \"\", \"exceptionClass\": \"\", \"trace\": \"\"}}, \"*\")"
      ],
      "text/plain": [
       "<IPython.core.display.Javascript object>"
      ]
     },
     "metadata": {},
     "output_type": "display_data"
    },
    {
     "data": {
      "text/markdown": [
       "<span style=\"color:#33cc33\">Correct</span>"
      ],
      "text/plain": [
       "Correct"
      ]
     },
     "metadata": {},
     "output_type": "display_data"
    }
   ],
   "source": [
    "# Do not change: Number of customers each day for the last month\n",
    "num_customers = [137, 147, 135, 128, 170, 174, 165, 146, 126, 159,\n",
    "                 141, 148, 132, 147, 168, 153, 170, 161, 148, 152,\n",
    "                 141, 151, 131, 149, 164, 163, 143, 143, 166, 171]\n",
    "\n",
    "# TODO: Fill in values for the variables below\n",
    "avg_first_seven = sum(num_customers[:7])/7\n",
    "avg_last_seven = sum(num_customers[-7:])/7\n",
    "max_month = max(num_customers)\n",
    "min_month = min(num_customers)\n",
    "\n",
    "# Do not change: Check your answer\n",
    "q2.check()"
   ]
  },
  {
   "cell_type": "code",
   "execution_count": 5,
   "id": "80ccc917",
   "metadata": {
    "execution": {
     "iopub.execute_input": "2023-06-21T13:03:55.919278Z",
     "iopub.status.busy": "2023-06-21T13:03:55.918513Z",
     "iopub.status.idle": "2023-06-21T13:03:55.923098Z",
     "shell.execute_reply": "2023-06-21T13:03:55.922028Z"
    },
    "papermill": {
     "duration": 0.014854,
     "end_time": "2023-06-21T13:03:55.925629",
     "exception": false,
     "start_time": "2023-06-21T13:03:55.910775",
     "status": "completed"
    },
    "tags": []
   },
   "outputs": [],
   "source": [
    "# Uncomment to see a hint\n",
    "#q2.hint()\n",
    "\n",
    "# Uncomment to see the solution\n",
    "#q2.solution()"
   ]
  },
  {
   "cell_type": "markdown",
   "id": "a56b9d7c",
   "metadata": {
    "papermill": {
     "duration": 0.005982,
     "end_time": "2023-06-21T13:03:55.938031",
     "exception": false,
     "start_time": "2023-06-21T13:03:55.932049",
     "status": "completed"
    },
    "tags": []
   },
   "source": [
    "# Question 3\n",
    "\n",
    "In the tutorial, we gave an example of a Python string with information that was better as a list."
   ]
  },
  {
   "cell_type": "code",
   "execution_count": 6,
   "id": "437ca527",
   "metadata": {
    "execution": {
     "iopub.execute_input": "2023-06-21T13:03:55.952149Z",
     "iopub.status.busy": "2023-06-21T13:03:55.951765Z",
     "iopub.status.idle": "2023-06-21T13:03:55.956373Z",
     "shell.execute_reply": "2023-06-21T13:03:55.955383Z"
    },
    "papermill": {
     "duration": 0.014239,
     "end_time": "2023-06-21T13:03:55.958550",
     "exception": false,
     "start_time": "2023-06-21T13:03:55.944311",
     "status": "completed"
    },
    "tags": []
   },
   "outputs": [],
   "source": [
    "flowers = \"pink primrose,hard-leaved pocket orchid,canterbury bells,sweet pea,english marigold,tiger lily,moon orchid,bird of paradise,monkshood,globe thistle\""
   ]
  },
  {
   "cell_type": "markdown",
   "id": "475fc627",
   "metadata": {
    "papermill": {
     "duration": 0.006029,
     "end_time": "2023-06-21T13:03:55.971359",
     "exception": false,
     "start_time": "2023-06-21T13:03:55.965330",
     "status": "completed"
    },
    "tags": []
   },
   "source": [
    "You can actually use Python to quickly turn this string into a list with `.split()`.  In the parentheses, we need to provide the character should be used to mark the end of one list item and the beginning of another, and enclose it in quotation marks.  In this case, that character is a comma."
   ]
  },
  {
   "cell_type": "code",
   "execution_count": 7,
   "id": "95ead98a",
   "metadata": {
    "execution": {
     "iopub.execute_input": "2023-06-21T13:03:55.985627Z",
     "iopub.status.busy": "2023-06-21T13:03:55.985230Z",
     "iopub.status.idle": "2023-06-21T13:03:55.990993Z",
     "shell.execute_reply": "2023-06-21T13:03:55.989772Z"
    },
    "papermill": {
     "duration": 0.015566,
     "end_time": "2023-06-21T13:03:55.993231",
     "exception": false,
     "start_time": "2023-06-21T13:03:55.977665",
     "status": "completed"
    },
    "tags": []
   },
   "outputs": [
    {
     "name": "stdout",
     "output_type": "stream",
     "text": [
      "['pink primrose', 'hard-leaved pocket orchid', 'canterbury bells', 'sweet pea', 'english marigold', 'tiger lily', 'moon orchid', 'bird of paradise', 'monkshood', 'globe thistle']\n"
     ]
    }
   ],
   "source": [
    " print(flowers.split(\",\"))"
   ]
  },
  {
   "cell_type": "markdown",
   "id": "99f5f367",
   "metadata": {
    "papermill": {
     "duration": 0.006205,
     "end_time": "2023-06-21T13:03:56.006214",
     "exception": false,
     "start_time": "2023-06-21T13:03:56.000009",
     "status": "completed"
    },
    "tags": []
   },
   "source": [
    "Now it is your turn to try this out!  Create two Python lists:\n",
    "- `letters` should be a Python list where each entry is an uppercase letter of the English alphabet.  For instance, the first two entries should be `\"A\"` and `\"B\"`, and the final two entries should be `\"Y\"` and `\"Z\"`.  Use the string `alphabet` to create this list.\n",
    "- `address` should be a Python list where each row in `address` is a different item in the list.  Currently, each row in `address` is separated by a comma. "
   ]
  },
  {
   "cell_type": "code",
   "execution_count": 8,
   "id": "771fdccd",
   "metadata": {
    "execution": {
     "iopub.execute_input": "2023-06-21T13:03:56.020867Z",
     "iopub.status.busy": "2023-06-21T13:03:56.020484Z",
     "iopub.status.idle": "2023-06-21T13:03:56.029540Z",
     "shell.execute_reply": "2023-06-21T13:03:56.028513Z"
    },
    "papermill": {
     "duration": 0.019036,
     "end_time": "2023-06-21T13:03:56.031580",
     "exception": false,
     "start_time": "2023-06-21T13:03:56.012544",
     "status": "completed"
    },
    "tags": []
   },
   "outputs": [
    {
     "data": {
      "application/javascript": [
       "parent.postMessage({\"jupyterEvent\": \"custom.exercise_interaction\", \"data\": {\"outcomeType\": 1, \"valueTowardsCompletion\": 0.2, \"interactionType\": 1, \"questionType\": 1, \"questionId\": \"3_SplitString\", \"learnToolsVersion\": \"0.3.4\", \"failureMessage\": \"\", \"exceptionClass\": \"\", \"trace\": \"\"}}, \"*\")"
      ],
      "text/plain": [
       "<IPython.core.display.Javascript object>"
      ]
     },
     "metadata": {},
     "output_type": "display_data"
    },
    {
     "data": {
      "text/markdown": [
       "<span style=\"color:#33cc33\">Correct</span>"
      ],
      "text/plain": [
       "Correct"
      ]
     },
     "metadata": {},
     "output_type": "display_data"
    }
   ],
   "source": [
    "# DO not change: Define two Python strings\n",
    "alphabet = \"A.B.C.D.E.F.G.H.I.J.K.L.M.N.O.P.Q.R.S.T.U.V.W.X.Y.Z\"\n",
    "address = \"Mr. H. Potter,The cupboard under the Stairs,4 Privet Drive,Little Whinging,Surrey\"\n",
    "\n",
    "# TODO: Convert strings into Python lists\n",
    "letters = alphabet.split(\".\")\n",
    "formatted_address = address.split(\",\")\n",
    "\n",
    "# Do not change: Check your answer\n",
    "q3.check()"
   ]
  },
  {
   "cell_type": "code",
   "execution_count": 9,
   "id": "82251988",
   "metadata": {
    "execution": {
     "iopub.execute_input": "2023-06-21T13:03:56.047094Z",
     "iopub.status.busy": "2023-06-21T13:03:56.046607Z",
     "iopub.status.idle": "2023-06-21T13:03:56.051244Z",
     "shell.execute_reply": "2023-06-21T13:03:56.049793Z"
    },
    "papermill": {
     "duration": 0.015167,
     "end_time": "2023-06-21T13:03:56.053563",
     "exception": false,
     "start_time": "2023-06-21T13:03:56.038396",
     "status": "completed"
    },
    "tags": []
   },
   "outputs": [],
   "source": [
    "# Uncomment to see a hint\n",
    "#q3.hint()\n",
    "\n",
    "# Uncomment to see the solution\n",
    "#q3.solution()"
   ]
  },
  {
   "cell_type": "markdown",
   "id": "0a708d0c",
   "metadata": {
    "papermill": {
     "duration": 0.006323,
     "end_time": "2023-06-21T13:03:56.066692",
     "exception": false,
     "start_time": "2023-06-21T13:03:56.060369",
     "status": "completed"
    },
    "tags": []
   },
   "source": [
    "# Question 4\n",
    "\n",
    "In the Python course, you'll learn all about **list comprehensions**, which allow you to create a list based on the values in another list.  In this question, you'll get a brief preview of how they work.\n",
    "\n",
    "Say we're working with the list below."
   ]
  },
  {
   "cell_type": "code",
   "execution_count": 10,
   "id": "c575f532",
   "metadata": {
    "execution": {
     "iopub.execute_input": "2023-06-21T13:03:56.082909Z",
     "iopub.status.busy": "2023-06-21T13:03:56.082250Z",
     "iopub.status.idle": "2023-06-21T13:03:56.089070Z",
     "shell.execute_reply": "2023-06-21T13:03:56.087442Z"
    },
    "papermill": {
     "duration": 0.01864,
     "end_time": "2023-06-21T13:03:56.091997",
     "exception": false,
     "start_time": "2023-06-21T13:03:56.073357",
     "status": "completed"
    },
    "tags": []
   },
   "outputs": [],
   "source": [
    "test_ratings = [1, 2, 3, 4, 5]"
   ]
  },
  {
   "cell_type": "markdown",
   "id": "26f530cb",
   "metadata": {
    "papermill": {
     "duration": 0.008788,
     "end_time": "2023-06-21T13:03:56.110392",
     "exception": false,
     "start_time": "2023-06-21T13:03:56.101604",
     "status": "completed"
    },
    "tags": []
   },
   "source": [
    "Then we can use this list (`test_ratings`) to create a new list (`test_liked`) where each item has been turned into a boolean, depending on whether or not the item is greater than or equal to four."
   ]
  },
  {
   "cell_type": "code",
   "execution_count": 11,
   "id": "54d503c7",
   "metadata": {
    "execution": {
     "iopub.execute_input": "2023-06-21T13:03:56.127142Z",
     "iopub.status.busy": "2023-06-21T13:03:56.126748Z",
     "iopub.status.idle": "2023-06-21T13:03:56.132017Z",
     "shell.execute_reply": "2023-06-21T13:03:56.130857Z"
    },
    "papermill": {
     "duration": 0.016256,
     "end_time": "2023-06-21T13:03:56.134680",
     "exception": false,
     "start_time": "2023-06-21T13:03:56.118424",
     "status": "completed"
    },
    "tags": []
   },
   "outputs": [
    {
     "name": "stdout",
     "output_type": "stream",
     "text": [
      "[False, False, False, True, True]\n"
     ]
    }
   ],
   "source": [
    "test_liked = [i>=4 for i in test_ratings]\n",
    "print(test_liked)"
   ]
  },
  {
   "cell_type": "markdown",
   "id": "7a2d8eb5",
   "metadata": {
    "papermill": {
     "duration": 0.006521,
     "end_time": "2023-06-21T13:03:56.148186",
     "exception": false,
     "start_time": "2023-06-21T13:03:56.141665",
     "status": "completed"
    },
    "tags": []
   },
   "source": [
    "In this question, you'll use this list comprehension to define a function `percentage_liked()` that takes one argument as input:\n",
    "- `ratings`: list of ratings that people gave to a movie, where each rating is a number between 1-5, inclusive\n",
    "\n",
    "We say someone liked the movie, if they gave a rating of either 4 or 5.  Your function should return the percentage of people who liked the movie.\n",
    "\n",
    "For instance, if we supply a value of `[1, 2, 3, 4, 5, 4, 5, 1]`, then 50% (4/8) of the people liked the movie, and the function should return `0.5`.\n",
    "\n",
    "Part of the function has already been completed for you.  You need only use `list_liked` to calculate `percentage_liked`."
   ]
  },
  {
   "cell_type": "code",
   "execution_count": 12,
   "id": "904d53cf",
   "metadata": {
    "execution": {
     "iopub.execute_input": "2023-06-21T13:03:56.164882Z",
     "iopub.status.busy": "2023-06-21T13:03:56.164490Z",
     "iopub.status.idle": "2023-06-21T13:03:56.173923Z",
     "shell.execute_reply": "2023-06-21T13:03:56.172750Z"
    },
    "papermill": {
     "duration": 0.020995,
     "end_time": "2023-06-21T13:03:56.176044",
     "exception": false,
     "start_time": "2023-06-21T13:03:56.155049",
     "status": "completed"
    },
    "tags": []
   },
   "outputs": [
    {
     "data": {
      "application/javascript": [
       "parent.postMessage({\"jupyterEvent\": \"custom.exercise_interaction\", \"data\": {\"outcomeType\": 1, \"valueTowardsCompletion\": 0.2, \"interactionType\": 1, \"questionType\": 2, \"questionId\": \"4_PercentageLiked\", \"learnToolsVersion\": \"0.3.4\", \"failureMessage\": \"\", \"exceptionClass\": \"\", \"trace\": \"\"}}, \"*\")"
      ],
      "text/plain": [
       "<IPython.core.display.Javascript object>"
      ]
     },
     "metadata": {},
     "output_type": "display_data"
    },
    {
     "data": {
      "text/markdown": [
       "<span style=\"color:#33cc33\">Correct</span>"
      ],
      "text/plain": [
       "Correct"
      ]
     },
     "metadata": {},
     "output_type": "display_data"
    }
   ],
   "source": [
    "\n",
    "def percentage_liked(ratings):\n",
    "    list_liked = [i>=4 for i in ratings]\n",
    "    # TODO: Complete the function\n",
    "    percentage_liked = sum(list_liked)/len(list_liked)\n",
    "    return percentage_liked\n",
    "\n",
    "# Do not change: should return 0.5\n",
    "percentage_liked([1, 2, 3, 4, 5, 4, 5, 1])\n",
    "\n",
    "# Do not change: Check your answer\n",
    "q4.check()"
   ]
  },
  {
   "cell_type": "code",
   "execution_count": 13,
   "id": "48939506",
   "metadata": {
    "execution": {
     "iopub.execute_input": "2023-06-21T13:03:56.191648Z",
     "iopub.status.busy": "2023-06-21T13:03:56.191275Z",
     "iopub.status.idle": "2023-06-21T13:03:56.196446Z",
     "shell.execute_reply": "2023-06-21T13:03:56.195210Z"
    },
    "papermill": {
     "duration": 0.015755,
     "end_time": "2023-06-21T13:03:56.198844",
     "exception": false,
     "start_time": "2023-06-21T13:03:56.183089",
     "status": "completed"
    },
    "tags": []
   },
   "outputs": [],
   "source": [
    "# Uncomment to see a hint\n",
    "#q4.hint()\n",
    "\n",
    "# Uncomment to see the solution\n",
    "#q4.solution()"
   ]
  },
  {
   "cell_type": "markdown",
   "id": "e14a055b",
   "metadata": {
    "papermill": {
     "duration": 0.006745,
     "end_time": "2023-06-21T13:03:56.212971",
     "exception": false,
     "start_time": "2023-06-21T13:03:56.206226",
     "status": "completed"
    },
    "tags": []
   },
   "source": [
    "# 🌶️ Question 5\n",
    " \n",
    "Say you're doing analytics for a website.  You need to write a function that returns the percentage growth in the total number of users relative to a specified number of years ago.\n",
    "\n",
    "Your function `percentage_growth()` should take two arguments as input:\n",
    "- `num_users` = Python list with the total number of users each year.  So `num_users[0]` is the total number of users in the first year, `num_users[1]` is the total number of users in the second year, and so on.  The final entry in the list gives the total number of users in the most recently completed year.\n",
    "- `yrs_ago` = number of years to go back in time when calculating the growth percentage\n",
    "\n",
    "For instance, say `num_users = [920344, 1043553, 1204334, 1458996, 1503323, 1593432, 1623463, 1843064, 1930992, 2001078]`.\n",
    "- if `yrs_ago = 1`, we want the function to return a value of about `0.036`. This corresponds to a percentage growth of approximately 3.6%, calculated as (2001078 - 1930992)/1930992.\n",
    "- if `years_ago = 7`, we would want to return approximately `0.66`.  This corresponds to a percentage growth of approximately 66%, calculated as (2001078 - 1204334)/1204334.\n",
    "\n",
    "Your coworker sent you a draft of a function, but it doesn't seem to be doing the correct calculation.  Can you figure out what has gone wrong and make the needed changes?"
   ]
  },
  {
   "cell_type": "code",
   "execution_count": 14,
   "id": "7945f012",
   "metadata": {
    "execution": {
     "iopub.execute_input": "2023-06-21T13:03:56.228472Z",
     "iopub.status.busy": "2023-06-21T13:03:56.228074Z",
     "iopub.status.idle": "2023-06-21T13:03:56.239509Z",
     "shell.execute_reply": "2023-06-21T13:03:56.238508Z"
    },
    "papermill": {
     "duration": 0.021715,
     "end_time": "2023-06-21T13:03:56.241677",
     "exception": false,
     "start_time": "2023-06-21T13:03:56.219962",
     "status": "completed"
    },
    "tags": []
   },
   "outputs": [
    {
     "name": "stdout",
     "output_type": "stream",
     "text": [
      "0.03629533421163837\n",
      "0.6615639847417742\n"
     ]
    },
    {
     "data": {
      "application/javascript": [
       "parent.postMessage({\"jupyterEvent\": \"custom.exercise_interaction\", \"data\": {\"outcomeType\": 1, \"valueTowardsCompletion\": 0.2, \"interactionType\": 1, \"questionType\": 2, \"questionId\": \"5_WebsiteAnalytics\", \"learnToolsVersion\": \"0.3.4\", \"failureMessage\": \"\", \"exceptionClass\": \"\", \"trace\": \"\"}}, \"*\")"
      ],
      "text/plain": [
       "<IPython.core.display.Javascript object>"
      ]
     },
     "metadata": {},
     "output_type": "display_data"
    },
    {
     "data": {
      "text/markdown": [
       "<span style=\"color:#33cc33\">Correct</span>"
      ],
      "text/plain": [
       "Correct"
      ]
     },
     "metadata": {},
     "output_type": "display_data"
    }
   ],
   "source": [
    "# TODO: Edit the function\n",
    "def percentage_growth(num_users, yrs_ago):\n",
    "    growth = (num_users[-1]-num_users[-(yrs_ago+1)])/num_users[-(yrs_ago+1)]\n",
    "    return growth\n",
    "\n",
    "# Do not change: Variable for calculating some test examples\n",
    "num_users_test = [920344, 1043553, 1204334, 1458996, 1503323, 1593432, 1623463, 1843064, 1930992, 2001078]\n",
    "\n",
    "# Do not change: Should return .036\n",
    "print(percentage_growth(num_users_test, 1))\n",
    "\n",
    "# Do not change: Should return 0.66\n",
    "print(percentage_growth(num_users_test, 7))\n",
    "\n",
    "# Do not change: Check your answer\n",
    "q5.check()"
   ]
  },
  {
   "cell_type": "code",
   "execution_count": 15,
   "id": "d10286d1",
   "metadata": {
    "execution": {
     "iopub.execute_input": "2023-06-21T13:03:56.258516Z",
     "iopub.status.busy": "2023-06-21T13:03:56.258108Z",
     "iopub.status.idle": "2023-06-21T13:03:56.262860Z",
     "shell.execute_reply": "2023-06-21T13:03:56.261751Z"
    },
    "papermill": {
     "duration": 0.015456,
     "end_time": "2023-06-21T13:03:56.264974",
     "exception": false,
     "start_time": "2023-06-21T13:03:56.249518",
     "status": "completed"
    },
    "tags": []
   },
   "outputs": [],
   "source": [
    "# Uncomment to see a hint\n",
    "#q5.hint()\n",
    "\n",
    "# Uncomment to see the solution\n",
    "#q5.solution()"
   ]
  },
  {
   "cell_type": "markdown",
   "id": "11d66ed6",
   "metadata": {
    "papermill": {
     "duration": 0.007117,
     "end_time": "2023-06-21T13:03:56.279526",
     "exception": false,
     "start_time": "2023-06-21T13:03:56.272409",
     "status": "completed"
    },
    "tags": []
   },
   "source": [
    "# Congratulations!\n",
    "\n",
    "Congratulations for finishing the Intro to Programming course!  You should be proud of your very first steps with learning programming.  As next steps, we recommend taking:\n",
    "- the **[Python course](http://www.kaggle.com/learn/python)**, and \n",
    "- the **[Intro to Machine Learning course](https://www.kaggle.com/learn/intro-to-machine-learning)**."
   ]
  },
  {
   "cell_type": "markdown",
   "id": "dc7931ad",
   "metadata": {
    "papermill": {
     "duration": 0.006958,
     "end_time": "2023-06-21T13:03:56.293736",
     "exception": false,
     "start_time": "2023-06-21T13:03:56.286778",
     "status": "completed"
    },
    "tags": []
   },
   "source": [
    "---\n",
    "\n",
    "\n",
    "\n",
    "\n",
    "*Have questions or comments? Visit the [course discussion forum](https://www.kaggle.com/learn/intro-to-programming/discussion) to chat with other learners.*"
   ]
  }
 ],
 "metadata": {
  "kernelspec": {
   "display_name": "Python 3",
   "language": "python",
   "name": "python3"
  },
  "language_info": {
   "codemirror_mode": {
    "name": "ipython",
    "version": 3
   },
   "file_extension": ".py",
   "mimetype": "text/x-python",
   "name": "python",
   "nbconvert_exporter": "python",
   "pygments_lexer": "ipython3",
   "version": "3.10.10"
  },
  "papermill": {
   "default_parameters": {},
   "duration": 11.546708,
   "end_time": "2023-06-21T13:03:57.122501",
   "environment_variables": {},
   "exception": null,
   "input_path": "__notebook__.ipynb",
   "output_path": "__notebook__.ipynb",
   "parameters": {},
   "start_time": "2023-06-21T13:03:45.575793",
   "version": "2.4.0"
  }
 },
 "nbformat": 4,
 "nbformat_minor": 5
}
