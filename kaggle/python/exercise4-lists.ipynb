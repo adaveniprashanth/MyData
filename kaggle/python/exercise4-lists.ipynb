{
 "cells": [
  {
   "cell_type": "markdown",
   "id": "0c1764f7",
   "metadata": {
    "papermill": {
     "duration": 0.005403,
     "end_time": "2023-05-06T04:01:43.219518",
     "exception": false,
     "start_time": "2023-05-06T04:01:43.214115",
     "status": "completed"
    },
    "tags": []
   },
   "source": [
    "**This notebook is an exercise in the [Python](https://www.kaggle.com/learn/python) course.  You can reference the tutorial at [this link](https://www.kaggle.com/colinmorris/lists).**\n",
    "\n",
    "---\n"
   ]
  },
  {
   "cell_type": "markdown",
   "id": "b6448d59",
   "metadata": {
    "papermill": {
     "duration": 0.004341,
     "end_time": "2023-05-06T04:01:43.229258",
     "exception": false,
     "start_time": "2023-05-06T04:01:43.224917",
     "status": "completed"
    },
    "tags": []
   },
   "source": [
    "Things get more interesting with lists. You'll apply your new knowledge to solve the questions below. Remember to run the following cell first."
   ]
  },
  {
   "cell_type": "code",
   "execution_count": 1,
   "id": "d444bd0f",
   "metadata": {
    "execution": {
     "iopub.execute_input": "2023-05-06T04:01:43.241075Z",
     "iopub.status.busy": "2023-05-06T04:01:43.240591Z",
     "iopub.status.idle": "2023-05-06T04:01:43.301739Z",
     "shell.execute_reply": "2023-05-06T04:01:43.300119Z"
    },
    "papermill": {
     "duration": 0.070547,
     "end_time": "2023-05-06T04:01:43.304432",
     "exception": false,
     "start_time": "2023-05-06T04:01:43.233885",
     "status": "completed"
    },
    "tags": []
   },
   "outputs": [
    {
     "name": "stdout",
     "output_type": "stream",
     "text": [
      "Setup complete.\n"
     ]
    }
   ],
   "source": [
    "from learntools.core import binder; binder.bind(globals())\n",
    "from learntools.python.ex4 import *\n",
    "print('Setup complete.')"
   ]
  },
  {
   "cell_type": "markdown",
   "id": "6f8d3877",
   "metadata": {
    "papermill": {
     "duration": 0.004527,
     "end_time": "2023-05-06T04:01:43.313783",
     "exception": false,
     "start_time": "2023-05-06T04:01:43.309256",
     "status": "completed"
    },
    "tags": []
   },
   "source": [
    "# 1.\n",
    "\n",
    "Complete the function below according to its docstring."
   ]
  },
  {
   "cell_type": "code",
   "execution_count": 2,
   "id": "ef8ca091",
   "metadata": {
    "execution": {
     "iopub.execute_input": "2023-05-06T04:01:43.325426Z",
     "iopub.status.busy": "2023-05-06T04:01:43.324814Z",
     "iopub.status.idle": "2023-05-06T04:01:43.333936Z",
     "shell.execute_reply": "2023-05-06T04:01:43.333008Z"
    },
    "papermill": {
     "duration": 0.017804,
     "end_time": "2023-05-06T04:01:43.336319",
     "exception": false,
     "start_time": "2023-05-06T04:01:43.318515",
     "status": "completed"
    },
    "tags": []
   },
   "outputs": [
    {
     "data": {
      "application/javascript": [
       "parent.postMessage({\"jupyterEvent\": \"custom.exercise_interaction\", \"data\": {\"outcomeType\": 1, \"valueTowardsCompletion\": 0.2, \"interactionType\": 1, \"questionType\": 2, \"questionId\": \"1_SelectSecondItem\", \"learnToolsVersion\": \"0.3.4\", \"failureMessage\": \"\", \"exceptionClass\": \"\", \"trace\": \"\"}}, \"*\")"
      ],
      "text/plain": [
       "<IPython.core.display.Javascript object>"
      ]
     },
     "metadata": {},
     "output_type": "display_data"
    },
    {
     "data": {
      "text/markdown": [
       "<span style=\"color:#33cc33\">Correct</span>"
      ],
      "text/plain": [
       "Correct"
      ]
     },
     "metadata": {},
     "output_type": "display_data"
    }
   ],
   "source": [
    "def select_second(L):\n",
    "    \"\"\"Return the second element of the given list. If the list has no second\n",
    "    element, return None.\n",
    "    \"\"\"\n",
    "    pass\n",
    "    if len(L) < 2:\n",
    "        return None\n",
    "    else:\n",
    "        return L[1]\n",
    "\n",
    "# Check your answer\n",
    "q1.check()"
   ]
  },
  {
   "cell_type": "code",
   "execution_count": 3,
   "id": "6d0676b9",
   "metadata": {
    "execution": {
     "iopub.execute_input": "2023-05-06T04:01:43.349711Z",
     "iopub.status.busy": "2023-05-06T04:01:43.349279Z",
     "iopub.status.idle": "2023-05-06T04:01:43.353917Z",
     "shell.execute_reply": "2023-05-06T04:01:43.352708Z"
    },
    "papermill": {
     "duration": 0.013848,
     "end_time": "2023-05-06T04:01:43.356409",
     "exception": false,
     "start_time": "2023-05-06T04:01:43.342561",
     "status": "completed"
    },
    "tags": []
   },
   "outputs": [],
   "source": [
    "#q1.hint()\n",
    "#q1.solution()"
   ]
  },
  {
   "cell_type": "markdown",
   "id": "19480c07",
   "metadata": {
    "papermill": {
     "duration": 0.005954,
     "end_time": "2023-05-06T04:01:43.367885",
     "exception": false,
     "start_time": "2023-05-06T04:01:43.361931",
     "status": "completed"
    },
    "tags": []
   },
   "source": [
    "# 2.\n",
    "\n",
    "You are analyzing sports teams.  Members of each team are stored in a list. The Coach is the first name in the list, the captain is the second name in the list, and other players are listed after that. \n",
    "These lists are stored in another list, which starts with the best team and proceeds through the list to the worst team last.  Complete the function below to select the **captain** of the worst team."
   ]
  },
  {
   "cell_type": "code",
   "execution_count": 4,
   "id": "62bda5c0",
   "metadata": {
    "execution": {
     "iopub.execute_input": "2023-05-06T04:01:43.381296Z",
     "iopub.status.busy": "2023-05-06T04:01:43.380892Z",
     "iopub.status.idle": "2023-05-06T04:01:43.389124Z",
     "shell.execute_reply": "2023-05-06T04:01:43.387907Z"
    },
    "papermill": {
     "duration": 0.019261,
     "end_time": "2023-05-06T04:01:43.392187",
     "exception": false,
     "start_time": "2023-05-06T04:01:43.372926",
     "status": "completed"
    },
    "tags": []
   },
   "outputs": [
    {
     "data": {
      "application/javascript": [
       "parent.postMessage({\"jupyterEvent\": \"custom.exercise_interaction\", \"data\": {\"outcomeType\": 1, \"valueTowardsCompletion\": 0.2, \"interactionType\": 1, \"questionType\": 2, \"questionId\": \"2_LosingTeamCaptain\", \"learnToolsVersion\": \"0.3.4\", \"failureMessage\": \"\", \"exceptionClass\": \"\", \"trace\": \"\"}}, \"*\")"
      ],
      "text/plain": [
       "<IPython.core.display.Javascript object>"
      ]
     },
     "metadata": {},
     "output_type": "display_data"
    },
    {
     "data": {
      "text/markdown": [
       "<span style=\"color:#33cc33\">Correct</span>"
      ],
      "text/plain": [
       "Correct"
      ]
     },
     "metadata": {},
     "output_type": "display_data"
    }
   ],
   "source": [
    "def losing_team_captain(teams):\n",
    "    \"\"\"Given a list of teams, where each team is a list of names, return the 2nd player (captain)\n",
    "    from the last listed team\n",
    "    \"\"\"\n",
    "    return teams[-1][1]\n",
    "    pass\n",
    "\n",
    "# Check your answer\n",
    "q2.check()"
   ]
  },
  {
   "cell_type": "code",
   "execution_count": 5,
   "id": "5cb0c36d",
   "metadata": {
    "collapsed": true,
    "execution": {
     "iopub.execute_input": "2023-05-06T04:01:43.404948Z",
     "iopub.status.busy": "2023-05-06T04:01:43.404529Z",
     "iopub.status.idle": "2023-05-06T04:01:43.409488Z",
     "shell.execute_reply": "2023-05-06T04:01:43.408147Z"
    },
    "jupyter": {
     "outputs_hidden": true
    },
    "papermill": {
     "duration": 0.014495,
     "end_time": "2023-05-06T04:01:43.412117",
     "exception": false,
     "start_time": "2023-05-06T04:01:43.397622",
     "status": "completed"
    },
    "tags": []
   },
   "outputs": [],
   "source": [
    "#q2.hint()\n",
    "#q2.solution()"
   ]
  },
  {
   "cell_type": "markdown",
   "id": "836c5da9",
   "metadata": {
    "papermill": {
     "duration": 0.005953,
     "end_time": "2023-05-06T04:01:43.423864",
     "exception": false,
     "start_time": "2023-05-06T04:01:43.417911",
     "status": "completed"
    },
    "tags": []
   },
   "source": [
    "# 3.\n",
    "\n",
    "The next iteration of Mario Kart will feature an extra-infuriating new item, the *Purple Shell*. When used, it warps the last place racer into first place and the first place racer into last place. Complete the function below to implement the Purple Shell's effect."
   ]
  },
  {
   "cell_type": "code",
   "execution_count": 6,
   "id": "275d2dbd",
   "metadata": {
    "execution": {
     "iopub.execute_input": "2023-05-06T04:01:43.436379Z",
     "iopub.status.busy": "2023-05-06T04:01:43.435965Z",
     "iopub.status.idle": "2023-05-06T04:01:43.446209Z",
     "shell.execute_reply": "2023-05-06T04:01:43.444875Z"
    },
    "papermill": {
     "duration": 0.019206,
     "end_time": "2023-05-06T04:01:43.448610",
     "exception": false,
     "start_time": "2023-05-06T04:01:43.429404",
     "status": "completed"
    },
    "tags": []
   },
   "outputs": [
    {
     "data": {
      "application/javascript": [
       "parent.postMessage({\"jupyterEvent\": \"custom.exercise_interaction\", \"data\": {\"outcomeType\": 1, \"valueTowardsCompletion\": 0.2, \"interactionType\": 1, \"questionType\": 2, \"questionId\": \"3_PurpleShell\", \"learnToolsVersion\": \"0.3.4\", \"failureMessage\": \"\", \"exceptionClass\": \"\", \"trace\": \"\"}}, \"*\")"
      ],
      "text/plain": [
       "<IPython.core.display.Javascript object>"
      ]
     },
     "metadata": {},
     "output_type": "display_data"
    },
    {
     "data": {
      "text/markdown": [
       "<span style=\"color:#33cc33\">Correct</span>"
      ],
      "text/plain": [
       "Correct"
      ]
     },
     "metadata": {},
     "output_type": "display_data"
    }
   ],
   "source": [
    "def purple_shell(racers):\n",
    "    \"\"\"Given a list of racers, set the first place racer (at the front of the list) to last\n",
    "    place and vice versa.\n",
    "    \n",
    "    >>> r = [\"Mario\", \"Bowser\", \"Luigi\"]\n",
    "    >>> purple_shell(r)\n",
    "    >>> r\n",
    "    [\"Luigi\", \"Bowser\", \"Mario\"]\n",
    "    \"\"\"\n",
    "    first = racers[0]\n",
    "    racers[0]=racers.pop()\n",
    "    racers.append(first)\n",
    "    pass\n",
    "\n",
    "# Check your answer\n",
    "q3.check()"
   ]
  },
  {
   "cell_type": "code",
   "execution_count": 7,
   "id": "a12398a5",
   "metadata": {
    "execution": {
     "iopub.execute_input": "2023-05-06T04:01:43.462104Z",
     "iopub.status.busy": "2023-05-06T04:01:43.461444Z",
     "iopub.status.idle": "2023-05-06T04:01:43.470843Z",
     "shell.execute_reply": "2023-05-06T04:01:43.469875Z"
    },
    "papermill": {
     "duration": 0.018877,
     "end_time": "2023-05-06T04:01:43.473132",
     "exception": false,
     "start_time": "2023-05-06T04:01:43.454255",
     "status": "completed"
    },
    "tags": []
   },
   "outputs": [
    {
     "data": {
      "application/javascript": [
       "parent.postMessage({\"jupyterEvent\": \"custom.exercise_interaction\", \"data\": {\"interactionType\": 3, \"questionType\": 2, \"questionId\": \"3_PurpleShell\", \"learnToolsVersion\": \"0.3.4\", \"valueTowardsCompletion\": 0.0, \"failureMessage\": \"\", \"exceptionClass\": \"\", \"trace\": \"\", \"outcomeType\": 4}}, \"*\")"
      ],
      "text/plain": [
       "<IPython.core.display.Javascript object>"
      ]
     },
     "metadata": {},
     "output_type": "display_data"
    },
    {
     "data": {
      "text/markdown": [
       "<span style=\"color:#33cc99\">Solution:</span> \n",
       "```python\n",
       "def purple_shell(racers):\n",
       "    # One slick way to do the swap is x[0], x[-1] = x[-1], x[0].\n",
       "    temp = racers[0]\n",
       "    racers[0] = racers[-1]\n",
       "    racers[-1] = temp\n",
       "```"
      ],
      "text/plain": [
       "Solution: \n",
       "```python\n",
       "def purple_shell(racers):\n",
       "    # One slick way to do the swap is x[0], x[-1] = x[-1], x[0].\n",
       "    temp = racers[0]\n",
       "    racers[0] = racers[-1]\n",
       "    racers[-1] = temp\n",
       "```"
      ]
     },
     "metadata": {},
     "output_type": "display_data"
    }
   ],
   "source": [
    "#q3.hint()\n",
    "q3.solution()"
   ]
  },
  {
   "cell_type": "markdown",
   "id": "65fc8585",
   "metadata": {
    "papermill": {
     "duration": 0.005656,
     "end_time": "2023-05-06T04:01:43.484503",
     "exception": false,
     "start_time": "2023-05-06T04:01:43.478847",
     "status": "completed"
    },
    "tags": []
   },
   "source": [
    "# 4.\n",
    "\n",
    "What are the lengths of the following lists? Fill in the variable `lengths` with your predictions. (Try to make a prediction for each list *without* just calling `len()` on it.)"
   ]
  },
  {
   "cell_type": "code",
   "execution_count": 8,
   "id": "ec9ae7e4",
   "metadata": {
    "execution": {
     "iopub.execute_input": "2023-05-06T04:01:43.498701Z",
     "iopub.status.busy": "2023-05-06T04:01:43.497519Z",
     "iopub.status.idle": "2023-05-06T04:01:43.509278Z",
     "shell.execute_reply": "2023-05-06T04:01:43.507991Z"
    },
    "papermill": {
     "duration": 0.021326,
     "end_time": "2023-05-06T04:01:43.511631",
     "exception": false,
     "start_time": "2023-05-06T04:01:43.490305",
     "status": "completed"
    },
    "tags": []
   },
   "outputs": [
    {
     "data": {
      "application/javascript": [
       "parent.postMessage({\"jupyterEvent\": \"custom.exercise_interaction\", \"data\": {\"outcomeType\": 1, \"valueTowardsCompletion\": 0.2, \"interactionType\": 1, \"questionType\": 1, \"questionId\": \"4_UnderstandLen\", \"learnToolsVersion\": \"0.3.4\", \"failureMessage\": \"\", \"exceptionClass\": \"\", \"trace\": \"\"}}, \"*\")"
      ],
      "text/plain": [
       "<IPython.core.display.Javascript object>"
      ]
     },
     "metadata": {},
     "output_type": "display_data"
    },
    {
     "data": {
      "text/markdown": [
       "<span style=\"color:#33cc33\">Correct:</span> \n",
       "\n",
       "\n",
       "- a: There are three items in this list. Nothing tricky yet.\n",
       "- b: The list `[2, 3]` counts as a single item. It has one item before it. So we have 2 items in the list\n",
       "- c: The empty list has 0 items\n",
       "- d: The expression is the same as the list `[2, 3]`, which has length 2."
      ],
      "text/plain": [
       "Correct: \n",
       "\n",
       "\n",
       "- a: There are three items in this list. Nothing tricky yet.\n",
       "- b: The list `[2, 3]` counts as a single item. It has one item before it. So we have 2 items in the list\n",
       "- c: The empty list has 0 items\n",
       "- d: The expression is the same as the list `[2, 3]`, which has length 2."
      ]
     },
     "metadata": {},
     "output_type": "display_data"
    }
   ],
   "source": [
    "a = [1, 2, 3]\n",
    "b = [1, [2, 3]]\n",
    "c = []\n",
    "d = [1, 2, 3][1:]\n",
    "\n",
    "# Put your predictions in the list below. Lengths should contain 4 numbers, the\n",
    "# first being the length of a, the second being the length of b and so on.\n",
    "lengths = [3,2,0,2]\n",
    "\n",
    "# Check your answer\n",
    "q4.check()"
   ]
  },
  {
   "cell_type": "code",
   "execution_count": 9,
   "id": "f2c34dc2",
   "metadata": {
    "collapsed": true,
    "execution": {
     "iopub.execute_input": "2023-05-06T04:01:43.525176Z",
     "iopub.status.busy": "2023-05-06T04:01:43.524814Z",
     "iopub.status.idle": "2023-05-06T04:01:43.529956Z",
     "shell.execute_reply": "2023-05-06T04:01:43.528535Z"
    },
    "jupyter": {
     "outputs_hidden": true
    },
    "papermill": {
     "duration": 0.014779,
     "end_time": "2023-05-06T04:01:43.532477",
     "exception": false,
     "start_time": "2023-05-06T04:01:43.517698",
     "status": "completed"
    },
    "tags": []
   },
   "outputs": [],
   "source": [
    "# line below provides some explanation\n",
    "#q4.solution()"
   ]
  },
  {
   "cell_type": "markdown",
   "id": "791929b1",
   "metadata": {
    "papermill": {
     "duration": 0.005873,
     "end_time": "2023-05-06T04:01:43.544527",
     "exception": false,
     "start_time": "2023-05-06T04:01:43.538654",
     "status": "completed"
    },
    "tags": []
   },
   "source": [
    "# 5. <span title=\"A bit spicy\" style=\"color: darkgreen \">🌶️</span>\n",
    "\n",
    "We're using lists to record people who attended our party and what order they arrived in. For example, the following list represents a party with 7 guests, in which Adela showed up first and Ford was the last to arrive:\n",
    "\n",
    "    party_attendees = ['Adela', 'Fleda', 'Owen', 'May', 'Mona', 'Gilbert', 'Ford']\n",
    "\n",
    "A guest is considered 'fashionably late' if they arrived after at least half of the party's guests. However, they must not be the very last guest (that's taking it too far). In the above example, Mona and Gilbert are the only guests who were fashionably late.\n",
    "\n",
    "Complete the function below which takes a list of party attendees as well as a person, and tells us whether that person is fashionably late."
   ]
  },
  {
   "cell_type": "code",
   "execution_count": 10,
   "id": "e33e7e31",
   "metadata": {
    "execution": {
     "iopub.execute_input": "2023-05-06T04:01:43.559347Z",
     "iopub.status.busy": "2023-05-06T04:01:43.558979Z",
     "iopub.status.idle": "2023-05-06T04:01:43.569867Z",
     "shell.execute_reply": "2023-05-06T04:01:43.568575Z"
    },
    "papermill": {
     "duration": 0.021032,
     "end_time": "2023-05-06T04:01:43.572505",
     "exception": false,
     "start_time": "2023-05-06T04:01:43.551473",
     "status": "completed"
    },
    "tags": []
   },
   "outputs": [
    {
     "data": {
      "application/javascript": [
       "parent.postMessage({\"jupyterEvent\": \"custom.exercise_interaction\", \"data\": {\"outcomeType\": 1, \"valueTowardsCompletion\": 0.2, \"interactionType\": 1, \"questionType\": 2, \"questionId\": \"5_FashionablyLate\", \"learnToolsVersion\": \"0.3.4\", \"failureMessage\": \"\", \"exceptionClass\": \"\", \"trace\": \"\"}}, \"*\")"
      ],
      "text/plain": [
       "<IPython.core.display.Javascript object>"
      ]
     },
     "metadata": {},
     "output_type": "display_data"
    },
    {
     "data": {
      "text/markdown": [
       "<span style=\"color:#33cc33\">Correct</span>"
      ],
      "text/plain": [
       "Correct"
      ]
     },
     "metadata": {},
     "output_type": "display_data"
    }
   ],
   "source": [
    "def fashionably_late(arrivals, name):\n",
    "    \"\"\"Given an ordered list of arrivals to the party and a name, return whether the guest with that\n",
    "    name was fashionably late.\n",
    "    \"\"\"\n",
    "\n",
    "    order = arrivals.index(name)\n",
    "    return order >= len(arrivals) / 2 and order != len(arrivals) - 1\n",
    "\n",
    "# Check your answer\n",
    "q5.check()"
   ]
  },
  {
   "cell_type": "code",
   "execution_count": 11,
   "id": "54425880",
   "metadata": {
    "execution": {
     "iopub.execute_input": "2023-05-06T04:01:43.587276Z",
     "iopub.status.busy": "2023-05-06T04:01:43.586810Z",
     "iopub.status.idle": "2023-05-06T04:01:43.600370Z",
     "shell.execute_reply": "2023-05-06T04:01:43.599186Z"
    },
    "papermill": {
     "duration": 0.023615,
     "end_time": "2023-05-06T04:01:43.602685",
     "exception": false,
     "start_time": "2023-05-06T04:01:43.579070",
     "status": "completed"
    },
    "tags": []
   },
   "outputs": [
    {
     "data": {
      "application/javascript": [
       "parent.postMessage({\"jupyterEvent\": \"custom.exercise_interaction\", \"data\": {\"interactionType\": 2, \"questionType\": 2, \"questionId\": \"5_FashionablyLate\", \"learnToolsVersion\": \"0.3.4\", \"valueTowardsCompletion\": 0.0, \"failureMessage\": \"\", \"exceptionClass\": \"\", \"trace\": \"\", \"outcomeType\": 4}}, \"*\")"
      ],
      "text/plain": [
       "<IPython.core.display.Javascript object>"
      ]
     },
     "metadata": {},
     "output_type": "display_data"
    },
    {
     "data": {
      "text/markdown": [
       "<span style=\"color:#3366cc\">Hint:</span> Use the index method to find when the person arrived. Check whether that is a fashionably late spot given the list length (`len`). Think about 0-indexing"
      ],
      "text/plain": [
       "Hint: Use the index method to find when the person arrived. Check whether that is a fashionably late spot given the list length (`len`). Think about 0-indexing"
      ]
     },
     "metadata": {},
     "output_type": "display_data"
    },
    {
     "data": {
      "application/javascript": [
       "parent.postMessage({\"jupyterEvent\": \"custom.exercise_interaction\", \"data\": {\"interactionType\": 3, \"questionType\": 2, \"questionId\": \"5_FashionablyLate\", \"learnToolsVersion\": \"0.3.4\", \"valueTowardsCompletion\": 0.0, \"failureMessage\": \"\", \"exceptionClass\": \"\", \"trace\": \"\", \"outcomeType\": 4}}, \"*\")"
      ],
      "text/plain": [
       "<IPython.core.display.Javascript object>"
      ]
     },
     "metadata": {},
     "output_type": "display_data"
    },
    {
     "data": {
      "text/markdown": [
       "<span style=\"color:#33cc99\">Solution:</span> \n",
       "```python\n",
       "def fashionably_late(arrivals, name):\n",
       "    order = arrivals.index(name)\n",
       "    return order >= len(arrivals) / 2 and order != len(arrivals) - 1\n",
       "```"
      ],
      "text/plain": [
       "Solution: \n",
       "```python\n",
       "def fashionably_late(arrivals, name):\n",
       "    order = arrivals.index(name)\n",
       "    return order >= len(arrivals) / 2 and order != len(arrivals) - 1\n",
       "```"
      ]
     },
     "metadata": {},
     "output_type": "display_data"
    }
   ],
   "source": [
    "q5.hint()\n",
    "q5.solution()"
   ]
  },
  {
   "cell_type": "markdown",
   "id": "d6380848",
   "metadata": {
    "papermill": {
     "duration": 0.006383,
     "end_time": "2023-05-06T04:01:43.615892",
     "exception": false,
     "start_time": "2023-05-06T04:01:43.609509",
     "status": "completed"
    },
    "tags": []
   },
   "source": [
    "# Keep Going\n",
    "\n",
    "That's it for lists and tuples! Now you have the baseline knowledge to **[learn about loops](https://www.kaggle.com/colinmorris/loops-and-list-comprehensions)**, which is where lists and tuples get really interesting. "
   ]
  },
  {
   "cell_type": "markdown",
   "id": "2c25e3cc",
   "metadata": {
    "papermill": {
     "duration": 0.006517,
     "end_time": "2023-05-06T04:01:43.629766",
     "exception": false,
     "start_time": "2023-05-06T04:01:43.623249",
     "status": "completed"
    },
    "tags": []
   },
   "source": [
    "---\n",
    "\n",
    "\n",
    "\n",
    "\n",
    "*Have questions or comments? Visit the [course discussion forum](https://www.kaggle.com/learn/python/discussion) to chat with other learners.*"
   ]
  }
 ],
 "metadata": {
  "kernelspec": {
   "display_name": "Python 3",
   "language": "python",
   "name": "python3"
  },
  "language_info": {
   "codemirror_mode": {
    "name": "ipython",
    "version": 3
   },
   "file_extension": ".py",
   "mimetype": "text/x-python",
   "name": "python",
   "nbconvert_exporter": "python",
   "pygments_lexer": "ipython3",
   "version": "3.10.10"
  },
  "papermill": {
   "default_parameters": {},
   "duration": 13.661572,
   "end_time": "2023-05-06T04:01:44.559487",
   "environment_variables": {},
   "exception": null,
   "input_path": "__notebook__.ipynb",
   "output_path": "__notebook__.ipynb",
   "parameters": {},
   "start_time": "2023-05-06T04:01:30.897915",
   "version": "2.4.0"
  }
 },
 "nbformat": 4,
 "nbformat_minor": 5
}
