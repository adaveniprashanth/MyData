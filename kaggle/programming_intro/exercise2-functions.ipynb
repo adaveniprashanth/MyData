{
 "cells": [
  {
   "cell_type": "markdown",
   "id": "c698eef9",
   "metadata": {
    "papermill": {
     "duration": 0.00932,
     "end_time": "2023-05-17T02:19:43.930530",
     "exception": false,
     "start_time": "2023-05-17T02:19:43.921210",
     "status": "completed"
    },
    "tags": []
   },
   "source": [
    "**This notebook is an exercise in the [Intro to Programming](https://www.kaggle.com/learn/intro-to-programming) course.  You can reference the tutorial at [this link](https://www.kaggle.com/alexisbcook/functions).**\n",
    "\n",
    "---\n"
   ]
  },
  {
   "cell_type": "markdown",
   "id": "a9e5b691",
   "metadata": {
    "papermill": {
     "duration": 0.008073,
     "end_time": "2023-05-17T02:19:43.946892",
     "exception": false,
     "start_time": "2023-05-17T02:19:43.938819",
     "status": "completed"
    },
    "tags": []
   },
   "source": [
    "In the tutorial, you learned about functions. In this exercise, you'll write some of your own!\n",
    "\n",
    "# Set up the notebook\n",
    "\n",
    "Run the next code cell without changes to set up the notebook."
   ]
  },
  {
   "cell_type": "code",
   "execution_count": 1,
   "id": "f90f6a75",
   "metadata": {
    "execution": {
     "iopub.execute_input": "2023-05-17T02:19:43.965141Z",
     "iopub.status.busy": "2023-05-17T02:19:43.964546Z",
     "iopub.status.idle": "2023-05-17T02:19:44.019202Z",
     "shell.execute_reply": "2023-05-17T02:19:44.017742Z"
    },
    "papermill": {
     "duration": 0.067224,
     "end_time": "2023-05-17T02:19:44.022174",
     "exception": false,
     "start_time": "2023-05-17T02:19:43.954950",
     "status": "completed"
    },
    "tags": []
   },
   "outputs": [
    {
     "name": "stdout",
     "output_type": "stream",
     "text": [
      "Setup complete.\n"
     ]
    }
   ],
   "source": [
    "# Set up the exercise\n",
    "import math\n",
    "from learntools.core import binder\n",
    "binder.bind(globals())\n",
    "from learntools.intro_to_programming.ex2 import *\n",
    "print('Setup complete.')"
   ]
  },
  {
   "cell_type": "markdown",
   "id": "e4e70cae",
   "metadata": {
    "papermill": {
     "duration": 0.007518,
     "end_time": "2023-05-17T02:19:44.037927",
     "exception": false,
     "start_time": "2023-05-17T02:19:44.030409",
     "status": "completed"
    },
    "tags": []
   },
   "source": [
    "# Question 1\n",
    "\n",
    "In the [House Prices - Advanced Regression Techniques competition](https://www.kaggle.com/c/house-prices-advanced-regression-techniques/overview), you need to use information like the number of bedrooms and bathrooms to predict the price of a house.  Inspired by this competition, you'll write your own function to do this.\n",
    "\n",
    "In the next code cell, create a function `get_expected_cost()` that has two arguments:\n",
    "- `beds` - number of bedrooms \n",
    "- `baths` - number of bathrooms\n",
    "\n",
    "It should return the expected cost of a house with that number of bedrooms and bathrooms.  Assume that:\n",
    "- the expected cost for a house with 0 bedrooms and 0 bathrooms is `80000`.  \n",
    "- each bedroom adds `30000` to the expected cost\n",
    "- each bathroom adds `10000` to the expected cost.\n",
    "\n",
    "For instance, \n",
    "- a house with 1 bedroom and 1 bathroom has an expected cost of `120000`, and \n",
    "- a house with 2 bedrooms and 1 bathroom has an expected cost of `150000`."
   ]
  },
  {
   "cell_type": "code",
   "execution_count": 2,
   "id": "26e420d9",
   "metadata": {
    "execution": {
     "iopub.execute_input": "2023-05-17T02:19:44.055670Z",
     "iopub.status.busy": "2023-05-17T02:19:44.055276Z",
     "iopub.status.idle": "2023-05-17T02:19:44.067143Z",
     "shell.execute_reply": "2023-05-17T02:19:44.065728Z"
    },
    "papermill": {
     "duration": 0.023852,
     "end_time": "2023-05-17T02:19:44.069616",
     "exception": false,
     "start_time": "2023-05-17T02:19:44.045764",
     "status": "completed"
    },
    "tags": []
   },
   "outputs": [
    {
     "data": {
      "application/javascript": [
       "parent.postMessage({\"jupyterEvent\": \"custom.exercise_interaction\", \"data\": {\"outcomeType\": 1, \"valueTowardsCompletion\": 0.2, \"interactionType\": 1, \"questionType\": 2, \"questionId\": \"1_GetExpectedCost\", \"learnToolsVersion\": \"0.3.4\", \"failureMessage\": \"\", \"exceptionClass\": \"\", \"trace\": \"\"}}, \"*\")"
      ],
      "text/plain": [
       "<IPython.core.display.Javascript object>"
      ]
     },
     "metadata": {},
     "output_type": "display_data"
    },
    {
     "data": {
      "text/markdown": [
       "<span style=\"color:#33cc33\">Correct</span>"
      ],
      "text/plain": [
       "Correct"
      ]
     },
     "metadata": {},
     "output_type": "display_data"
    }
   ],
   "source": [
    "# TODO: Complete the function\n",
    "def get_expected_cost(beds, baths):\n",
    "    house = 80000\n",
    "    \n",
    "    value = house +(beds*30000)+(baths*10000)\n",
    "    return value\n",
    "\n",
    "# Check your answer \n",
    "q1.check()"
   ]
  },
  {
   "cell_type": "code",
   "execution_count": 3,
   "id": "1a6368dc",
   "metadata": {
    "execution": {
     "iopub.execute_input": "2023-05-17T02:19:44.088113Z",
     "iopub.status.busy": "2023-05-17T02:19:44.087748Z",
     "iopub.status.idle": "2023-05-17T02:19:44.092774Z",
     "shell.execute_reply": "2023-05-17T02:19:44.091319Z"
    },
    "papermill": {
     "duration": 0.017947,
     "end_time": "2023-05-17T02:19:44.095722",
     "exception": false,
     "start_time": "2023-05-17T02:19:44.077775",
     "status": "completed"
    },
    "tags": []
   },
   "outputs": [],
   "source": [
    "# Uncomment to see a hint\n",
    "#q1.hint()\n",
    "\n",
    "# Uncomment to view the solution\n",
    "#q1.solution()"
   ]
  },
  {
   "cell_type": "markdown",
   "id": "97ff04c3",
   "metadata": {
    "papermill": {
     "duration": 0.008115,
     "end_time": "2023-05-17T02:19:44.112544",
     "exception": false,
     "start_time": "2023-05-17T02:19:44.104429",
     "status": "completed"
    },
    "tags": []
   },
   "source": [
    "# Question 2\n",
    "\n",
    "You are thinking about buying a home and want to get an idea of how much you will spend, based on the number of bedrooms and bathrooms.  You are trying to decide between four different options:\n",
    "- Option 1: house with two bedrooms and three bathrooms\n",
    "- Option 2: house with three bedrooms and two bathrooms\n",
    "- Option 3: house with three bedrooms and three bathrooms\n",
    "- Option 4: house with three bedrooms and four bathrooms\n",
    "\n",
    "Use the `get_expected_cost()` function you defined in question 1 to set `option_1`, `option_2`, `option_3`, and `option_4` to the expected cost of each option."
   ]
  },
  {
   "cell_type": "code",
   "execution_count": 4,
   "id": "cb1ca41e",
   "metadata": {
    "execution": {
     "iopub.execute_input": "2023-05-17T02:19:44.133036Z",
     "iopub.status.busy": "2023-05-17T02:19:44.132613Z",
     "iopub.status.idle": "2023-05-17T02:19:44.141830Z",
     "shell.execute_reply": "2023-05-17T02:19:44.140813Z"
    },
    "papermill": {
     "duration": 0.024097,
     "end_time": "2023-05-17T02:19:44.145817",
     "exception": false,
     "start_time": "2023-05-17T02:19:44.121720",
     "status": "completed"
    },
    "tags": []
   },
   "outputs": [
    {
     "name": "stdout",
     "output_type": "stream",
     "text": [
      "170000\n",
      "190000\n",
      "200000\n",
      "210000\n"
     ]
    },
    {
     "data": {
      "application/javascript": [
       "parent.postMessage({\"jupyterEvent\": \"custom.exercise_interaction\", \"data\": {\"outcomeType\": 1, \"valueTowardsCompletion\": 0.2, \"interactionType\": 1, \"questionType\": 1, \"questionId\": \"2_RunGetExpectedCost\", \"learnToolsVersion\": \"0.3.4\", \"failureMessage\": \"\", \"exceptionClass\": \"\", \"trace\": \"\"}}, \"*\")"
      ],
      "text/plain": [
       "<IPython.core.display.Javascript object>"
      ]
     },
     "metadata": {},
     "output_type": "display_data"
    },
    {
     "data": {
      "text/markdown": [
       "<span style=\"color:#33cc33\">Correct</span>"
      ],
      "text/plain": [
       "Correct"
      ]
     },
     "metadata": {},
     "output_type": "display_data"
    }
   ],
   "source": [
    "# TODO: Use the get_expected_cost function to fill in each value\n",
    "option_one = get_expected_cost(2,3)\n",
    "option_two = get_expected_cost(3,2)\n",
    "option_three = get_expected_cost(3,3)\n",
    "option_four = get_expected_cost(3,4)\n",
    "\n",
    "print(option_one)\n",
    "print(option_two)\n",
    "print(option_three)\n",
    "print(option_four)\n",
    "\n",
    "# Check your answer\n",
    "q2.check()"
   ]
  },
  {
   "cell_type": "code",
   "execution_count": 5,
   "id": "62f18483",
   "metadata": {
    "execution": {
     "iopub.execute_input": "2023-05-17T02:19:44.165697Z",
     "iopub.status.busy": "2023-05-17T02:19:44.165294Z",
     "iopub.status.idle": "2023-05-17T02:19:44.168912Z",
     "shell.execute_reply": "2023-05-17T02:19:44.168109Z"
    },
    "papermill": {
     "duration": 0.016285,
     "end_time": "2023-05-17T02:19:44.171113",
     "exception": false,
     "start_time": "2023-05-17T02:19:44.154828",
     "status": "completed"
    },
    "tags": []
   },
   "outputs": [],
   "source": [
    "# Uncomment to see a hint\n",
    "#q2.hint()\n",
    "\n",
    "# Uncomment to view the solution\n",
    "#q2.solution()"
   ]
  },
  {
   "cell_type": "markdown",
   "id": "68f67f9e",
   "metadata": {
    "papermill": {
     "duration": 0.008802,
     "end_time": "2023-05-17T02:19:44.189638",
     "exception": false,
     "start_time": "2023-05-17T02:19:44.180836",
     "status": "completed"
    },
    "tags": []
   },
   "source": [
    "# Question 3\n",
    "\n",
    "You're a home decorator, and you'd like to use Python to streamline some of your work.  Specifically, you're creating a tool that you intend to use to calculate the cost of painting a room.\n",
    "\n",
    "As a first step, define a function `get_cost()` that takes as input:\n",
    "- `sqft_walls` = total square feet of walls to be painted\n",
    "- `sqft_ceiling` = square feet of ceiling to be painted\n",
    "- `sqft_per_gallon` = number of square feet that you can cover with one gallon of paint\n",
    "- `cost_per_gallon` = cost (in dollars) of one gallon of paint\n",
    "\n",
    "It should return the cost (in dollars) of putting one coat of paint on all walls and the ceiling.  Assume you can buy the exact amount of paint that you need, so you can buy partial gallons (e.g., if you need 7.523 gallons, you can buy that exact amount, instead of needing to buy 8 gallons and waste some paint).  Do not round your answer."
   ]
  },
  {
   "cell_type": "code",
   "execution_count": 6,
   "id": "d774f03f",
   "metadata": {
    "execution": {
     "iopub.execute_input": "2023-05-17T02:19:44.209567Z",
     "iopub.status.busy": "2023-05-17T02:19:44.209097Z",
     "iopub.status.idle": "2023-05-17T02:19:44.218129Z",
     "shell.execute_reply": "2023-05-17T02:19:44.216965Z"
    },
    "papermill": {
     "duration": 0.022071,
     "end_time": "2023-05-17T02:19:44.220680",
     "exception": false,
     "start_time": "2023-05-17T02:19:44.198609",
     "status": "completed"
    },
    "tags": []
   },
   "outputs": [
    {
     "data": {
      "application/javascript": [
       "parent.postMessage({\"jupyterEvent\": \"custom.exercise_interaction\", \"data\": {\"outcomeType\": 1, \"valueTowardsCompletion\": 0.2, \"interactionType\": 1, \"questionType\": 2, \"questionId\": \"3_GetCostPaint\", \"learnToolsVersion\": \"0.3.4\", \"failureMessage\": \"\", \"exceptionClass\": \"\", \"trace\": \"\"}}, \"*\")"
      ],
      "text/plain": [
       "<IPython.core.display.Javascript object>"
      ]
     },
     "metadata": {},
     "output_type": "display_data"
    },
    {
     "data": {
      "text/markdown": [
       "<span style=\"color:#33cc33\">Correct</span>"
      ],
      "text/plain": [
       "Correct"
      ]
     },
     "metadata": {},
     "output_type": "display_data"
    }
   ],
   "source": [
    "# TODO: Finish defining the function\n",
    "def get_cost(sqft_walls, sqft_ceiling, sqft_per_gallon, cost_per_gallon):\n",
    "    cost = ((sqft_walls+sqft_ceiling)/sqft_per_gallon)*cost_per_gallon\n",
    "    return cost\n",
    "\n",
    "# Check your answer\n",
    "q3.check()"
   ]
  },
  {
   "cell_type": "code",
   "execution_count": 7,
   "id": "613ae94c",
   "metadata": {
    "execution": {
     "iopub.execute_input": "2023-05-17T02:19:44.241273Z",
     "iopub.status.busy": "2023-05-17T02:19:44.240871Z",
     "iopub.status.idle": "2023-05-17T02:19:44.254992Z",
     "shell.execute_reply": "2023-05-17T02:19:44.253837Z"
    },
    "papermill": {
     "duration": 0.027515,
     "end_time": "2023-05-17T02:19:44.257457",
     "exception": false,
     "start_time": "2023-05-17T02:19:44.229942",
     "status": "completed"
    },
    "tags": []
   },
   "outputs": [
    {
     "data": {
      "application/javascript": [
       "parent.postMessage({\"jupyterEvent\": \"custom.exercise_interaction\", \"data\": {\"interactionType\": 2, \"questionType\": 2, \"questionId\": \"3_GetCostPaint\", \"learnToolsVersion\": \"0.3.4\", \"valueTowardsCompletion\": 0.0, \"failureMessage\": \"\", \"exceptionClass\": \"\", \"trace\": \"\", \"outcomeType\": 4}}, \"*\")"
      ],
      "text/plain": [
       "<IPython.core.display.Javascript object>"
      ]
     },
     "metadata": {},
     "output_type": "display_data"
    },
    {
     "data": {
      "text/markdown": [
       "<span style=\"color:#3366cc\">Hint:</span> Begin by calculating the total number of square feet that need to be painted. Then, based on that, figure out how many gallons you need.  Then, once you know how many gallons you need, you can calculate the total cost of the project."
      ],
      "text/plain": [
       "Hint: Begin by calculating the total number of square feet that need to be painted. Then, based on that, figure out how many gallons you need.  Then, once you know how many gallons you need, you can calculate the total cost of the project."
      ]
     },
     "metadata": {},
     "output_type": "display_data"
    },
    {
     "data": {
      "application/javascript": [
       "parent.postMessage({\"jupyterEvent\": \"custom.exercise_interaction\", \"data\": {\"interactionType\": 3, \"questionType\": 2, \"questionId\": \"3_GetCostPaint\", \"learnToolsVersion\": \"0.3.4\", \"valueTowardsCompletion\": 0.0, \"failureMessage\": \"\", \"exceptionClass\": \"\", \"trace\": \"\", \"outcomeType\": 4}}, \"*\")"
      ],
      "text/plain": [
       "<IPython.core.display.Javascript object>"
      ]
     },
     "metadata": {},
     "output_type": "display_data"
    },
    {
     "data": {
      "text/markdown": [
       "<span style=\"color:#33cc99\">Solution:</span> \n",
       "```python\n",
       "\n",
       "def get_cost(sqft_walls, sqft_ceiling, sqft_per_gallon, cost_per_gallon):\n",
       "    total_sqft = sqft_walls + sqft_ceiling\n",
       "    gallons_needed = total_sqft / sqft_per_gallon\n",
       "    cost = cost_per_gallon * gallons_needed\n",
       "    return cost\n",
       "\n",
       "```"
      ],
      "text/plain": [
       "Solution: \n",
       "```python\n",
       "\n",
       "def get_cost(sqft_walls, sqft_ceiling, sqft_per_gallon, cost_per_gallon):\n",
       "    total_sqft = sqft_walls + sqft_ceiling\n",
       "    gallons_needed = total_sqft / sqft_per_gallon\n",
       "    cost = cost_per_gallon * gallons_needed\n",
       "    return cost\n",
       "\n",
       "```"
      ]
     },
     "metadata": {},
     "output_type": "display_data"
    }
   ],
   "source": [
    "# Uncomment to see a hint\n",
    "q3.hint()\n",
    "\n",
    "# Uncomment to view the solution\n",
    "q3.solution()"
   ]
  },
  {
   "cell_type": "markdown",
   "id": "15f3a422",
   "metadata": {
    "papermill": {
     "duration": 0.009576,
     "end_time": "2023-05-17T02:19:44.277193",
     "exception": false,
     "start_time": "2023-05-17T02:19:44.267617",
     "status": "completed"
    },
    "tags": []
   },
   "source": [
    "# Question 4\n",
    "\n",
    "Use the `get_cost()` function you defined in Question 3 to calculate the cost of applying one coat of paint to a room with:\n",
    "- 432 square feet of walls, and\n",
    "- 144 square feet of ceiling.\n",
    "\n",
    "Assume that one gallon of paint covers 400 square feet and costs $15.  As in Question 3, assume you can buy partial gallons of paint.  Do not round your answer."
   ]
  },
  {
   "cell_type": "code",
   "execution_count": 8,
   "id": "40c63912",
   "metadata": {
    "execution": {
     "iopub.execute_input": "2023-05-17T02:19:44.299586Z",
     "iopub.status.busy": "2023-05-17T02:19:44.299109Z",
     "iopub.status.idle": "2023-05-17T02:19:44.310160Z",
     "shell.execute_reply": "2023-05-17T02:19:44.308959Z"
    },
    "papermill": {
     "duration": 0.025151,
     "end_time": "2023-05-17T02:19:44.312631",
     "exception": false,
     "start_time": "2023-05-17T02:19:44.287480",
     "status": "completed"
    },
    "tags": []
   },
   "outputs": [
    {
     "data": {
      "application/javascript": [
       "parent.postMessage({\"jupyterEvent\": \"custom.exercise_interaction\", \"data\": {\"outcomeType\": 1, \"valueTowardsCompletion\": 0.2, \"interactionType\": 1, \"questionType\": 1, \"questionId\": \"4_GetCostPaintExample\", \"learnToolsVersion\": \"0.3.4\", \"failureMessage\": \"\", \"exceptionClass\": \"\", \"trace\": \"\"}}, \"*\")"
      ],
      "text/plain": [
       "<IPython.core.display.Javascript object>"
      ]
     },
     "metadata": {},
     "output_type": "display_data"
    },
    {
     "data": {
      "text/markdown": [
       "<span style=\"color:#33cc33\">Correct</span>"
      ],
      "text/plain": [
       "Correct"
      ]
     },
     "metadata": {},
     "output_type": "display_data"
    }
   ],
   "source": [
    "# TODO: Set the project_cost variable to the cost of the project\n",
    "project_cost = get_cost(432,144,400,15)\n",
    "\n",
    "# Check your answer\n",
    "q4.check()"
   ]
  },
  {
   "cell_type": "code",
   "execution_count": 9,
   "id": "fae0d0b8",
   "metadata": {
    "execution": {
     "iopub.execute_input": "2023-05-17T02:19:44.335911Z",
     "iopub.status.busy": "2023-05-17T02:19:44.335428Z",
     "iopub.status.idle": "2023-05-17T02:19:44.344008Z",
     "shell.execute_reply": "2023-05-17T02:19:44.343080Z"
    },
    "papermill": {
     "duration": 0.023509,
     "end_time": "2023-05-17T02:19:44.346626",
     "exception": false,
     "start_time": "2023-05-17T02:19:44.323117",
     "status": "completed"
    },
    "tags": []
   },
   "outputs": [
    {
     "data": {
      "application/javascript": [
       "parent.postMessage({\"jupyterEvent\": \"custom.exercise_interaction\", \"data\": {\"interactionType\": 3, \"questionType\": 1, \"questionId\": \"4_GetCostPaintExample\", \"learnToolsVersion\": \"0.3.4\", \"valueTowardsCompletion\": 0.0, \"failureMessage\": \"\", \"exceptionClass\": \"\", \"trace\": \"\", \"outcomeType\": 4}}, \"*\")"
      ],
      "text/plain": [
       "<IPython.core.display.Javascript object>"
      ]
     },
     "metadata": {},
     "output_type": "display_data"
    },
    {
     "data": {
      "text/markdown": [
       "<span style=\"color:#33cc99\">Solution:</span> \n",
       "```python\n",
       "# Set the project_cost variable to the cost of the project\n",
       "project_cost = get_cost(432, 144, 400, 15) \n",
       "\n",
       "```"
      ],
      "text/plain": [
       "Solution: \n",
       "```python\n",
       "# Set the project_cost variable to the cost of the project\n",
       "project_cost = get_cost(432, 144, 400, 15) \n",
       "\n",
       "```"
      ]
     },
     "metadata": {},
     "output_type": "display_data"
    }
   ],
   "source": [
    "# Uncomment to see a hint\n",
    "#q4.hint()\n",
    "\n",
    "# Uncomment to view the solution\n",
    "q4.solution()"
   ]
  },
  {
   "cell_type": "markdown",
   "id": "404ae88e",
   "metadata": {
    "papermill": {
     "duration": 0.010223,
     "end_time": "2023-05-17T02:19:44.367722",
     "exception": false,
     "start_time": "2023-05-17T02:19:44.357499",
     "status": "completed"
    },
    "tags": []
   },
   "source": [
    "# 🌶️ Question 5\n",
    "\n",
    "Now say you can no longer buy fractions of a gallon.  (For instance, if you need 4.3 gallons to do a project, then you have to buy 5 gallons of paint.)\n",
    "\n",
    "With this new scenario, you will create a new function `get_actual_cost` that uses the same inputs and calculates the cost of your project.\n",
    "\n",
    "One function that you'll need to use to do this is `math.ceil()`.  We demonstrate usage of this function in the code cell below.  It takes as a number as input and rounds the number up to the nearest integer.  \n",
    "\n",
    "Run the next code cell to test this function for yourself.  Feel free to change the value of `test_value` and make sure `math.ceil()` returns the number you expect."
   ]
  },
  {
   "cell_type": "code",
   "execution_count": 10,
   "id": "f92b2578",
   "metadata": {
    "execution": {
     "iopub.execute_input": "2023-05-17T02:19:44.391600Z",
     "iopub.status.busy": "2023-05-17T02:19:44.391177Z",
     "iopub.status.idle": "2023-05-17T02:19:44.399827Z",
     "shell.execute_reply": "2023-05-17T02:19:44.398491Z"
    },
    "papermill": {
     "duration": 0.024066,
     "end_time": "2023-05-17T02:19:44.402411",
     "exception": false,
     "start_time": "2023-05-17T02:19:44.378345",
     "status": "completed"
    },
    "tags": []
   },
   "outputs": [
    {
     "name": "stdout",
     "output_type": "stream",
     "text": [
      "3\n"
     ]
    }
   ],
   "source": [
    "test_value = 2.17\n",
    "\n",
    "rounded_value = math.ceil(test_value)\n",
    "print(rounded_value)"
   ]
  },
  {
   "cell_type": "markdown",
   "id": "9caa1e83",
   "metadata": {
    "papermill": {
     "duration": 0.010398,
     "end_time": "2023-05-17T02:19:44.423957",
     "exception": false,
     "start_time": "2023-05-17T02:19:44.413559",
     "status": "completed"
    },
    "tags": []
   },
   "source": [
    "Use the next code cell to define the function `get_actual_cost()`.  You'll need to use the `math.ceil()` function to do this.\n",
    "\n",
    "When answering this question, note that it's completely valid to define a function that makes use of another function.  For instance, we can define a function `round_up_and_divide_by_three` that makes use of the `math.ceil` function:\n",
    "```\n",
    "def round_up_and_divide_by_three(num):\n",
    "    new_value = math.ceil(num)\n",
    "    final_value = new_value / 3\n",
    "    return final_value\n",
    "```"
   ]
  },
  {
   "cell_type": "code",
   "execution_count": 11,
   "id": "9eb2588d",
   "metadata": {
    "execution": {
     "iopub.execute_input": "2023-05-17T02:19:44.447912Z",
     "iopub.status.busy": "2023-05-17T02:19:44.447494Z",
     "iopub.status.idle": "2023-05-17T02:19:44.457536Z",
     "shell.execute_reply": "2023-05-17T02:19:44.456174Z"
    },
    "papermill": {
     "duration": 0.024843,
     "end_time": "2023-05-17T02:19:44.460061",
     "exception": false,
     "start_time": "2023-05-17T02:19:44.435218",
     "status": "completed"
    },
    "tags": []
   },
   "outputs": [
    {
     "data": {
      "application/javascript": [
       "parent.postMessage({\"jupyterEvent\": \"custom.exercise_interaction\", \"data\": {\"outcomeType\": 1, \"valueTowardsCompletion\": 0.2, \"interactionType\": 1, \"questionType\": 2, \"questionId\": \"5_NoMoreFractions\", \"learnToolsVersion\": \"0.3.4\", \"failureMessage\": \"\", \"exceptionClass\": \"\", \"trace\": \"\"}}, \"*\")"
      ],
      "text/plain": [
       "<IPython.core.display.Javascript object>"
      ]
     },
     "metadata": {},
     "output_type": "display_data"
    },
    {
     "data": {
      "text/markdown": [
       "<span style=\"color:#33cc33\">Correct</span>"
      ],
      "text/plain": [
       "Correct"
      ]
     },
     "metadata": {},
     "output_type": "display_data"
    }
   ],
   "source": [
    "def get_actual_cost(sqft_walls, sqft_ceiling, sqft_per_gallon, cost_per_gallon):\n",
    "    cost = math.ceil((sqft_walls+sqft_ceiling)/sqft_per_gallon)*cost_per_gallon\n",
    "    cost = cost\n",
    "    return cost\n",
    "\n",
    "# Check your answer\n",
    "q5.check()"
   ]
  },
  {
   "cell_type": "code",
   "execution_count": 12,
   "id": "3d9abb91",
   "metadata": {
    "execution": {
     "iopub.execute_input": "2023-05-17T02:19:44.484528Z",
     "iopub.status.busy": "2023-05-17T02:19:44.484097Z",
     "iopub.status.idle": "2023-05-17T02:19:44.498094Z",
     "shell.execute_reply": "2023-05-17T02:19:44.496626Z"
    },
    "papermill": {
     "duration": 0.029335,
     "end_time": "2023-05-17T02:19:44.500731",
     "exception": false,
     "start_time": "2023-05-17T02:19:44.471396",
     "status": "completed"
    },
    "tags": []
   },
   "outputs": [
    {
     "data": {
      "application/javascript": [
       "parent.postMessage({\"jupyterEvent\": \"custom.exercise_interaction\", \"data\": {\"interactionType\": 2, \"questionType\": 2, \"questionId\": \"5_NoMoreFractions\", \"learnToolsVersion\": \"0.3.4\", \"valueTowardsCompletion\": 0.0, \"failureMessage\": \"\", \"exceptionClass\": \"\", \"trace\": \"\", \"outcomeType\": 4}}, \"*\")"
      ],
      "text/plain": [
       "<IPython.core.display.Javascript object>"
      ]
     },
     "metadata": {},
     "output_type": "display_data"
    },
    {
     "data": {
      "text/markdown": [
       "<span style=\"color:#3366cc\">Hint:</span> Begin with the `get_cost()` function as a starting point.  The only change you need to make is to add `math.ceil()` to round up the number of gallons that need to be purchased. Can you figure out where to add it to the function?"
      ],
      "text/plain": [
       "Hint: Begin with the `get_cost()` function as a starting point.  The only change you need to make is to add `math.ceil()` to round up the number of gallons that need to be purchased. Can you figure out where to add it to the function?"
      ]
     },
     "metadata": {},
     "output_type": "display_data"
    },
    {
     "data": {
      "application/javascript": [
       "parent.postMessage({\"jupyterEvent\": \"custom.exercise_interaction\", \"data\": {\"interactionType\": 3, \"questionType\": 2, \"questionId\": \"5_NoMoreFractions\", \"learnToolsVersion\": \"0.3.4\", \"valueTowardsCompletion\": 0.0, \"failureMessage\": \"\", \"exceptionClass\": \"\", \"trace\": \"\", \"outcomeType\": 4}}, \"*\")"
      ],
      "text/plain": [
       "<IPython.core.display.Javascript object>"
      ]
     },
     "metadata": {},
     "output_type": "display_data"
    },
    {
     "data": {
      "text/markdown": [
       "<span style=\"color:#33cc99\">Solution:</span> \n",
       "```python\n",
       "def get_actual_cost(sqft_walls, sqft_ceiling, sqft_per_gallon, cost_per_gallon):\n",
       "    total_sqft = sqft_walls + sqft_ceiling\n",
       "    gallons_needed = total_sqft / sqft_per_gallon\n",
       "    gallons_to_buy = math.ceil(gallons_needed)\n",
       "    cost = cost_per_gallon * gallons_to_buy\n",
       "    return cost\n",
       "\n",
       "```"
      ],
      "text/plain": [
       "Solution: \n",
       "```python\n",
       "def get_actual_cost(sqft_walls, sqft_ceiling, sqft_per_gallon, cost_per_gallon):\n",
       "    total_sqft = sqft_walls + sqft_ceiling\n",
       "    gallons_needed = total_sqft / sqft_per_gallon\n",
       "    gallons_to_buy = math.ceil(gallons_needed)\n",
       "    cost = cost_per_gallon * gallons_to_buy\n",
       "    return cost\n",
       "\n",
       "```"
      ]
     },
     "metadata": {},
     "output_type": "display_data"
    }
   ],
   "source": [
    "# Uncomment to see a hint\n",
    "q5.hint()\n",
    "\n",
    "# Uncomment to view the solution\n",
    "q5.solution()"
   ]
  },
  {
   "cell_type": "markdown",
   "id": "1022d681",
   "metadata": {
    "papermill": {
     "duration": 0.011105,
     "end_time": "2023-05-17T02:19:44.523407",
     "exception": false,
     "start_time": "2023-05-17T02:19:44.512302",
     "status": "completed"
    },
    "tags": []
   },
   "source": [
    "Once your function is verified as correct, run the next code cell to calculate the updated cost of your project."
   ]
  },
  {
   "cell_type": "code",
   "execution_count": 13,
   "id": "46159674",
   "metadata": {
    "execution": {
     "iopub.execute_input": "2023-05-17T02:19:44.549202Z",
     "iopub.status.busy": "2023-05-17T02:19:44.547721Z",
     "iopub.status.idle": "2023-05-17T02:19:44.555667Z",
     "shell.execute_reply": "2023-05-17T02:19:44.554440Z"
    },
    "papermill": {
     "duration": 0.023175,
     "end_time": "2023-05-17T02:19:44.557943",
     "exception": false,
     "start_time": "2023-05-17T02:19:44.534768",
     "status": "completed"
    },
    "tags": []
   },
   "outputs": [
    {
     "data": {
      "text/plain": [
       "30"
      ]
     },
     "execution_count": 13,
     "metadata": {},
     "output_type": "execute_result"
    }
   ],
   "source": [
    "get_actual_cost(432, 144, 400, 15) "
   ]
  },
  {
   "cell_type": "markdown",
   "id": "fd33a62d",
   "metadata": {
    "papermill": {
     "duration": 0.011144,
     "end_time": "2023-05-17T02:19:44.580703",
     "exception": false,
     "start_time": "2023-05-17T02:19:44.569559",
     "status": "completed"
    },
    "tags": []
   },
   "source": [
    "Say you're working with a slightly larger room.  Run the next code cell to calculate the cost of the project."
   ]
  },
  {
   "cell_type": "code",
   "execution_count": 14,
   "id": "dc20ea52",
   "metadata": {
    "execution": {
     "iopub.execute_input": "2023-05-17T02:19:44.605581Z",
     "iopub.status.busy": "2023-05-17T02:19:44.605147Z",
     "iopub.status.idle": "2023-05-17T02:19:44.611510Z",
     "shell.execute_reply": "2023-05-17T02:19:44.610561Z"
    },
    "papermill": {
     "duration": 0.021985,
     "end_time": "2023-05-17T02:19:44.614155",
     "exception": false,
     "start_time": "2023-05-17T02:19:44.592170",
     "status": "completed"
    },
    "tags": []
   },
   "outputs": [
    {
     "data": {
      "text/plain": [
       "45"
      ]
     },
     "execution_count": 14,
     "metadata": {},
     "output_type": "execute_result"
    }
   ],
   "source": [
    "get_actual_cost(594, 288, 400, 15) "
   ]
  },
  {
   "cell_type": "markdown",
   "id": "5b5f59a1",
   "metadata": {
    "papermill": {
     "duration": 0.011441,
     "end_time": "2023-05-17T02:19:44.637655",
     "exception": false,
     "start_time": "2023-05-17T02:19:44.626214",
     "status": "completed"
    },
    "tags": []
   },
   "source": [
    "# Keep going\n",
    "\n",
    "Continue to learn about **[data types](https://www.kaggle.com/alexisbcook/data-types)**."
   ]
  },
  {
   "cell_type": "markdown",
   "id": "bc77fef6",
   "metadata": {
    "papermill": {
     "duration": 0.011774,
     "end_time": "2023-05-17T02:19:44.661714",
     "exception": false,
     "start_time": "2023-05-17T02:19:44.649940",
     "status": "completed"
    },
    "tags": []
   },
   "source": [
    "---\n",
    "\n",
    "\n",
    "\n",
    "\n",
    "*Have questions or comments? Visit the [course discussion forum](https://www.kaggle.com/learn/intro-to-programming/discussion) to chat with other learners.*"
   ]
  }
 ],
 "metadata": {
  "kernelspec": {
   "display_name": "Python 3",
   "language": "python",
   "name": "python3"
  },
  "language_info": {
   "codemirror_mode": {
    "name": "ipython",
    "version": 3
   },
   "file_extension": ".py",
   "mimetype": "text/x-python",
   "name": "python",
   "nbconvert_exporter": "python",
   "pygments_lexer": "ipython3",
   "version": "3.10.10"
  },
  "papermill": {
   "default_parameters": {},
   "duration": 14.637397,
   "end_time": "2023-05-17T02:19:45.598654",
   "environment_variables": {},
   "exception": null,
   "input_path": "__notebook__.ipynb",
   "output_path": "__notebook__.ipynb",
   "parameters": {},
   "start_time": "2023-05-17T02:19:30.961257",
   "version": "2.4.0"
  }
 },
 "nbformat": 4,
 "nbformat_minor": 5
}
