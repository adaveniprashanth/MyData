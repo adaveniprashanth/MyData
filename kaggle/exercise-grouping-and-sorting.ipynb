{
 "cells": [
  {
   "cell_type": "markdown",
   "id": "1c224929",
   "metadata": {
    "papermill": {
     "duration": 0.007061,
     "end_time": "2023-04-28T14:54:04.324214",
     "exception": false,
     "start_time": "2023-04-28T14:54:04.317153",
     "status": "completed"
    },
    "tags": []
   },
   "source": [
    "**This notebook is an exercise in the [Pandas](https://www.kaggle.com/learn/pandas) course.  You can reference the tutorial at [this link](https://www.kaggle.com/residentmario/grouping-and-sorting).**\n",
    "\n",
    "---\n"
   ]
  },
  {
   "cell_type": "markdown",
   "id": "79e650f1",
   "metadata": {
    "papermill": {
     "duration": 0.005391,
     "end_time": "2023-04-28T14:54:04.335524",
     "exception": false,
     "start_time": "2023-04-28T14:54:04.330133",
     "status": "completed"
    },
    "tags": []
   },
   "source": [
    "# Introduction\n",
    "\n",
    "In these exercises we'll apply groupwise analysis to our dataset.\n",
    "\n",
    "Run the code cell below to load the data before running the exercises."
   ]
  },
  {
   "cell_type": "code",
   "execution_count": 1,
   "id": "5fea5a68",
   "metadata": {
    "execution": {
     "iopub.execute_input": "2023-04-28T14:54:04.349622Z",
     "iopub.status.busy": "2023-04-28T14:54:04.349047Z",
     "iopub.status.idle": "2023-04-28T14:54:07.425858Z",
     "shell.execute_reply": "2023-04-28T14:54:07.423936Z"
    },
    "papermill": {
     "duration": 3.087272,
     "end_time": "2023-04-28T14:54:07.428738",
     "exception": false,
     "start_time": "2023-04-28T14:54:04.341466",
     "status": "completed"
    },
    "tags": []
   },
   "outputs": [
    {
     "name": "stdout",
     "output_type": "stream",
     "text": [
      "Setup complete.\n"
     ]
    }
   ],
   "source": [
    "import pandas as pd\n",
    "\n",
    "reviews = pd.read_csv(\"../input/wine-reviews/winemag-data-130k-v2.csv\", index_col=0)\n",
    "#pd.set_option(\"display.max_rows\", 5)\n",
    "\n",
    "from learntools.core import binder; binder.bind(globals())\n",
    "from learntools.pandas.grouping_and_sorting import *\n",
    "print(\"Setup complete.\")"
   ]
  },
  {
   "cell_type": "markdown",
   "id": "2da4f620",
   "metadata": {
    "papermill": {
     "duration": 0.005907,
     "end_time": "2023-04-28T14:54:07.441636",
     "exception": false,
     "start_time": "2023-04-28T14:54:07.435729",
     "status": "completed"
    },
    "tags": []
   },
   "source": [
    "# Exercises"
   ]
  },
  {
   "cell_type": "markdown",
   "id": "3dda93a0",
   "metadata": {
    "papermill": {
     "duration": 0.005928,
     "end_time": "2023-04-28T14:54:07.453733",
     "exception": false,
     "start_time": "2023-04-28T14:54:07.447805",
     "status": "completed"
    },
    "tags": []
   },
   "source": [
    "## 1.\n",
    "Who are the most common wine reviewers in the dataset? Create a `Series` whose index is the `taster_twitter_handle` category from the dataset, and whose values count how many reviews each person wrote."
   ]
  },
  {
   "cell_type": "code",
   "execution_count": 2,
   "id": "110d5e5a",
   "metadata": {
    "execution": {
     "iopub.execute_input": "2023-04-28T14:54:07.468143Z",
     "iopub.status.busy": "2023-04-28T14:54:07.467584Z",
     "iopub.status.idle": "2023-04-28T14:54:07.521347Z",
     "shell.execute_reply": "2023-04-28T14:54:07.519913Z"
    },
    "papermill": {
     "duration": 0.0644,
     "end_time": "2023-04-28T14:54:07.524095",
     "exception": false,
     "start_time": "2023-04-28T14:54:07.459695",
     "status": "completed"
    },
    "tags": []
   },
   "outputs": [
    {
     "data": {
      "application/javascript": [
       "parent.postMessage({\"jupyterEvent\": \"custom.exercise_interaction\", \"data\": {\"outcomeType\": 1, \"valueTowardsCompletion\": 0.16666666666666666, \"interactionType\": 1, \"questionType\": 1, \"questionId\": \"1_ReviewsWritten\", \"learnToolsVersion\": \"0.3.4\", \"failureMessage\": \"\", \"exceptionClass\": \"\", \"trace\": \"\"}}, \"*\")"
      ],
      "text/plain": [
       "<IPython.core.display.Javascript object>"
      ]
     },
     "metadata": {},
     "output_type": "display_data"
    },
    {
     "data": {
      "text/markdown": [
       "<span style=\"color:#33cc33\">Correct:</span> \n",
       "\n",
       "\n",
       "```python\n",
       "reviews_written = reviews.groupby('taster_twitter_handle').size()\n",
       "```\n",
       "or\n",
       "```python\n",
       "reviews_written = reviews.groupby('taster_twitter_handle').taster_twitter_handle.count()\n",
       "```\n"
      ],
      "text/plain": [
       "Correct: \n",
       "\n",
       "\n",
       "```python\n",
       "reviews_written = reviews.groupby('taster_twitter_handle').size()\n",
       "```\n",
       "or\n",
       "```python\n",
       "reviews_written = reviews.groupby('taster_twitter_handle').taster_twitter_handle.count()\n",
       "```"
      ]
     },
     "metadata": {},
     "output_type": "display_data"
    },
    {
     "data": {
      "text/plain": [
       "taster_twitter_handle\n",
       "@AnneInVino          3685\n",
       "@JoeCz               5147\n",
       "@bkfiona               27\n",
       "@gordone_cellars     4177\n",
       "@kerinokeefe        10776\n",
       "@laurbuzz            1835\n",
       "@mattkettmann        6332\n",
       "@paulgwine           9532\n",
       "@suskostrzewa        1085\n",
       "@vboone              9537\n",
       "@vossroger          25514\n",
       "@wawinereport        4966\n",
       "@wineschach         15134\n",
       "@winewchristina         6\n",
       "@worldwineguys       1005\n",
       "Name: description, dtype: int64"
      ]
     },
     "execution_count": 2,
     "metadata": {},
     "output_type": "execute_result"
    }
   ],
   "source": [
    "# Your code here\n",
    "reviews_written = reviews.groupby('taster_twitter_handle').description.count()\n",
    "\n",
    "# Check your answer\n",
    "q1.check()\n",
    "reviews_written"
   ]
  },
  {
   "cell_type": "code",
   "execution_count": 3,
   "id": "50ab2c34",
   "metadata": {
    "execution": {
     "iopub.execute_input": "2023-04-28T14:54:07.539909Z",
     "iopub.status.busy": "2023-04-28T14:54:07.538769Z",
     "iopub.status.idle": "2023-04-28T14:54:07.544979Z",
     "shell.execute_reply": "2023-04-28T14:54:07.543480Z"
    },
    "papermill": {
     "duration": 0.016964,
     "end_time": "2023-04-28T14:54:07.547680",
     "exception": false,
     "start_time": "2023-04-28T14:54:07.530716",
     "status": "completed"
    },
    "tags": []
   },
   "outputs": [],
   "source": [
    "#q1.hint()\n",
    "#q1.solution()"
   ]
  },
  {
   "cell_type": "markdown",
   "id": "1b28b59c",
   "metadata": {
    "papermill": {
     "duration": 0.006166,
     "end_time": "2023-04-28T14:54:07.560290",
     "exception": false,
     "start_time": "2023-04-28T14:54:07.554124",
     "status": "completed"
    },
    "tags": []
   },
   "source": [
    "## 2.\n",
    "What is the best wine I can buy for a given amount of money? Create a `Series` whose index is wine prices and whose values is the maximum number of points a wine costing that much was given in a review. Sort the values by price, ascending (so that `4.0` dollars is at the top and `3300.0` dollars is at the bottom)."
   ]
  },
  {
   "cell_type": "code",
   "execution_count": 4,
   "id": "ec909146",
   "metadata": {
    "execution": {
     "iopub.execute_input": "2023-04-28T14:54:07.574769Z",
     "iopub.status.busy": "2023-04-28T14:54:07.574349Z",
     "iopub.status.idle": "2023-04-28T14:54:08.418970Z",
     "shell.execute_reply": "2023-04-28T14:54:08.417547Z"
    },
    "papermill": {
     "duration": 0.855347,
     "end_time": "2023-04-28T14:54:08.421890",
     "exception": false,
     "start_time": "2023-04-28T14:54:07.566543",
     "status": "completed"
    },
    "tags": []
   },
   "outputs": [
    {
     "name": "stderr",
     "output_type": "stream",
     "text": [
      "/opt/conda/lib/python3.7/site-packages/ipykernel_launcher.py:1: FutureWarning: Dropping invalid columns in DataFrameGroupBy.max is deprecated. In a future version, a TypeError will be raised. Before calling .max, select only columns which should be valid for the function.\n",
      "  \"\"\"Entry point for launching an IPython kernel.\n"
     ]
    },
    {
     "data": {
      "application/javascript": [
       "parent.postMessage({\"jupyterEvent\": \"custom.exercise_interaction\", \"data\": {\"outcomeType\": 2, \"failureMessage\": \"Expected `best_rating_per_price` to have length 390 but was actually 2313\", \"interactionType\": 1, \"questionType\": 1, \"questionId\": \"2_BestRatingPerPrice\", \"learnToolsVersion\": \"0.3.4\", \"valueTowardsCompletion\": 0.0, \"exceptionClass\": \"\", \"trace\": \"\"}}, \"*\")"
      ],
      "text/plain": [
       "<IPython.core.display.Javascript object>"
      ]
     },
     "metadata": {},
     "output_type": "display_data"
    },
    {
     "data": {
      "text/markdown": [
       "<span style=\"color:#cc3333\">Incorrect:</span> Expected `best_rating_per_price` to have length 390 but was actually 2313"
      ],
      "text/plain": [
       "Incorrect: Expected `best_rating_per_price` to have length 390 but was actually 2313"
      ]
     },
     "metadata": {},
     "output_type": "display_data"
    },
    {
     "data": {
      "text/plain": [
       "price   points\n",
       "4.0     82                          Felix Solis\n",
       "        83                         Pam's Cuties\n",
       "        84                             Terrenal\n",
       "        85                          Felix Solis\n",
       "        86                        Cramele Recas\n",
       "                              ...              \n",
       "2000.0  96        Domaine du Comte Liger-Belair\n",
       "        97                       Château Pétrus\n",
       "2013.0  91                                Blair\n",
       "2500.0  96        Domaine du Comte Liger-Belair\n",
       "3300.0  88             Château les Ormes Sorbet\n",
       "Name: winery, Length: 2313, dtype: object"
      ]
     },
     "execution_count": 4,
     "metadata": {},
     "output_type": "execute_result"
    }
   ],
   "source": [
    "best_rating_per_price = reviews.groupby(['price','points']).max().sort_index().winery\n",
    "\n",
    "# Check your answer\n",
    "q2.check()\n",
    "best_rating_per_price"
   ]
  },
  {
   "cell_type": "code",
   "execution_count": 5,
   "id": "34eb4bf0",
   "metadata": {
    "execution": {
     "iopub.execute_input": "2023-04-28T14:54:08.438705Z",
     "iopub.status.busy": "2023-04-28T14:54:08.438185Z",
     "iopub.status.idle": "2023-04-28T14:54:08.453878Z",
     "shell.execute_reply": "2023-04-28T14:54:08.452513Z"
    },
    "papermill": {
     "duration": 0.027393,
     "end_time": "2023-04-28T14:54:08.456358",
     "exception": false,
     "start_time": "2023-04-28T14:54:08.428965",
     "status": "completed"
    },
    "tags": []
   },
   "outputs": [
    {
     "data": {
      "application/javascript": [
       "parent.postMessage({\"jupyterEvent\": \"custom.exercise_interaction\", \"data\": {\"interactionType\": 2, \"questionType\": 1, \"questionId\": \"2_BestRatingPerPrice\", \"learnToolsVersion\": \"0.3.4\", \"valueTowardsCompletion\": 0.0, \"failureMessage\": \"\", \"exceptionClass\": \"\", \"trace\": \"\", \"outcomeType\": 4}}, \"*\")"
      ],
      "text/plain": [
       "<IPython.core.display.Javascript object>"
      ]
     },
     "metadata": {},
     "output_type": "display_data"
    },
    {
     "data": {
      "text/markdown": [
       "<span style=\"color:#3366cc\">Hint:</span> Use `max()` and `sort_index()`.  The relevant columns in the DataFrame are `price` and `points`."
      ],
      "text/plain": [
       "Hint: Use `max()` and `sort_index()`.  The relevant columns in the DataFrame are `price` and `points`."
      ]
     },
     "metadata": {},
     "output_type": "display_data"
    },
    {
     "data": {
      "application/javascript": [
       "parent.postMessage({\"jupyterEvent\": \"custom.exercise_interaction\", \"data\": {\"interactionType\": 3, \"questionType\": 1, \"questionId\": \"2_BestRatingPerPrice\", \"learnToolsVersion\": \"0.3.4\", \"valueTowardsCompletion\": 0.0, \"failureMessage\": \"\", \"exceptionClass\": \"\", \"trace\": \"\", \"outcomeType\": 4}}, \"*\")"
      ],
      "text/plain": [
       "<IPython.core.display.Javascript object>"
      ]
     },
     "metadata": {},
     "output_type": "display_data"
    },
    {
     "data": {
      "text/markdown": [
       "<span style=\"color:#33cc99\">Solution:</span> \n",
       "```python\n",
       "best_rating_per_price = reviews.groupby('price')['points'].max().sort_index()\n",
       "```"
      ],
      "text/plain": [
       "Solution: \n",
       "```python\n",
       "best_rating_per_price = reviews.groupby('price')['points'].max().sort_index()\n",
       "```"
      ]
     },
     "metadata": {},
     "output_type": "display_data"
    }
   ],
   "source": [
    "q2.hint()\n",
    "q2.solution()"
   ]
  },
  {
   "cell_type": "markdown",
   "id": "af75af5b",
   "metadata": {
    "papermill": {
     "duration": 0.008248,
     "end_time": "2023-04-28T14:54:08.471895",
     "exception": false,
     "start_time": "2023-04-28T14:54:08.463647",
     "status": "completed"
    },
    "tags": []
   },
   "source": [
    "## 3.\n",
    "What are the minimum and maximum prices for each `variety` of wine? Create a `DataFrame` whose index is the `variety` category from the dataset and whose values are the `min` and `max` values thereof."
   ]
  },
  {
   "cell_type": "code",
   "execution_count": 6,
   "id": "b800a1e4",
   "metadata": {
    "execution": {
     "iopub.execute_input": "2023-04-28T14:54:08.490628Z",
     "iopub.status.busy": "2023-04-28T14:54:08.489097Z",
     "iopub.status.idle": "2023-04-28T14:54:08.928863Z",
     "shell.execute_reply": "2023-04-28T14:54:08.925467Z"
    },
    "papermill": {
     "duration": 0.452364,
     "end_time": "2023-04-28T14:54:08.932089",
     "exception": false,
     "start_time": "2023-04-28T14:54:08.479725",
     "status": "completed"
    },
    "tags": []
   },
   "outputs": [
    {
     "data": {
      "application/javascript": [
       "parent.postMessage({\"jupyterEvent\": \"custom.exercise_interaction\", \"data\": {\"outcomeType\": 2, \"failureMessage\": \"Expected `price_extremes` to have column `min`\", \"interactionType\": 1, \"questionType\": 1, \"questionId\": \"3_PriceExtremes\", \"learnToolsVersion\": \"0.3.4\", \"valueTowardsCompletion\": 0.0, \"exceptionClass\": \"\", \"trace\": \"\"}}, \"*\")"
      ],
      "text/plain": [
       "<IPython.core.display.Javascript object>"
      ]
     },
     "metadata": {},
     "output_type": "display_data"
    },
    {
     "data": {
      "text/markdown": [
       "<span style=\"color:#cc3333\">Incorrect:</span> Expected `price_extremes` to have column `min`"
      ],
      "text/plain": [
       "Incorrect: Expected `price_extremes` to have column `min`"
      ]
     },
     "metadata": {},
     "output_type": "display_data"
    }
   ],
   "source": [
    "price_extremes = reviews.groupby('variety').agg(['min'])\n",
    "\n",
    "# Check your answer\n",
    "q3.check()"
   ]
  },
  {
   "cell_type": "code",
   "execution_count": 7,
   "id": "85720bae",
   "metadata": {
    "execution": {
     "iopub.execute_input": "2023-04-28T14:54:08.950612Z",
     "iopub.status.busy": "2023-04-28T14:54:08.949442Z",
     "iopub.status.idle": "2023-04-28T14:54:08.965104Z",
     "shell.execute_reply": "2023-04-28T14:54:08.963932Z"
    },
    "papermill": {
     "duration": 0.028339,
     "end_time": "2023-04-28T14:54:08.968391",
     "exception": false,
     "start_time": "2023-04-28T14:54:08.940052",
     "status": "completed"
    },
    "tags": []
   },
   "outputs": [
    {
     "data": {
      "application/javascript": [
       "parent.postMessage({\"jupyterEvent\": \"custom.exercise_interaction\", \"data\": {\"interactionType\": 2, \"questionType\": 1, \"questionId\": \"3_PriceExtremes\", \"learnToolsVersion\": \"0.3.4\", \"valueTowardsCompletion\": 0.0, \"failureMessage\": \"\", \"exceptionClass\": \"\", \"trace\": \"\", \"outcomeType\": 4}}, \"*\")"
      ],
      "text/plain": [
       "<IPython.core.display.Javascript object>"
      ]
     },
     "metadata": {},
     "output_type": "display_data"
    },
    {
     "data": {
      "text/markdown": [
       "<span style=\"color:#3366cc\">Hint:</span> Use `agg()`."
      ],
      "text/plain": [
       "Hint: Use `agg()`."
      ]
     },
     "metadata": {},
     "output_type": "display_data"
    },
    {
     "data": {
      "application/javascript": [
       "parent.postMessage({\"jupyterEvent\": \"custom.exercise_interaction\", \"data\": {\"interactionType\": 3, \"questionType\": 1, \"questionId\": \"3_PriceExtremes\", \"learnToolsVersion\": \"0.3.4\", \"valueTowardsCompletion\": 0.0, \"failureMessage\": \"\", \"exceptionClass\": \"\", \"trace\": \"\", \"outcomeType\": 4}}, \"*\")"
      ],
      "text/plain": [
       "<IPython.core.display.Javascript object>"
      ]
     },
     "metadata": {},
     "output_type": "display_data"
    },
    {
     "data": {
      "text/markdown": [
       "<span style=\"color:#33cc99\">Solution:</span> \n",
       "```python\n",
       "price_extremes = reviews.groupby('variety').price.agg([min, max])\n",
       "```"
      ],
      "text/plain": [
       "Solution: \n",
       "```python\n",
       "price_extremes = reviews.groupby('variety').price.agg([min, max])\n",
       "```"
      ]
     },
     "metadata": {},
     "output_type": "display_data"
    }
   ],
   "source": [
    "q3.hint()\n",
    "q3.solution()"
   ]
  },
  {
   "cell_type": "markdown",
   "id": "ba6a3145",
   "metadata": {
    "papermill": {
     "duration": 0.012566,
     "end_time": "2023-04-28T14:54:08.996487",
     "exception": false,
     "start_time": "2023-04-28T14:54:08.983921",
     "status": "completed"
    },
    "tags": []
   },
   "source": [
    "## 4.\n",
    "What are the most expensive wine varieties? Create a variable `sorted_varieties` containing a copy of the dataframe from the previous question where varieties are sorted in descending order based on minimum price, then on maximum price (to break ties)."
   ]
  },
  {
   "cell_type": "code",
   "execution_count": 8,
   "id": "e31466cb",
   "metadata": {
    "execution": {
     "iopub.execute_input": "2023-04-28T14:54:09.024401Z",
     "iopub.status.busy": "2023-04-28T14:54:09.023182Z",
     "iopub.status.idle": "2023-04-28T14:54:09.067892Z",
     "shell.execute_reply": "2023-04-28T14:54:09.066129Z"
    },
    "papermill": {
     "duration": 0.061604,
     "end_time": "2023-04-28T14:54:09.071116",
     "exception": false,
     "start_time": "2023-04-28T14:54:09.009512",
     "status": "completed"
    },
    "tags": []
   },
   "outputs": [
    {
     "data": {
      "application/javascript": [
       "parent.postMessage({\"jupyterEvent\": \"custom.exercise_interaction\", \"data\": {\"outcomeType\": 1, \"valueTowardsCompletion\": 0.16666666666666666, \"interactionType\": 1, \"questionType\": 1, \"questionId\": \"4_SortedVarieties\", \"learnToolsVersion\": \"0.3.4\", \"failureMessage\": \"\", \"exceptionClass\": \"\", \"trace\": \"\"}}, \"*\")"
      ],
      "text/plain": [
       "<IPython.core.display.Javascript object>"
      ]
     },
     "metadata": {},
     "output_type": "display_data"
    },
    {
     "data": {
      "text/markdown": [
       "<span style=\"color:#33cc33\">Correct</span>"
      ],
      "text/plain": [
       "Correct"
      ]
     },
     "metadata": {},
     "output_type": "display_data"
    }
   ],
   "source": [
    "price_extremes = reviews.groupby('variety').price.agg([min, max])\n",
    "sorted_varieties = price_extremes.sort_values(by=['min','max'],ascending=False)\n",
    "\n",
    "# Check your answer\n",
    "q4.check()"
   ]
  },
  {
   "cell_type": "code",
   "execution_count": 9,
   "id": "1667c821",
   "metadata": {
    "execution": {
     "iopub.execute_input": "2023-04-28T14:54:09.091754Z",
     "iopub.status.busy": "2023-04-28T14:54:09.091242Z",
     "iopub.status.idle": "2023-04-28T14:54:09.118883Z",
     "shell.execute_reply": "2023-04-28T14:54:09.117445Z"
    },
    "papermill": {
     "duration": 0.043094,
     "end_time": "2023-04-28T14:54:09.123273",
     "exception": false,
     "start_time": "2023-04-28T14:54:09.080179",
     "status": "completed"
    },
    "tags": []
   },
   "outputs": [
    {
     "data": {
      "application/javascript": [
       "parent.postMessage({\"jupyterEvent\": \"custom.exercise_interaction\", \"data\": {\"interactionType\": 2, \"questionType\": 1, \"questionId\": \"4_SortedVarieties\", \"learnToolsVersion\": \"0.3.4\", \"valueTowardsCompletion\": 0.0, \"failureMessage\": \"\", \"exceptionClass\": \"\", \"trace\": \"\", \"outcomeType\": 4}}, \"*\")"
      ],
      "text/plain": [
       "<IPython.core.display.Javascript object>"
      ]
     },
     "metadata": {},
     "output_type": "display_data"
    },
    {
     "data": {
      "text/markdown": [
       "<span style=\"color:#3366cc\">Hint:</span> Use `sort_values()`, and provide a list of names to sort by."
      ],
      "text/plain": [
       "Hint: Use `sort_values()`, and provide a list of names to sort by."
      ]
     },
     "metadata": {},
     "output_type": "display_data"
    },
    {
     "data": {
      "application/javascript": [
       "parent.postMessage({\"jupyterEvent\": \"custom.exercise_interaction\", \"data\": {\"interactionType\": 3, \"questionType\": 1, \"questionId\": \"4_SortedVarieties\", \"learnToolsVersion\": \"0.3.4\", \"valueTowardsCompletion\": 0.0, \"failureMessage\": \"\", \"exceptionClass\": \"\", \"trace\": \"\", \"outcomeType\": 4}}, \"*\")"
      ],
      "text/plain": [
       "<IPython.core.display.Javascript object>"
      ]
     },
     "metadata": {},
     "output_type": "display_data"
    },
    {
     "data": {
      "text/markdown": [
       "<span style=\"color:#33cc99\">Solution:</span> \n",
       "```python\n",
       "sorted_varieties = price_extremes.sort_values(by=['min', 'max'], ascending=False)\n",
       "```"
      ],
      "text/plain": [
       "Solution: \n",
       "```python\n",
       "sorted_varieties = price_extremes.sort_values(by=['min', 'max'], ascending=False)\n",
       "```"
      ]
     },
     "metadata": {},
     "output_type": "display_data"
    }
   ],
   "source": [
    "q4.hint()\n",
    "q4.solution()"
   ]
  },
  {
   "cell_type": "markdown",
   "id": "a7dabd17",
   "metadata": {
    "papermill": {
     "duration": 0.011412,
     "end_time": "2023-04-28T14:54:09.148723",
     "exception": false,
     "start_time": "2023-04-28T14:54:09.137311",
     "status": "completed"
    },
    "tags": []
   },
   "source": [
    "## 5.\n",
    "Create a `Series` whose index is reviewers and whose values is the average review score given out by that reviewer. Hint: you will need the `taster_name` and `points` columns."
   ]
  },
  {
   "cell_type": "code",
   "execution_count": 10,
   "id": "bffd8a73",
   "metadata": {
    "execution": {
     "iopub.execute_input": "2023-04-28T14:54:09.168718Z",
     "iopub.status.busy": "2023-04-28T14:54:09.168334Z",
     "iopub.status.idle": "2023-04-28T14:54:09.199458Z",
     "shell.execute_reply": "2023-04-28T14:54:09.198136Z"
    },
    "papermill": {
     "duration": 0.043971,
     "end_time": "2023-04-28T14:54:09.201896",
     "exception": false,
     "start_time": "2023-04-28T14:54:09.157925",
     "status": "completed"
    },
    "tags": []
   },
   "outputs": [
    {
     "data": {
      "application/javascript": [
       "parent.postMessage({\"jupyterEvent\": \"custom.exercise_interaction\", \"data\": {\"outcomeType\": 1, \"valueTowardsCompletion\": 0.16666666666666666, \"interactionType\": 1, \"questionType\": 1, \"questionId\": \"5_ReviewerMeanRatings\", \"learnToolsVersion\": \"0.3.4\", \"failureMessage\": \"\", \"exceptionClass\": \"\", \"trace\": \"\"}}, \"*\")"
      ],
      "text/plain": [
       "<IPython.core.display.Javascript object>"
      ]
     },
     "metadata": {},
     "output_type": "display_data"
    },
    {
     "data": {
      "text/markdown": [
       "<span style=\"color:#33cc33\">Correct</span>"
      ],
      "text/plain": [
       "Correct"
      ]
     },
     "metadata": {},
     "output_type": "display_data"
    },
    {
     "data": {
      "text/plain": [
       "taster_name\n",
       "Alexander Peartree    85.855422\n",
       "Anna Lee C. Iijima    88.415629\n",
       "Anne Krebiehl MW      90.562551\n",
       "Carrie Dykes          86.395683\n",
       "Christina Pickard     87.833333\n",
       "Fiona Adams           86.888889\n",
       "Jeff Jenssen          88.319756\n",
       "Jim Gordon            88.626287\n",
       "Joe Czerwinski        88.536235\n",
       "Kerin O’Keefe         88.867947\n",
       "Lauren Buzzeo         87.739510\n",
       "Matt Kettmann         90.008686\n",
       "Michael Schachner     86.907493\n",
       "Mike DeSimone         89.101167\n",
       "Paul Gregutt          89.082564\n",
       "Roger Voss            88.708003\n",
       "Sean P. Sullivan      88.755739\n",
       "Susan Kostrzewa       86.609217\n",
       "Virginie Boone        89.213379\n",
       "Name: points, dtype: float64"
      ]
     },
     "execution_count": 10,
     "metadata": {},
     "output_type": "execute_result"
    }
   ],
   "source": [
    "reviewer_mean_ratings = reviews.groupby('taster_name')['points'].mean()\n",
    "\n",
    "# Check your answer\n",
    "q5.check()\n",
    "reviewer_mean_ratings"
   ]
  },
  {
   "cell_type": "code",
   "execution_count": 11,
   "id": "5387e59a",
   "metadata": {
    "execution": {
     "iopub.execute_input": "2023-04-28T14:54:09.224616Z",
     "iopub.status.busy": "2023-04-28T14:54:09.223607Z",
     "iopub.status.idle": "2023-04-28T14:54:09.233943Z",
     "shell.execute_reply": "2023-04-28T14:54:09.232713Z"
    },
    "papermill": {
     "duration": 0.024997,
     "end_time": "2023-04-28T14:54:09.236433",
     "exception": false,
     "start_time": "2023-04-28T14:54:09.211436",
     "status": "completed"
    },
    "tags": []
   },
   "outputs": [
    {
     "data": {
      "application/javascript": [
       "parent.postMessage({\"jupyterEvent\": \"custom.exercise_interaction\", \"data\": {\"interactionType\": 2, \"questionType\": 1, \"questionId\": \"5_ReviewerMeanRatings\", \"learnToolsVersion\": \"0.3.4\", \"valueTowardsCompletion\": 0.0, \"failureMessage\": \"\", \"exceptionClass\": \"\", \"trace\": \"\", \"outcomeType\": 4}}, \"*\")"
      ],
      "text/plain": [
       "<IPython.core.display.Javascript object>"
      ]
     },
     "metadata": {},
     "output_type": "display_data"
    },
    {
     "data": {
      "text/markdown": [
       "<span style=\"color:#3366cc\">Hint:</span> Use `mean()`."
      ],
      "text/plain": [
       "Hint: Use `mean()`."
      ]
     },
     "metadata": {},
     "output_type": "display_data"
    }
   ],
   "source": [
    "q5.hint()\n",
    "#q5.solution()"
   ]
  },
  {
   "cell_type": "markdown",
   "id": "fb20e0bc",
   "metadata": {
    "papermill": {
     "duration": 0.009234,
     "end_time": "2023-04-28T14:54:09.255738",
     "exception": false,
     "start_time": "2023-04-28T14:54:09.246504",
     "status": "completed"
    },
    "tags": []
   },
   "source": [
    "Are there significant differences in the average scores assigned by the various reviewers? Run the cell below to use the `describe()` method to see a summary of the range of values."
   ]
  },
  {
   "cell_type": "code",
   "execution_count": 12,
   "id": "4b8cc3b5",
   "metadata": {
    "execution": {
     "iopub.execute_input": "2023-04-28T14:54:09.278004Z",
     "iopub.status.busy": "2023-04-28T14:54:09.276995Z",
     "iopub.status.idle": "2023-04-28T14:54:09.298183Z",
     "shell.execute_reply": "2023-04-28T14:54:09.296389Z"
    },
    "papermill": {
     "duration": 0.036189,
     "end_time": "2023-04-28T14:54:09.301490",
     "exception": false,
     "start_time": "2023-04-28T14:54:09.265301",
     "status": "completed"
    },
    "tags": []
   },
   "outputs": [
    {
     "data": {
      "text/plain": [
       "count    19.000000\n",
       "mean     88.233026\n",
       "std       1.243610\n",
       "min      85.855422\n",
       "25%      87.323501\n",
       "50%      88.536235\n",
       "75%      88.975256\n",
       "max      90.562551\n",
       "Name: points, dtype: float64"
      ]
     },
     "execution_count": 12,
     "metadata": {},
     "output_type": "execute_result"
    }
   ],
   "source": [
    "reviewer_mean_ratings.describe()"
   ]
  },
  {
   "cell_type": "markdown",
   "id": "ed105989",
   "metadata": {
    "papermill": {
     "duration": 0.01368,
     "end_time": "2023-04-28T14:54:09.329560",
     "exception": false,
     "start_time": "2023-04-28T14:54:09.315880",
     "status": "completed"
    },
    "tags": []
   },
   "source": [
    "## 6.\n",
    "What combination of countries and varieties are most common? Create a `Series` whose index is a `MultiIndex`of `{country, variety}` pairs. For example, a pinot noir produced in the US should map to `{\"US\", \"Pinot Noir\"}`. Sort the values in the `Series` in descending order based on wine count."
   ]
  },
  {
   "cell_type": "code",
   "execution_count": 13,
   "id": "e3b8dc67",
   "metadata": {
    "execution": {
     "iopub.execute_input": "2023-04-28T14:54:09.357001Z",
     "iopub.status.busy": "2023-04-28T14:54:09.355947Z",
     "iopub.status.idle": "2023-04-28T14:54:09.405839Z",
     "shell.execute_reply": "2023-04-28T14:54:09.404410Z"
    },
    "papermill": {
     "duration": 0.065126,
     "end_time": "2023-04-28T14:54:09.408785",
     "exception": false,
     "start_time": "2023-04-28T14:54:09.343659",
     "status": "completed"
    },
    "tags": []
   },
   "outputs": [
    {
     "data": {
      "application/javascript": [
       "parent.postMessage({\"jupyterEvent\": \"custom.exercise_interaction\", \"data\": {\"outcomeType\": 1, \"valueTowardsCompletion\": 0.16666666666666666, \"interactionType\": 1, \"questionType\": 1, \"questionId\": \"6_GroupbyCountryVariety\", \"learnToolsVersion\": \"0.3.4\", \"failureMessage\": \"\", \"exceptionClass\": \"\", \"trace\": \"\"}}, \"*\")"
      ],
      "text/plain": [
       "<IPython.core.display.Javascript object>"
      ]
     },
     "metadata": {},
     "output_type": "display_data"
    },
    {
     "data": {
      "text/markdown": [
       "<span style=\"color:#33cc33\">Correct</span>"
      ],
      "text/plain": [
       "Correct"
      ]
     },
     "metadata": {},
     "output_type": "display_data"
    },
    {
     "data": {
      "text/plain": [
       "country  variety                 \n",
       "US       Pinot Noir                  9885\n",
       "         Cabernet Sauvignon          7315\n",
       "         Chardonnay                  6801\n",
       "France   Bordeaux-style Red Blend    4725\n",
       "Italy    Red Blend                   3624\n",
       "                                     ... \n",
       "Mexico   Cinsault                       1\n",
       "         Grenache                       1\n",
       "         Merlot                         1\n",
       "         Rosado                         1\n",
       "Uruguay  White Blend                    1\n",
       "Length: 1612, dtype: int64"
      ]
     },
     "execution_count": 13,
     "metadata": {},
     "output_type": "execute_result"
    }
   ],
   "source": [
    "country_variety_counts = reviews.groupby(['country','variety']).size().sort_values(ascending=False)\n",
    "\n",
    "# Check your answer\n",
    "q6.check()\n",
    "country_variety_counts"
   ]
  },
  {
   "cell_type": "code",
   "execution_count": 14,
   "id": "5a42f8db",
   "metadata": {
    "execution": {
     "iopub.execute_input": "2023-04-28T14:54:09.431419Z",
     "iopub.status.busy": "2023-04-28T14:54:09.430566Z",
     "iopub.status.idle": "2023-04-28T14:54:09.440758Z",
     "shell.execute_reply": "2023-04-28T14:54:09.439776Z"
    },
    "papermill": {
     "duration": 0.024583,
     "end_time": "2023-04-28T14:54:09.443396",
     "exception": false,
     "start_time": "2023-04-28T14:54:09.418813",
     "status": "completed"
    },
    "tags": []
   },
   "outputs": [
    {
     "data": {
      "application/javascript": [
       "parent.postMessage({\"jupyterEvent\": \"custom.exercise_interaction\", \"data\": {\"interactionType\": 2, \"questionType\": 1, \"questionId\": \"6_GroupbyCountryVariety\", \"learnToolsVersion\": \"0.3.4\", \"valueTowardsCompletion\": 0.0, \"failureMessage\": \"\", \"exceptionClass\": \"\", \"trace\": \"\", \"outcomeType\": 4}}, \"*\")"
      ],
      "text/plain": [
       "<IPython.core.display.Javascript object>"
      ]
     },
     "metadata": {},
     "output_type": "display_data"
    },
    {
     "data": {
      "text/markdown": [
       "<span style=\"color:#3366cc\">Hint:</span> Use `groupby()`, and provide a list of columns to group by.  You may also find `size()` and `sort_values()` to be useful!"
      ],
      "text/plain": [
       "Hint: Use `groupby()`, and provide a list of columns to group by.  You may also find `size()` and `sort_values()` to be useful!"
      ]
     },
     "metadata": {},
     "output_type": "display_data"
    }
   ],
   "source": [
    "q6.hint()\n",
    "#q6.solution()"
   ]
  },
  {
   "cell_type": "markdown",
   "id": "1b647fbe",
   "metadata": {
    "papermill": {
     "duration": 0.01028,
     "end_time": "2023-04-28T14:54:09.463993",
     "exception": false,
     "start_time": "2023-04-28T14:54:09.453713",
     "status": "completed"
    },
    "tags": []
   },
   "source": [
    "# Keep going\n",
    "\n",
    "Move on to the [**data types and missing data**](https://www.kaggle.com/residentmario/data-types-and-missing-values)."
   ]
  },
  {
   "cell_type": "markdown",
   "id": "eaf55662",
   "metadata": {
    "papermill": {
     "duration": 0.009956,
     "end_time": "2023-04-28T14:54:09.484266",
     "exception": false,
     "start_time": "2023-04-28T14:54:09.474310",
     "status": "completed"
    },
    "tags": []
   },
   "source": [
    "---\n",
    "\n",
    "\n",
    "\n",
    "\n",
    "*Have questions or comments? Visit the [course discussion forum](https://www.kaggle.com/learn/pandas/discussion) to chat with other learners.*"
   ]
  }
 ],
 "metadata": {
  "kernelspec": {
   "display_name": "Python 3",
   "language": "python",
   "name": "python3"
  },
  "language_info": {
   "codemirror_mode": {
    "name": "ipython",
    "version": 3
   },
   "file_extension": ".py",
   "mimetype": "text/x-python",
   "name": "python",
   "nbconvert_exporter": "python",
   "pygments_lexer": "ipython3",
   "version": "3.7.12"
  },
  "papermill": {
   "default_parameters": {},
   "duration": 16.304246,
   "end_time": "2023-04-28T14:54:10.217308",
   "environment_variables": {},
   "exception": null,
   "input_path": "__notebook__.ipynb",
   "output_path": "__notebook__.ipynb",
   "parameters": {},
   "start_time": "2023-04-28T14:53:53.913062",
   "version": "2.4.0"
  }
 },
 "nbformat": 4,
 "nbformat_minor": 5
}
