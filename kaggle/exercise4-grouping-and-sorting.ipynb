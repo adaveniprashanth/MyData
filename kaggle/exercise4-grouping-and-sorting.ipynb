{
 "cells": [
  {
   "cell_type": "markdown",
   "id": "ac79a312",
   "metadata": {
    "papermill": {
     "duration": 0.006923,
     "end_time": "2023-04-29T09:14:50.817497",
     "exception": false,
     "start_time": "2023-04-29T09:14:50.810574",
     "status": "completed"
    },
    "tags": []
   },
   "source": [
    "**This notebook is an exercise in the [Pandas](https://www.kaggle.com/learn/pandas) course.  You can reference the tutorial at [this link](https://www.kaggle.com/residentmario/grouping-and-sorting).**\n",
    "\n",
    "---\n"
   ]
  },
  {
   "cell_type": "markdown",
   "id": "4013bc18",
   "metadata": {
    "papermill": {
     "duration": 0.005674,
     "end_time": "2023-04-29T09:14:50.829208",
     "exception": false,
     "start_time": "2023-04-29T09:14:50.823534",
     "status": "completed"
    },
    "tags": []
   },
   "source": [
    "# Introduction\n",
    "\n",
    "In these exercises we'll apply groupwise analysis to our dataset.\n",
    "\n",
    "Run the code cell below to load the data before running the exercises."
   ]
  },
  {
   "cell_type": "code",
   "execution_count": 1,
   "id": "1c9d8964",
   "metadata": {
    "execution": {
     "iopub.execute_input": "2023-04-29T09:14:50.843019Z",
     "iopub.status.busy": "2023-04-29T09:14:50.842391Z",
     "iopub.status.idle": "2023-04-29T09:14:53.711882Z",
     "shell.execute_reply": "2023-04-29T09:14:53.710132Z"
    },
    "papermill": {
     "duration": 2.879547,
     "end_time": "2023-04-29T09:14:53.714575",
     "exception": false,
     "start_time": "2023-04-29T09:14:50.835028",
     "status": "completed"
    },
    "tags": []
   },
   "outputs": [
    {
     "name": "stdout",
     "output_type": "stream",
     "text": [
      "Setup complete.\n"
     ]
    }
   ],
   "source": [
    "import pandas as pd\n",
    "\n",
    "reviews = pd.read_csv(\"../input/wine-reviews/winemag-data-130k-v2.csv\", index_col=0)\n",
    "#pd.set_option(\"display.max_rows\", 5)\n",
    "\n",
    "from learntools.core import binder; binder.bind(globals())\n",
    "from learntools.pandas.grouping_and_sorting import *\n",
    "print(\"Setup complete.\")"
   ]
  },
  {
   "cell_type": "markdown",
   "id": "66581277",
   "metadata": {
    "papermill": {
     "duration": 0.005431,
     "end_time": "2023-04-29T09:14:53.726002",
     "exception": false,
     "start_time": "2023-04-29T09:14:53.720571",
     "status": "completed"
    },
    "tags": []
   },
   "source": [
    "# Exercises"
   ]
  },
  {
   "cell_type": "markdown",
   "id": "8f1fd97d",
   "metadata": {
    "papermill": {
     "duration": 0.005496,
     "end_time": "2023-04-29T09:14:53.737177",
     "exception": false,
     "start_time": "2023-04-29T09:14:53.731681",
     "status": "completed"
    },
    "tags": []
   },
   "source": [
    "## 1.\n",
    "Who are the most common wine reviewers in the dataset? Create a `Series` whose index is the `taster_twitter_handle` category from the dataset, and whose values count how many reviews each person wrote."
   ]
  },
  {
   "cell_type": "code",
   "execution_count": 2,
   "id": "c98ce861",
   "metadata": {
    "execution": {
     "iopub.execute_input": "2023-04-29T09:14:53.750679Z",
     "iopub.status.busy": "2023-04-29T09:14:53.750239Z",
     "iopub.status.idle": "2023-04-29T09:14:53.784489Z",
     "shell.execute_reply": "2023-04-29T09:14:53.783253Z"
    },
    "papermill": {
     "duration": 0.043986,
     "end_time": "2023-04-29T09:14:53.786891",
     "exception": false,
     "start_time": "2023-04-29T09:14:53.742905",
     "status": "completed"
    },
    "tags": []
   },
   "outputs": [
    {
     "data": {
      "application/javascript": [
       "parent.postMessage({\"jupyterEvent\": \"custom.exercise_interaction\", \"data\": {\"outcomeType\": 1, \"valueTowardsCompletion\": 0.16666666666666666, \"interactionType\": 1, \"questionType\": 1, \"questionId\": \"1_ReviewsWritten\", \"learnToolsVersion\": \"0.3.4\", \"failureMessage\": \"\", \"exceptionClass\": \"\", \"trace\": \"\"}}, \"*\")"
      ],
      "text/plain": [
       "<IPython.core.display.Javascript object>"
      ]
     },
     "metadata": {},
     "output_type": "display_data"
    },
    {
     "data": {
      "text/markdown": [
       "<span style=\"color:#33cc33\">Correct:</span> \n",
       "\n",
       "\n",
       "```python\n",
       "reviews_written = reviews.groupby('taster_twitter_handle').size()\n",
       "```\n",
       "or\n",
       "```python\n",
       "reviews_written = reviews.groupby('taster_twitter_handle').taster_twitter_handle.count()\n",
       "```\n"
      ],
      "text/plain": [
       "Correct: \n",
       "\n",
       "\n",
       "```python\n",
       "reviews_written = reviews.groupby('taster_twitter_handle').size()\n",
       "```\n",
       "or\n",
       "```python\n",
       "reviews_written = reviews.groupby('taster_twitter_handle').taster_twitter_handle.count()\n",
       "```"
      ]
     },
     "metadata": {},
     "output_type": "display_data"
    },
    {
     "data": {
      "text/plain": [
       "taster_twitter_handle\n",
       "@AnneInVino          3685\n",
       "@JoeCz               5147\n",
       "@bkfiona               27\n",
       "@gordone_cellars     4177\n",
       "@kerinokeefe        10776\n",
       "@laurbuzz            1835\n",
       "@mattkettmann        6332\n",
       "@paulgwine           9532\n",
       "@suskostrzewa        1085\n",
       "@vboone              9537\n",
       "@vossroger          25514\n",
       "@wawinereport        4966\n",
       "@wineschach         15134\n",
       "@winewchristina         6\n",
       "@worldwineguys       1005\n",
       "Name: title, dtype: int64"
      ]
     },
     "execution_count": 2,
     "metadata": {},
     "output_type": "execute_result"
    }
   ],
   "source": [
    "# Your code here\n",
    "reviews_written = reviews.groupby('taster_twitter_handle').title.count()\n",
    "\n",
    "# Check your answer\n",
    "q1.check()\n",
    "reviews_written"
   ]
  },
  {
   "cell_type": "code",
   "execution_count": 3,
   "id": "810b8702",
   "metadata": {
    "execution": {
     "iopub.execute_input": "2023-04-29T09:14:53.801532Z",
     "iopub.status.busy": "2023-04-29T09:14:53.801111Z",
     "iopub.status.idle": "2023-04-29T09:14:53.805939Z",
     "shell.execute_reply": "2023-04-29T09:14:53.804722Z"
    },
    "papermill": {
     "duration": 0.014925,
     "end_time": "2023-04-29T09:14:53.808138",
     "exception": false,
     "start_time": "2023-04-29T09:14:53.793213",
     "status": "completed"
    },
    "tags": []
   },
   "outputs": [],
   "source": [
    "#q1.hint()\n",
    "#q1.solution()"
   ]
  },
  {
   "cell_type": "markdown",
   "id": "c4fac1a2",
   "metadata": {
    "papermill": {
     "duration": 0.006034,
     "end_time": "2023-04-29T09:14:53.820452",
     "exception": false,
     "start_time": "2023-04-29T09:14:53.814418",
     "status": "completed"
    },
    "tags": []
   },
   "source": [
    "## 2.\n",
    "What is the best wine I can buy for a given amount of money? Create a `Series` whose index is wine prices and whose values is the maximum number of points a wine costing that much was given in a review. Sort the values by price, ascending (so that `4.0` dollars is at the top and `3300.0` dollars is at the bottom)."
   ]
  },
  {
   "cell_type": "code",
   "execution_count": 4,
   "id": "c77b1b30",
   "metadata": {
    "execution": {
     "iopub.execute_input": "2023-04-29T09:14:53.834951Z",
     "iopub.status.busy": "2023-04-29T09:14:53.834539Z",
     "iopub.status.idle": "2023-04-29T09:14:53.855051Z",
     "shell.execute_reply": "2023-04-29T09:14:53.853781Z"
    },
    "papermill": {
     "duration": 0.030758,
     "end_time": "2023-04-29T09:14:53.857448",
     "exception": false,
     "start_time": "2023-04-29T09:14:53.826690",
     "status": "completed"
    },
    "tags": []
   },
   "outputs": [
    {
     "data": {
      "application/javascript": [
       "parent.postMessage({\"jupyterEvent\": \"custom.exercise_interaction\", \"data\": {\"outcomeType\": 1, \"valueTowardsCompletion\": 0.16666666666666666, \"interactionType\": 1, \"questionType\": 1, \"questionId\": \"2_BestRatingPerPrice\", \"learnToolsVersion\": \"0.3.4\", \"failureMessage\": \"\", \"exceptionClass\": \"\", \"trace\": \"\"}}, \"*\")"
      ],
      "text/plain": [
       "<IPython.core.display.Javascript object>"
      ]
     },
     "metadata": {},
     "output_type": "display_data"
    },
    {
     "data": {
      "text/markdown": [
       "<span style=\"color:#33cc33\">Correct</span>"
      ],
      "text/plain": [
       "Correct"
      ]
     },
     "metadata": {},
     "output_type": "display_data"
    },
    {
     "data": {
      "text/plain": [
       "price\n",
       "4.0       86\n",
       "5.0       87\n",
       "6.0       88\n",
       "7.0       91\n",
       "8.0       91\n",
       "          ..\n",
       "1900.0    98\n",
       "2000.0    97\n",
       "2013.0    91\n",
       "2500.0    96\n",
       "3300.0    88\n",
       "Name: points, Length: 390, dtype: int64"
      ]
     },
     "execution_count": 4,
     "metadata": {},
     "output_type": "execute_result"
    }
   ],
   "source": [
    "best_rating_per_price = reviews.groupby(['price']).points.max()\n",
    "\n",
    "# Check your answer\n",
    "q2.check()\n",
    "best_rating_per_price"
   ]
  },
  {
   "cell_type": "code",
   "execution_count": 5,
   "id": "c248501f",
   "metadata": {
    "execution": {
     "iopub.execute_input": "2023-04-29T09:14:53.873580Z",
     "iopub.status.busy": "2023-04-29T09:14:53.872499Z",
     "iopub.status.idle": "2023-04-29T09:14:53.887081Z",
     "shell.execute_reply": "2023-04-29T09:14:53.885645Z"
    },
    "papermill": {
     "duration": 0.025571,
     "end_time": "2023-04-29T09:14:53.889807",
     "exception": false,
     "start_time": "2023-04-29T09:14:53.864236",
     "status": "completed"
    },
    "tags": []
   },
   "outputs": [
    {
     "data": {
      "application/javascript": [
       "parent.postMessage({\"jupyterEvent\": \"custom.exercise_interaction\", \"data\": {\"interactionType\": 2, \"questionType\": 1, \"questionId\": \"2_BestRatingPerPrice\", \"learnToolsVersion\": \"0.3.4\", \"valueTowardsCompletion\": 0.0, \"failureMessage\": \"\", \"exceptionClass\": \"\", \"trace\": \"\", \"outcomeType\": 4}}, \"*\")"
      ],
      "text/plain": [
       "<IPython.core.display.Javascript object>"
      ]
     },
     "metadata": {},
     "output_type": "display_data"
    },
    {
     "data": {
      "text/markdown": [
       "<span style=\"color:#3366cc\">Hint:</span> Use `max()` and `sort_index()`.  The relevant columns in the DataFrame are `price` and `points`."
      ],
      "text/plain": [
       "Hint: Use `max()` and `sort_index()`.  The relevant columns in the DataFrame are `price` and `points`."
      ]
     },
     "metadata": {},
     "output_type": "display_data"
    },
    {
     "data": {
      "application/javascript": [
       "parent.postMessage({\"jupyterEvent\": \"custom.exercise_interaction\", \"data\": {\"interactionType\": 3, \"questionType\": 1, \"questionId\": \"2_BestRatingPerPrice\", \"learnToolsVersion\": \"0.3.4\", \"valueTowardsCompletion\": 0.0, \"failureMessage\": \"\", \"exceptionClass\": \"\", \"trace\": \"\", \"outcomeType\": 4}}, \"*\")"
      ],
      "text/plain": [
       "<IPython.core.display.Javascript object>"
      ]
     },
     "metadata": {},
     "output_type": "display_data"
    },
    {
     "data": {
      "text/markdown": [
       "<span style=\"color:#33cc99\">Solution:</span> \n",
       "```python\n",
       "best_rating_per_price = reviews.groupby('price')['points'].max().sort_index()\n",
       "```"
      ],
      "text/plain": [
       "Solution: \n",
       "```python\n",
       "best_rating_per_price = reviews.groupby('price')['points'].max().sort_index()\n",
       "```"
      ]
     },
     "metadata": {},
     "output_type": "display_data"
    }
   ],
   "source": [
    "q2.hint()\n",
    "q2.solution()"
   ]
  },
  {
   "cell_type": "markdown",
   "id": "acf49956",
   "metadata": {
    "papermill": {
     "duration": 0.007709,
     "end_time": "2023-04-29T09:14:53.904656",
     "exception": false,
     "start_time": "2023-04-29T09:14:53.896947",
     "status": "completed"
    },
    "tags": []
   },
   "source": [
    "## 3.\n",
    "What are the minimum and maximum prices for each `variety` of wine? Create a `DataFrame` whose index is the `variety` category from the dataset and whose values are the `min` and `max` values thereof."
   ]
  },
  {
   "cell_type": "code",
   "execution_count": 6,
   "id": "9e7f2ed6",
   "metadata": {
    "execution": {
     "iopub.execute_input": "2023-04-29T09:14:53.920328Z",
     "iopub.status.busy": "2023-04-29T09:14:53.919921Z",
     "iopub.status.idle": "2023-04-29T09:14:53.969269Z",
     "shell.execute_reply": "2023-04-29T09:14:53.968127Z"
    },
    "papermill": {
     "duration": 0.060233,
     "end_time": "2023-04-29T09:14:53.971825",
     "exception": false,
     "start_time": "2023-04-29T09:14:53.911592",
     "status": "completed"
    },
    "tags": []
   },
   "outputs": [
    {
     "data": {
      "application/javascript": [
       "parent.postMessage({\"jupyterEvent\": \"custom.exercise_interaction\", \"data\": {\"outcomeType\": 1, \"valueTowardsCompletion\": 0.16666666666666666, \"interactionType\": 1, \"questionType\": 1, \"questionId\": \"3_PriceExtremes\", \"learnToolsVersion\": \"0.3.4\", \"failureMessage\": \"\", \"exceptionClass\": \"\", \"trace\": \"\"}}, \"*\")"
      ],
      "text/plain": [
       "<IPython.core.display.Javascript object>"
      ]
     },
     "metadata": {},
     "output_type": "display_data"
    },
    {
     "data": {
      "text/markdown": [
       "<span style=\"color:#33cc33\">Correct</span>"
      ],
      "text/plain": [
       "Correct"
      ]
     },
     "metadata": {},
     "output_type": "display_data"
    },
    {
     "data": {
      "text/html": [
       "<div>\n",
       "<style scoped>\n",
       "    .dataframe tbody tr th:only-of-type {\n",
       "        vertical-align: middle;\n",
       "    }\n",
       "\n",
       "    .dataframe tbody tr th {\n",
       "        vertical-align: top;\n",
       "    }\n",
       "\n",
       "    .dataframe thead th {\n",
       "        text-align: right;\n",
       "    }\n",
       "</style>\n",
       "<table border=\"1\" class=\"dataframe\">\n",
       "  <thead>\n",
       "    <tr style=\"text-align: right;\">\n",
       "      <th></th>\n",
       "      <th>min</th>\n",
       "      <th>max</th>\n",
       "    </tr>\n",
       "    <tr>\n",
       "      <th>variety</th>\n",
       "      <th></th>\n",
       "      <th></th>\n",
       "    </tr>\n",
       "  </thead>\n",
       "  <tbody>\n",
       "    <tr>\n",
       "      <th>Abouriou</th>\n",
       "      <td>15.0</td>\n",
       "      <td>75.0</td>\n",
       "    </tr>\n",
       "    <tr>\n",
       "      <th>Agiorgitiko</th>\n",
       "      <td>10.0</td>\n",
       "      <td>66.0</td>\n",
       "    </tr>\n",
       "    <tr>\n",
       "      <th>Aglianico</th>\n",
       "      <td>6.0</td>\n",
       "      <td>180.0</td>\n",
       "    </tr>\n",
       "    <tr>\n",
       "      <th>Aidani</th>\n",
       "      <td>27.0</td>\n",
       "      <td>27.0</td>\n",
       "    </tr>\n",
       "    <tr>\n",
       "      <th>Airen</th>\n",
       "      <td>8.0</td>\n",
       "      <td>10.0</td>\n",
       "    </tr>\n",
       "    <tr>\n",
       "      <th>...</th>\n",
       "      <td>...</td>\n",
       "      <td>...</td>\n",
       "    </tr>\n",
       "    <tr>\n",
       "      <th>Zinfandel</th>\n",
       "      <td>5.0</td>\n",
       "      <td>100.0</td>\n",
       "    </tr>\n",
       "    <tr>\n",
       "      <th>Zlahtina</th>\n",
       "      <td>13.0</td>\n",
       "      <td>16.0</td>\n",
       "    </tr>\n",
       "    <tr>\n",
       "      <th>Zweigelt</th>\n",
       "      <td>9.0</td>\n",
       "      <td>70.0</td>\n",
       "    </tr>\n",
       "    <tr>\n",
       "      <th>Çalkarası</th>\n",
       "      <td>19.0</td>\n",
       "      <td>19.0</td>\n",
       "    </tr>\n",
       "    <tr>\n",
       "      <th>Žilavka</th>\n",
       "      <td>15.0</td>\n",
       "      <td>15.0</td>\n",
       "    </tr>\n",
       "  </tbody>\n",
       "</table>\n",
       "<p>707 rows × 2 columns</p>\n",
       "</div>"
      ],
      "text/plain": [
       "              min    max\n",
       "variety                 \n",
       "Abouriou     15.0   75.0\n",
       "Agiorgitiko  10.0   66.0\n",
       "Aglianico     6.0  180.0\n",
       "Aidani       27.0   27.0\n",
       "Airen         8.0   10.0\n",
       "...           ...    ...\n",
       "Zinfandel     5.0  100.0\n",
       "Zlahtina     13.0   16.0\n",
       "Zweigelt      9.0   70.0\n",
       "Çalkarası    19.0   19.0\n",
       "Žilavka      15.0   15.0\n",
       "\n",
       "[707 rows x 2 columns]"
      ]
     },
     "execution_count": 6,
     "metadata": {},
     "output_type": "execute_result"
    }
   ],
   "source": [
    "price_extremes = reviews.groupby('variety').price.agg([min,max])\n",
    "\n",
    "# Check your answer\n",
    "q3.check()\n",
    "price_extremes"
   ]
  },
  {
   "cell_type": "code",
   "execution_count": 7,
   "id": "76f35f9f",
   "metadata": {
    "execution": {
     "iopub.execute_input": "2023-04-29T09:14:53.989219Z",
     "iopub.status.busy": "2023-04-29T09:14:53.988825Z",
     "iopub.status.idle": "2023-04-29T09:14:54.000324Z",
     "shell.execute_reply": "2023-04-29T09:14:53.999499Z"
    },
    "papermill": {
     "duration": 0.023351,
     "end_time": "2023-04-29T09:14:54.002959",
     "exception": false,
     "start_time": "2023-04-29T09:14:53.979608",
     "status": "completed"
    },
    "tags": []
   },
   "outputs": [
    {
     "data": {
      "application/javascript": [
       "parent.postMessage({\"jupyterEvent\": \"custom.exercise_interaction\", \"data\": {\"interactionType\": 2, \"questionType\": 1, \"questionId\": \"3_PriceExtremes\", \"learnToolsVersion\": \"0.3.4\", \"valueTowardsCompletion\": 0.0, \"failureMessage\": \"\", \"exceptionClass\": \"\", \"trace\": \"\", \"outcomeType\": 4}}, \"*\")"
      ],
      "text/plain": [
       "<IPython.core.display.Javascript object>"
      ]
     },
     "metadata": {},
     "output_type": "display_data"
    },
    {
     "data": {
      "text/markdown": [
       "<span style=\"color:#3366cc\">Hint:</span> Use `agg()`."
      ],
      "text/plain": [
       "Hint: Use `agg()`."
      ]
     },
     "metadata": {},
     "output_type": "display_data"
    },
    {
     "data": {
      "application/javascript": [
       "parent.postMessage({\"jupyterEvent\": \"custom.exercise_interaction\", \"data\": {\"interactionType\": 3, \"questionType\": 1, \"questionId\": \"3_PriceExtremes\", \"learnToolsVersion\": \"0.3.4\", \"valueTowardsCompletion\": 0.0, \"failureMessage\": \"\", \"exceptionClass\": \"\", \"trace\": \"\", \"outcomeType\": 4}}, \"*\")"
      ],
      "text/plain": [
       "<IPython.core.display.Javascript object>"
      ]
     },
     "metadata": {},
     "output_type": "display_data"
    },
    {
     "data": {
      "text/markdown": [
       "<span style=\"color:#33cc99\">Solution:</span> \n",
       "```python\n",
       "price_extremes = reviews.groupby('variety').price.agg([min, max])\n",
       "```"
      ],
      "text/plain": [
       "Solution: \n",
       "```python\n",
       "price_extremes = reviews.groupby('variety').price.agg([min, max])\n",
       "```"
      ]
     },
     "metadata": {},
     "output_type": "display_data"
    }
   ],
   "source": [
    "q3.hint()\n",
    "q3.solution()"
   ]
  },
  {
   "cell_type": "markdown",
   "id": "a04dcc8e",
   "metadata": {
    "papermill": {
     "duration": 0.007917,
     "end_time": "2023-04-29T09:14:54.019037",
     "exception": false,
     "start_time": "2023-04-29T09:14:54.011120",
     "status": "completed"
    },
    "tags": []
   },
   "source": [
    "## 4.\n",
    "What are the most expensive wine varieties? Create a variable `sorted_varieties` containing a copy of the dataframe from the previous question where varieties are sorted in descending order based on minimum price, then on maximum price (to break ties)."
   ]
  },
  {
   "cell_type": "code",
   "execution_count": 8,
   "id": "3788ef17",
   "metadata": {
    "execution": {
     "iopub.execute_input": "2023-04-29T09:14:54.037815Z",
     "iopub.status.busy": "2023-04-29T09:14:54.036785Z",
     "iopub.status.idle": "2023-04-29T09:14:54.065194Z",
     "shell.execute_reply": "2023-04-29T09:14:54.063962Z"
    },
    "papermill": {
     "duration": 0.040813,
     "end_time": "2023-04-29T09:14:54.068057",
     "exception": false,
     "start_time": "2023-04-29T09:14:54.027244",
     "status": "completed"
    },
    "tags": []
   },
   "outputs": [
    {
     "data": {
      "application/javascript": [
       "parent.postMessage({\"jupyterEvent\": \"custom.exercise_interaction\", \"data\": {\"outcomeType\": 1, \"valueTowardsCompletion\": 0.16666666666666666, \"interactionType\": 1, \"questionType\": 1, \"questionId\": \"4_SortedVarieties\", \"learnToolsVersion\": \"0.3.4\", \"failureMessage\": \"\", \"exceptionClass\": \"\", \"trace\": \"\"}}, \"*\")"
      ],
      "text/plain": [
       "<IPython.core.display.Javascript object>"
      ]
     },
     "metadata": {},
     "output_type": "display_data"
    },
    {
     "data": {
      "text/markdown": [
       "<span style=\"color:#33cc33\">Correct</span>"
      ],
      "text/plain": [
       "Correct"
      ]
     },
     "metadata": {},
     "output_type": "display_data"
    }
   ],
   "source": [
    "price_extremes = reviews.groupby('variety').price.agg([min, max])\n",
    "sorted_varieties = price_extremes.sort_values(by=['min','max'],ascending=False)\n",
    "\n",
    "# Check your answer\n",
    "q4.check()"
   ]
  },
  {
   "cell_type": "code",
   "execution_count": 9,
   "id": "72b319a5",
   "metadata": {
    "execution": {
     "iopub.execute_input": "2023-04-29T09:14:54.086920Z",
     "iopub.status.busy": "2023-04-29T09:14:54.086068Z",
     "iopub.status.idle": "2023-04-29T09:14:54.100568Z",
     "shell.execute_reply": "2023-04-29T09:14:54.099555Z"
    },
    "papermill": {
     "duration": 0.026773,
     "end_time": "2023-04-29T09:14:54.103031",
     "exception": false,
     "start_time": "2023-04-29T09:14:54.076258",
     "status": "completed"
    },
    "tags": []
   },
   "outputs": [
    {
     "data": {
      "application/javascript": [
       "parent.postMessage({\"jupyterEvent\": \"custom.exercise_interaction\", \"data\": {\"interactionType\": 2, \"questionType\": 1, \"questionId\": \"4_SortedVarieties\", \"learnToolsVersion\": \"0.3.4\", \"valueTowardsCompletion\": 0.0, \"failureMessage\": \"\", \"exceptionClass\": \"\", \"trace\": \"\", \"outcomeType\": 4}}, \"*\")"
      ],
      "text/plain": [
       "<IPython.core.display.Javascript object>"
      ]
     },
     "metadata": {},
     "output_type": "display_data"
    },
    {
     "data": {
      "text/markdown": [
       "<span style=\"color:#3366cc\">Hint:</span> Use `sort_values()`, and provide a list of names to sort by."
      ],
      "text/plain": [
       "Hint: Use `sort_values()`, and provide a list of names to sort by."
      ]
     },
     "metadata": {},
     "output_type": "display_data"
    },
    {
     "data": {
      "application/javascript": [
       "parent.postMessage({\"jupyterEvent\": \"custom.exercise_interaction\", \"data\": {\"interactionType\": 3, \"questionType\": 1, \"questionId\": \"4_SortedVarieties\", \"learnToolsVersion\": \"0.3.4\", \"valueTowardsCompletion\": 0.0, \"failureMessage\": \"\", \"exceptionClass\": \"\", \"trace\": \"\", \"outcomeType\": 4}}, \"*\")"
      ],
      "text/plain": [
       "<IPython.core.display.Javascript object>"
      ]
     },
     "metadata": {},
     "output_type": "display_data"
    },
    {
     "data": {
      "text/markdown": [
       "<span style=\"color:#33cc99\">Solution:</span> \n",
       "```python\n",
       "sorted_varieties = price_extremes.sort_values(by=['min', 'max'], ascending=False)\n",
       "```"
      ],
      "text/plain": [
       "Solution: \n",
       "```python\n",
       "sorted_varieties = price_extremes.sort_values(by=['min', 'max'], ascending=False)\n",
       "```"
      ]
     },
     "metadata": {},
     "output_type": "display_data"
    }
   ],
   "source": [
    "q4.hint()\n",
    "q4.solution()"
   ]
  },
  {
   "cell_type": "markdown",
   "id": "04c875cb",
   "metadata": {
    "papermill": {
     "duration": 0.008367,
     "end_time": "2023-04-29T09:14:54.120152",
     "exception": false,
     "start_time": "2023-04-29T09:14:54.111785",
     "status": "completed"
    },
    "tags": []
   },
   "source": [
    "## 5.\n",
    "Create a `Series` whose index is reviewers and whose values is the average review score given out by that reviewer. Hint: you will need the `taster_name` and `points` columns."
   ]
  },
  {
   "cell_type": "code",
   "execution_count": 10,
   "id": "c9fdc1bc",
   "metadata": {
    "execution": {
     "iopub.execute_input": "2023-04-29T09:14:54.140093Z",
     "iopub.status.busy": "2023-04-29T09:14:54.139237Z",
     "iopub.status.idle": "2023-04-29T09:14:54.165949Z",
     "shell.execute_reply": "2023-04-29T09:14:54.164789Z"
    },
    "papermill": {
     "duration": 0.039445,
     "end_time": "2023-04-29T09:14:54.168400",
     "exception": false,
     "start_time": "2023-04-29T09:14:54.128955",
     "status": "completed"
    },
    "tags": []
   },
   "outputs": [
    {
     "data": {
      "application/javascript": [
       "parent.postMessage({\"jupyterEvent\": \"custom.exercise_interaction\", \"data\": {\"outcomeType\": 1, \"valueTowardsCompletion\": 0.16666666666666666, \"interactionType\": 1, \"questionType\": 1, \"questionId\": \"5_ReviewerMeanRatings\", \"learnToolsVersion\": \"0.3.4\", \"failureMessage\": \"\", \"exceptionClass\": \"\", \"trace\": \"\"}}, \"*\")"
      ],
      "text/plain": [
       "<IPython.core.display.Javascript object>"
      ]
     },
     "metadata": {},
     "output_type": "display_data"
    },
    {
     "data": {
      "text/markdown": [
       "<span style=\"color:#33cc33\">Correct</span>"
      ],
      "text/plain": [
       "Correct"
      ]
     },
     "metadata": {},
     "output_type": "display_data"
    },
    {
     "data": {
      "text/plain": [
       "taster_name\n",
       "Alexander Peartree    85.855422\n",
       "Anna Lee C. Iijima    88.415629\n",
       "Anne Krebiehl MW      90.562551\n",
       "Carrie Dykes          86.395683\n",
       "Christina Pickard     87.833333\n",
       "Fiona Adams           86.888889\n",
       "Jeff Jenssen          88.319756\n",
       "Jim Gordon            88.626287\n",
       "Joe Czerwinski        88.536235\n",
       "Kerin O’Keefe         88.867947\n",
       "Lauren Buzzeo         87.739510\n",
       "Matt Kettmann         90.008686\n",
       "Michael Schachner     86.907493\n",
       "Mike DeSimone         89.101167\n",
       "Paul Gregutt          89.082564\n",
       "Roger Voss            88.708003\n",
       "Sean P. Sullivan      88.755739\n",
       "Susan Kostrzewa       86.609217\n",
       "Virginie Boone        89.213379\n",
       "Name: points, dtype: float64"
      ]
     },
     "execution_count": 10,
     "metadata": {},
     "output_type": "execute_result"
    }
   ],
   "source": [
    "reviewer_mean_ratings = reviews.groupby('taster_name')['points'].mean()\n",
    "\n",
    "# Check your answer\n",
    "q5.check()\n",
    "reviewer_mean_ratings"
   ]
  },
  {
   "cell_type": "code",
   "execution_count": 11,
   "id": "869e4bec",
   "metadata": {
    "execution": {
     "iopub.execute_input": "2023-04-29T09:14:54.188796Z",
     "iopub.status.busy": "2023-04-29T09:14:54.188380Z",
     "iopub.status.idle": "2023-04-29T09:14:54.197158Z",
     "shell.execute_reply": "2023-04-29T09:14:54.195996Z"
    },
    "papermill": {
     "duration": 0.022061,
     "end_time": "2023-04-29T09:14:54.199634",
     "exception": false,
     "start_time": "2023-04-29T09:14:54.177573",
     "status": "completed"
    },
    "tags": []
   },
   "outputs": [
    {
     "data": {
      "application/javascript": [
       "parent.postMessage({\"jupyterEvent\": \"custom.exercise_interaction\", \"data\": {\"interactionType\": 2, \"questionType\": 1, \"questionId\": \"5_ReviewerMeanRatings\", \"learnToolsVersion\": \"0.3.4\", \"valueTowardsCompletion\": 0.0, \"failureMessage\": \"\", \"exceptionClass\": \"\", \"trace\": \"\", \"outcomeType\": 4}}, \"*\")"
      ],
      "text/plain": [
       "<IPython.core.display.Javascript object>"
      ]
     },
     "metadata": {},
     "output_type": "display_data"
    },
    {
     "data": {
      "text/markdown": [
       "<span style=\"color:#3366cc\">Hint:</span> Use `mean()`."
      ],
      "text/plain": [
       "Hint: Use `mean()`."
      ]
     },
     "metadata": {},
     "output_type": "display_data"
    }
   ],
   "source": [
    "q5.hint()\n",
    "#q5.solution()"
   ]
  },
  {
   "cell_type": "markdown",
   "id": "8c487bbe",
   "metadata": {
    "papermill": {
     "duration": 0.009063,
     "end_time": "2023-04-29T09:14:54.218069",
     "exception": false,
     "start_time": "2023-04-29T09:14:54.209006",
     "status": "completed"
    },
    "tags": []
   },
   "source": [
    "Are there significant differences in the average scores assigned by the various reviewers? Run the cell below to use the `describe()` method to see a summary of the range of values."
   ]
  },
  {
   "cell_type": "code",
   "execution_count": 12,
   "id": "39a2bbef",
   "metadata": {
    "execution": {
     "iopub.execute_input": "2023-04-29T09:14:54.238983Z",
     "iopub.status.busy": "2023-04-29T09:14:54.238297Z",
     "iopub.status.idle": "2023-04-29T09:14:54.250192Z",
     "shell.execute_reply": "2023-04-29T09:14:54.249045Z"
    },
    "papermill": {
     "duration": 0.025072,
     "end_time": "2023-04-29T09:14:54.252637",
     "exception": false,
     "start_time": "2023-04-29T09:14:54.227565",
     "status": "completed"
    },
    "tags": []
   },
   "outputs": [
    {
     "data": {
      "text/plain": [
       "count    19.000000\n",
       "mean     88.233026\n",
       "std       1.243610\n",
       "min      85.855422\n",
       "25%      87.323501\n",
       "50%      88.536235\n",
       "75%      88.975256\n",
       "max      90.562551\n",
       "Name: points, dtype: float64"
      ]
     },
     "execution_count": 12,
     "metadata": {},
     "output_type": "execute_result"
    }
   ],
   "source": [
    "reviewer_mean_ratings.describe()"
   ]
  },
  {
   "cell_type": "markdown",
   "id": "7d78e3a1",
   "metadata": {
    "papermill": {
     "duration": 0.009417,
     "end_time": "2023-04-29T09:14:54.271607",
     "exception": false,
     "start_time": "2023-04-29T09:14:54.262190",
     "status": "completed"
    },
    "tags": []
   },
   "source": [
    "## 6.\n",
    "What combination of countries and varieties are most common? Create a `Series` whose index is a `MultiIndex`of `{country, variety}` pairs. For example, a pinot noir produced in the US should map to `{\"US\", \"Pinot Noir\"}`. Sort the values in the `Series` in descending order based on wine count."
   ]
  },
  {
   "cell_type": "code",
   "execution_count": 13,
   "id": "5343c694",
   "metadata": {
    "execution": {
     "iopub.execute_input": "2023-04-29T09:14:54.293017Z",
     "iopub.status.busy": "2023-04-29T09:14:54.292592Z",
     "iopub.status.idle": "2023-04-29T09:14:54.337113Z",
     "shell.execute_reply": "2023-04-29T09:14:54.335855Z"
    },
    "papermill": {
     "duration": 0.058451,
     "end_time": "2023-04-29T09:14:54.339967",
     "exception": false,
     "start_time": "2023-04-29T09:14:54.281516",
     "status": "completed"
    },
    "tags": []
   },
   "outputs": [
    {
     "data": {
      "application/javascript": [
       "parent.postMessage({\"jupyterEvent\": \"custom.exercise_interaction\", \"data\": {\"outcomeType\": 1, \"valueTowardsCompletion\": 0.16666666666666666, \"interactionType\": 1, \"questionType\": 1, \"questionId\": \"6_GroupbyCountryVariety\", \"learnToolsVersion\": \"0.3.4\", \"failureMessage\": \"\", \"exceptionClass\": \"\", \"trace\": \"\"}}, \"*\")"
      ],
      "text/plain": [
       "<IPython.core.display.Javascript object>"
      ]
     },
     "metadata": {},
     "output_type": "display_data"
    },
    {
     "data": {
      "text/markdown": [
       "<span style=\"color:#33cc33\">Correct</span>"
      ],
      "text/plain": [
       "Correct"
      ]
     },
     "metadata": {},
     "output_type": "display_data"
    },
    {
     "data": {
      "text/plain": [
       "country  variety                 \n",
       "US       Pinot Noir                  9885\n",
       "         Cabernet Sauvignon          7315\n",
       "         Chardonnay                  6801\n",
       "France   Bordeaux-style Red Blend    4725\n",
       "Italy    Red Blend                   3624\n",
       "                                     ... \n",
       "Mexico   Cinsault                       1\n",
       "         Grenache                       1\n",
       "         Merlot                         1\n",
       "         Rosado                         1\n",
       "Uruguay  White Blend                    1\n",
       "Length: 1612, dtype: int64"
      ]
     },
     "execution_count": 13,
     "metadata": {},
     "output_type": "execute_result"
    }
   ],
   "source": [
    "country_variety_counts = reviews.groupby(['country','variety']).size().sort_values(ascending=False)\n",
    "\n",
    "# Check your answer\n",
    "q6.check()\n",
    "country_variety_counts"
   ]
  },
  {
   "cell_type": "code",
   "execution_count": 14,
   "id": "48fcd711",
   "metadata": {
    "execution": {
     "iopub.execute_input": "2023-04-29T09:14:54.362137Z",
     "iopub.status.busy": "2023-04-29T09:14:54.361419Z",
     "iopub.status.idle": "2023-04-29T09:14:54.369620Z",
     "shell.execute_reply": "2023-04-29T09:14:54.368484Z"
    },
    "papermill": {
     "duration": 0.021921,
     "end_time": "2023-04-29T09:14:54.372007",
     "exception": false,
     "start_time": "2023-04-29T09:14:54.350086",
     "status": "completed"
    },
    "tags": []
   },
   "outputs": [
    {
     "data": {
      "application/javascript": [
       "parent.postMessage({\"jupyterEvent\": \"custom.exercise_interaction\", \"data\": {\"interactionType\": 2, \"questionType\": 1, \"questionId\": \"6_GroupbyCountryVariety\", \"learnToolsVersion\": \"0.3.4\", \"valueTowardsCompletion\": 0.0, \"failureMessage\": \"\", \"exceptionClass\": \"\", \"trace\": \"\", \"outcomeType\": 4}}, \"*\")"
      ],
      "text/plain": [
       "<IPython.core.display.Javascript object>"
      ]
     },
     "metadata": {},
     "output_type": "display_data"
    },
    {
     "data": {
      "text/markdown": [
       "<span style=\"color:#3366cc\">Hint:</span> Use `groupby()`, and provide a list of columns to group by.  You may also find `size()` and `sort_values()` to be useful!"
      ],
      "text/plain": [
       "Hint: Use `groupby()`, and provide a list of columns to group by.  You may also find `size()` and `sort_values()` to be useful!"
      ]
     },
     "metadata": {},
     "output_type": "display_data"
    }
   ],
   "source": [
    "q6.hint()\n",
    "#q6.solution()"
   ]
  },
  {
   "cell_type": "markdown",
   "id": "4d5f46e8",
   "metadata": {
    "papermill": {
     "duration": 0.009691,
     "end_time": "2023-04-29T09:14:54.391884",
     "exception": false,
     "start_time": "2023-04-29T09:14:54.382193",
     "status": "completed"
    },
    "tags": []
   },
   "source": [
    "# Keep going\n",
    "\n",
    "Move on to the [**data types and missing data**](https://www.kaggle.com/residentmario/data-types-and-missing-values)."
   ]
  },
  {
   "cell_type": "markdown",
   "id": "d25ea974",
   "metadata": {
    "papermill": {
     "duration": 0.009817,
     "end_time": "2023-04-29T09:14:54.411889",
     "exception": false,
     "start_time": "2023-04-29T09:14:54.402072",
     "status": "completed"
    },
    "tags": []
   },
   "source": [
    "---\n",
    "\n",
    "\n",
    "\n",
    "\n",
    "*Have questions or comments? Visit the [course discussion forum](https://www.kaggle.com/learn/pandas/discussion) to chat with other learners.*"
   ]
  }
 ],
 "metadata": {
  "kernelspec": {
   "display_name": "Python 3",
   "language": "python",
   "name": "python3"
  },
  "language_info": {
   "codemirror_mode": {
    "name": "ipython",
    "version": 3
   },
   "file_extension": ".py",
   "mimetype": "text/x-python",
   "name": "python",
   "nbconvert_exporter": "python",
   "pygments_lexer": "ipython3",
   "version": "3.7.12"
  },
  "papermill": {
   "default_parameters": {},
   "duration": 15.054159,
   "end_time": "2023-04-29T09:14:55.144351",
   "environment_variables": {},
   "exception": null,
   "input_path": "__notebook__.ipynb",
   "output_path": "__notebook__.ipynb",
   "parameters": {},
   "start_time": "2023-04-29T09:14:40.090192",
   "version": "2.4.0"
  }
 },
 "nbformat": 4,
 "nbformat_minor": 5
}
