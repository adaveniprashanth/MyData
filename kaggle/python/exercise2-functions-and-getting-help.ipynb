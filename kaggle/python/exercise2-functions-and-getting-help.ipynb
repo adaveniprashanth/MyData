{
 "cells": [
  {
   "cell_type": "markdown",
   "id": "8334dd0d",
   "metadata": {
    "papermill": {
     "duration": 0.006095,
     "end_time": "2023-05-01T11:26:01.383548",
     "exception": false,
     "start_time": "2023-05-01T11:26:01.377453",
     "status": "completed"
    },
    "tags": []
   },
   "source": [
    "**This notebook is an exercise in the [Python](https://www.kaggle.com/learn/python) course.  You can reference the tutorial at [this link](https://www.kaggle.com/colinmorris/functions-and-getting-help).**\n",
    "\n",
    "---\n"
   ]
  },
  {
   "cell_type": "markdown",
   "id": "49ddf574",
   "metadata": {
    "papermill": {
     "duration": 0.004429,
     "end_time": "2023-05-01T11:26:01.392987",
     "exception": false,
     "start_time": "2023-05-01T11:26:01.388558",
     "status": "completed"
    },
    "tags": []
   },
   "source": [
    "Functions are powerful. Try writing some yourself.\n",
    "\n",
    "As before, don't forget to run the setup code below before jumping into question 1."
   ]
  },
  {
   "cell_type": "code",
   "execution_count": 1,
   "id": "23c27055",
   "metadata": {
    "_kg_hide-input": true,
    "_kg_hide-output": true,
    "execution": {
     "iopub.execute_input": "2023-05-01T11:26:01.405242Z",
     "iopub.status.busy": "2023-05-01T11:26:01.404650Z",
     "iopub.status.idle": "2023-05-01T11:26:01.456506Z",
     "shell.execute_reply": "2023-05-01T11:26:01.455228Z"
    },
    "papermill": {
     "duration": 0.062199,
     "end_time": "2023-05-01T11:26:01.459948",
     "exception": false,
     "start_time": "2023-05-01T11:26:01.397749",
     "status": "completed"
    },
    "tags": []
   },
   "outputs": [
    {
     "name": "stdout",
     "output_type": "stream",
     "text": [
      "Setup complete.\n"
     ]
    }
   ],
   "source": [
    "# SETUP. You don't need to worry for now about what this code does or how it works.\n",
    "from learntools.core import binder; binder.bind(globals())\n",
    "from learntools.python.ex2 import *\n",
    "print('Setup complete.')"
   ]
  },
  {
   "cell_type": "markdown",
   "id": "2cd654ce",
   "metadata": {
    "papermill": {
     "duration": 0.004523,
     "end_time": "2023-05-01T11:26:01.469521",
     "exception": false,
     "start_time": "2023-05-01T11:26:01.464998",
     "status": "completed"
    },
    "tags": []
   },
   "source": [
    "# 1.\n",
    "\n",
    "Complete the body of the following function according to its docstring.\n",
    "\n",
    "HINT: Python has a built-in function `round`."
   ]
  },
  {
   "cell_type": "code",
   "execution_count": 2,
   "id": "5c5601ca",
   "metadata": {
    "execution": {
     "iopub.execute_input": "2023-05-01T11:26:01.481539Z",
     "iopub.status.busy": "2023-05-01T11:26:01.481069Z",
     "iopub.status.idle": "2023-05-01T11:26:01.494281Z",
     "shell.execute_reply": "2023-05-01T11:26:01.492543Z"
    },
    "papermill": {
     "duration": 0.022498,
     "end_time": "2023-05-01T11:26:01.496907",
     "exception": false,
     "start_time": "2023-05-01T11:26:01.474409",
     "status": "completed"
    },
    "tags": []
   },
   "outputs": [
    {
     "data": {
      "application/javascript": [
       "parent.postMessage({\"jupyterEvent\": \"custom.exercise_interaction\", \"data\": {\"outcomeType\": 1, \"valueTowardsCompletion\": 0.16666666666666666, \"interactionType\": 1, \"questionType\": 2, \"questionId\": \"1_RoundFunctionProblem\", \"learnToolsVersion\": \"0.3.4\", \"failureMessage\": \"\", \"exceptionClass\": \"\", \"trace\": \"\"}}, \"*\")"
      ],
      "text/plain": [
       "<IPython.core.display.Javascript object>"
      ]
     },
     "metadata": {},
     "output_type": "display_data"
    },
    {
     "data": {
      "text/markdown": [
       "<span style=\"color:#33cc33\">Correct</span>"
      ],
      "text/plain": [
       "Correct"
      ]
     },
     "metadata": {},
     "output_type": "display_data"
    }
   ],
   "source": [
    "def round_to_two_places(num):\n",
    "    \"\"\"Return the given number rounded to two decimal places. \n",
    "    \n",
    "    >>> round_to_two_places(3.14159)\n",
    "    3.14\n",
    "    \"\"\"\n",
    "#     help(round)\n",
    "    return round(num,ndigits=2)\n",
    "    # Replace this body with your own code.\n",
    "    # (\"pass\" is a keyword that does literally nothing. We used it as a placeholder\n",
    "    # because after we begin a code block, Python requires at least one line of code)\n",
    "    pass\n",
    "\n",
    "# Check your answer\n",
    "round_to_two_places(3.1242)\n",
    "q1.check()"
   ]
  },
  {
   "cell_type": "code",
   "execution_count": 3,
   "id": "0631d2b4",
   "metadata": {
    "execution": {
     "iopub.execute_input": "2023-05-01T11:26:01.510146Z",
     "iopub.status.busy": "2023-05-01T11:26:01.509312Z",
     "iopub.status.idle": "2023-05-01T11:26:01.515152Z",
     "shell.execute_reply": "2023-05-01T11:26:01.513538Z"
    },
    "papermill": {
     "duration": 0.015666,
     "end_time": "2023-05-01T11:26:01.517885",
     "exception": false,
     "start_time": "2023-05-01T11:26:01.502219",
     "status": "completed"
    },
    "tags": []
   },
   "outputs": [],
   "source": [
    "# Uncomment the following for a hint\n",
    "#q1.hint()\n",
    "# Or uncomment the following to peek at the solution\n",
    "#q1.solution()"
   ]
  },
  {
   "cell_type": "markdown",
   "id": "b1bf8f31",
   "metadata": {
    "papermill": {
     "duration": 0.004976,
     "end_time": "2023-05-01T11:26:01.528382",
     "exception": false,
     "start_time": "2023-05-01T11:26:01.523406",
     "status": "completed"
    },
    "tags": []
   },
   "source": [
    "# 2.\n",
    "The help for `round` says that `ndigits` (the second argument) may be negative.\n",
    "What do you think will happen when it is? Try some examples in the following cell."
   ]
  },
  {
   "cell_type": "code",
   "execution_count": 4,
   "id": "069ff2a6",
   "metadata": {
    "execution": {
     "iopub.execute_input": "2023-05-01T11:26:01.540921Z",
     "iopub.status.busy": "2023-05-01T11:26:01.540481Z",
     "iopub.status.idle": "2023-05-01T11:26:01.549414Z",
     "shell.execute_reply": "2023-05-01T11:26:01.547722Z"
    },
    "papermill": {
     "duration": 0.018655,
     "end_time": "2023-05-01T11:26:01.552274",
     "exception": false,
     "start_time": "2023-05-01T11:26:01.533619",
     "status": "completed"
    },
    "tags": []
   },
   "outputs": [
    {
     "data": {
      "text/plain": [
       "3840003020403300"
      ]
     },
     "execution_count": 4,
     "metadata": {},
     "output_type": "execute_result"
    }
   ],
   "source": [
    "# Put your test code here\n",
    "round(3840003020403297,ndigits=-2)"
   ]
  },
  {
   "cell_type": "markdown",
   "id": "331c6f41",
   "metadata": {
    "papermill": {
     "duration": 0.005031,
     "end_time": "2023-05-01T11:26:01.562965",
     "exception": false,
     "start_time": "2023-05-01T11:26:01.557934",
     "status": "completed"
    },
    "tags": []
   },
   "source": [
    "Can you think of a case where this would be useful?  Once you're ready, run the code cell below to see the answer and to receive credit for completing the problem."
   ]
  },
  {
   "cell_type": "code",
   "execution_count": 5,
   "id": "a30488ea",
   "metadata": {
    "execution": {
     "iopub.execute_input": "2023-05-01T11:26:01.575807Z",
     "iopub.status.busy": "2023-05-01T11:26:01.575377Z",
     "iopub.status.idle": "2023-05-01T11:26:01.585817Z",
     "shell.execute_reply": "2023-05-01T11:26:01.584805Z"
    },
    "papermill": {
     "duration": 0.01991,
     "end_time": "2023-05-01T11:26:01.588220",
     "exception": false,
     "start_time": "2023-05-01T11:26:01.568310",
     "status": "completed"
    },
    "tags": []
   },
   "outputs": [
    {
     "data": {
      "application/javascript": [
       "parent.postMessage({\"jupyterEvent\": \"custom.exercise_interaction\", \"data\": {\"interactionType\": 3, \"questionType\": 4, \"questionId\": \"2_RoundNdigitsProblem\", \"learnToolsVersion\": \"0.3.4\", \"valueTowardsCompletion\": 0.0, \"failureMessage\": \"\", \"exceptionClass\": \"\", \"trace\": \"\", \"outcomeType\": 4}}, \"*\")"
      ],
      "text/plain": [
       "<IPython.core.display.Javascript object>"
      ]
     },
     "metadata": {},
     "output_type": "display_data"
    },
    {
     "data": {
      "text/markdown": [
       "<span style=\"color:#33cc99\">Solution:</span> As you've seen, `ndigits=-1` rounds to the nearest 10, `ndigits=-2` rounds to the nearest 100 and so on. Where might this be useful? Suppose we're dealing with large numbers:\n",
       "\n",
       "> The area of Finland is 338,424 km²  \n",
       "> The area of Greenland is 2,166,086 km²\n",
       "\n",
       "We probably don't care whether it's really 338,424, or 338,425, or 338,177. All those digits of accuracy are just distracting. We can chop them off by calling `round()` with `ndigits=-3`:\n",
       "\n",
       "> The area of Finland is 338,000 km²  \n",
       "> The area of Greenland is 2,166,000 km²\n",
       "\n",
       "(We'll talk about how we would get the commas later when we talk about string formatting :))\n"
      ],
      "text/plain": [
       "Solution: As you've seen, `ndigits=-1` rounds to the nearest 10, `ndigits=-2` rounds to the nearest 100 and so on. Where might this be useful? Suppose we're dealing with large numbers:\n",
       "\n",
       "> The area of Finland is 338,424 km²  \n",
       "> The area of Greenland is 2,166,086 km²\n",
       "\n",
       "We probably don't care whether it's really 338,424, or 338,425, or 338,177. All those digits of accuracy are just distracting. We can chop them off by calling `round()` with `ndigits=-3`:\n",
       "\n",
       "> The area of Finland is 338,000 km²  \n",
       "> The area of Greenland is 2,166,000 km²\n",
       "\n",
       "(We'll talk about how we would get the commas later when we talk about string formatting :))"
      ]
     },
     "metadata": {},
     "output_type": "display_data"
    }
   ],
   "source": [
    "# Check your answer (Run this code cell to receive credit!)\n",
    "q2.solution()"
   ]
  },
  {
   "cell_type": "markdown",
   "id": "f227cdca",
   "metadata": {
    "papermill": {
     "duration": 0.005499,
     "end_time": "2023-05-01T11:26:01.599461",
     "exception": false,
     "start_time": "2023-05-01T11:26:01.593962",
     "status": "completed"
    },
    "tags": []
   },
   "source": [
    "# 3.\n",
    "\n",
    "In the previous exercise, the candy-sharing friends Alice, Bob and Carol tried to split candies evenly. For the sake of their friendship, any candies left over would be smashed. For example, if they collectively bring home 91 candies, they'll take 30 each and smash 1.\n",
    "\n",
    "Below is a simple function that will calculate the number of candies to smash for *any* number of total candies.\n",
    "\n",
    "Modify it so that it optionally takes a second argument representing the number of friends the candies are being split between. If no second argument is provided, it should assume 3 friends, as before.\n",
    "\n",
    "Update the docstring to reflect this new behaviour."
   ]
  },
  {
   "cell_type": "code",
   "execution_count": 6,
   "id": "a129d903",
   "metadata": {
    "execution": {
     "iopub.execute_input": "2023-05-01T11:26:01.613879Z",
     "iopub.status.busy": "2023-05-01T11:26:01.613009Z",
     "iopub.status.idle": "2023-05-01T11:26:01.623821Z",
     "shell.execute_reply": "2023-05-01T11:26:01.622674Z"
    },
    "papermill": {
     "duration": 0.021444,
     "end_time": "2023-05-01T11:26:01.626561",
     "exception": false,
     "start_time": "2023-05-01T11:26:01.605117",
     "status": "completed"
    },
    "tags": []
   },
   "outputs": [
    {
     "data": {
      "application/javascript": [
       "parent.postMessage({\"jupyterEvent\": \"custom.exercise_interaction\", \"data\": {\"outcomeType\": 1, \"valueTowardsCompletion\": 0.16666666666666666, \"interactionType\": 1, \"questionType\": 2, \"questionId\": \"3_CandySmashingFunctionProblem\", \"learnToolsVersion\": \"0.3.4\", \"failureMessage\": \"\", \"exceptionClass\": \"\", \"trace\": \"\"}}, \"*\")"
      ],
      "text/plain": [
       "<IPython.core.display.Javascript object>"
      ]
     },
     "metadata": {},
     "output_type": "display_data"
    },
    {
     "data": {
      "text/markdown": [
       "<span style=\"color:#33cc33\">Correct</span>"
      ],
      "text/plain": [
       "Correct"
      ]
     },
     "metadata": {},
     "output_type": "display_data"
    }
   ],
   "source": [
    "def to_smash(total_candies,friends=3):\n",
    "    \"\"\"Return the number of leftover candies that must be smashed after distributing\n",
    "    the given number of candies evenly between 3 friends.\n",
    "    \n",
    "    >>> to_smash(91,friends=3)\n",
    "    1\n",
    "    \"\"\"\n",
    "    return total_candies % friends\n",
    "\n",
    "# Check your answer\n",
    "q3.check()"
   ]
  },
  {
   "cell_type": "code",
   "execution_count": 7,
   "id": "20c9eddf",
   "metadata": {
    "execution": {
     "iopub.execute_input": "2023-05-01T11:26:01.640540Z",
     "iopub.status.busy": "2023-05-01T11:26:01.640054Z",
     "iopub.status.idle": "2023-05-01T11:26:01.645443Z",
     "shell.execute_reply": "2023-05-01T11:26:01.644131Z"
    },
    "papermill": {
     "duration": 0.015893,
     "end_time": "2023-05-01T11:26:01.648447",
     "exception": false,
     "start_time": "2023-05-01T11:26:01.632554",
     "status": "completed"
    },
    "tags": []
   },
   "outputs": [],
   "source": [
    "#q3.hint()"
   ]
  },
  {
   "cell_type": "code",
   "execution_count": 8,
   "id": "6dc6a4d1",
   "metadata": {
    "execution": {
     "iopub.execute_input": "2023-05-01T11:26:01.663294Z",
     "iopub.status.busy": "2023-05-01T11:26:01.662830Z",
     "iopub.status.idle": "2023-05-01T11:26:01.667884Z",
     "shell.execute_reply": "2023-05-01T11:26:01.666658Z"
    },
    "papermill": {
     "duration": 0.015357,
     "end_time": "2023-05-01T11:26:01.670562",
     "exception": false,
     "start_time": "2023-05-01T11:26:01.655205",
     "status": "completed"
    },
    "tags": []
   },
   "outputs": [],
   "source": [
    "#q3.solution()"
   ]
  },
  {
   "cell_type": "markdown",
   "id": "1fb5ad26",
   "metadata": {
    "papermill": {
     "duration": 0.005966,
     "end_time": "2023-05-01T11:26:01.684725",
     "exception": false,
     "start_time": "2023-05-01T11:26:01.678759",
     "status": "completed"
    },
    "tags": []
   },
   "source": [
    "# 4. (Optional)\n",
    "\n",
    "It may not be fun, but reading and understanding error messages will be an important part of your Python career.\n",
    "\n",
    "Each code cell below contains some commented buggy code. For each cell...\n",
    "\n",
    "1. Read the code and predict what you think will happen when it's run.\n",
    "2. Then uncomment the code and run it to see what happens. (**Tip**: In the kernel editor, you can highlight several lines and press `ctrl`+`/` to toggle commenting.)\n",
    "3. Fix the code (so that it accomplishes its intended purpose without throwing an exception)\n",
    "\n",
    "<!-- TODO: should this be autochecked? Delta is probably pretty small. -->"
   ]
  },
  {
   "cell_type": "code",
   "execution_count": 9,
   "id": "80bd6813",
   "metadata": {
    "execution": {
     "iopub.execute_input": "2023-05-01T11:26:01.699992Z",
     "iopub.status.busy": "2023-05-01T11:26:01.699556Z",
     "iopub.status.idle": "2023-05-01T11:26:01.709311Z",
     "shell.execute_reply": "2023-05-01T11:26:01.707422Z"
    },
    "papermill": {
     "duration": 0.021587,
     "end_time": "2023-05-01T11:26:01.712579",
     "exception": false,
     "start_time": "2023-05-01T11:26:01.690992",
     "status": "completed"
    },
    "tags": []
   },
   "outputs": [
    {
     "data": {
      "text/plain": [
       "10.0"
      ]
     },
     "execution_count": 9,
     "metadata": {},
     "output_type": "execute_result"
    }
   ],
   "source": [
    "round_to_two_places(9.9999)"
   ]
  },
  {
   "cell_type": "code",
   "execution_count": 10,
   "id": "80bdec85",
   "metadata": {
    "execution": {
     "iopub.execute_input": "2023-05-01T11:26:01.729131Z",
     "iopub.status.busy": "2023-05-01T11:26:01.727985Z",
     "iopub.status.idle": "2023-05-01T11:26:01.734433Z",
     "shell.execute_reply": "2023-05-01T11:26:01.733113Z"
    },
    "papermill": {
     "duration": 0.017951,
     "end_time": "2023-05-01T11:26:01.737212",
     "exception": false,
     "start_time": "2023-05-01T11:26:01.719261",
     "status": "completed"
    },
    "tags": []
   },
   "outputs": [],
   "source": [
    "x = -10\n",
    "y = 5\n",
    "# Which of the two variables above has the smallest absolute value?\n",
    "smallest_abs = min(abs(x), abs(y))"
   ]
  },
  {
   "cell_type": "code",
   "execution_count": 11,
   "id": "baa7154d",
   "metadata": {
    "execution": {
     "iopub.execute_input": "2023-05-01T11:26:01.753096Z",
     "iopub.status.busy": "2023-05-01T11:26:01.751815Z",
     "iopub.status.idle": "2023-05-01T11:26:01.759796Z",
     "shell.execute_reply": "2023-05-01T11:26:01.758166Z"
    },
    "papermill": {
     "duration": 0.018991,
     "end_time": "2023-05-01T11:26:01.762675",
     "exception": false,
     "start_time": "2023-05-01T11:26:01.743684",
     "status": "completed"
    },
    "tags": []
   },
   "outputs": [
    {
     "name": "stdout",
     "output_type": "stream",
     "text": [
      "5\n"
     ]
    }
   ],
   "source": [
    "def f(x):\n",
    "    y = abs(x)\n",
    "    return y\n",
    "\n",
    "print(f(5))"
   ]
  },
  {
   "cell_type": "markdown",
   "id": "b18bae3b",
   "metadata": {
    "papermill": {
     "duration": 0.005966,
     "end_time": "2023-05-01T11:26:01.775909",
     "exception": false,
     "start_time": "2023-05-01T11:26:01.769943",
     "status": "completed"
    },
    "tags": []
   },
   "source": [
    "# Keep Going\n",
    "\n",
    "Nice job with the code. Next up, you'll learn about *conditionals*, which you'll need to **[write interesting programs](https://www.kaggle.com/colinmorris/booleans-and-conditionals)**. "
   ]
  },
  {
   "cell_type": "markdown",
   "id": "779a1cba",
   "metadata": {
    "papermill": {
     "duration": 0.006604,
     "end_time": "2023-05-01T11:26:01.789885",
     "exception": false,
     "start_time": "2023-05-01T11:26:01.783281",
     "status": "completed"
    },
    "tags": []
   },
   "source": [
    "---\n",
    "\n",
    "\n",
    "\n",
    "\n",
    "*Have questions or comments? Visit the [course discussion forum](https://www.kaggle.com/learn/python/discussion) to chat with other learners.*"
   ]
  }
 ],
 "metadata": {
  "kernelspec": {
   "display_name": "Python 3",
   "language": "python",
   "name": "python3"
  },
  "language_info": {
   "codemirror_mode": {
    "name": "ipython",
    "version": 3
   },
   "file_extension": ".py",
   "mimetype": "text/x-python",
   "name": "python",
   "nbconvert_exporter": "python",
   "pygments_lexer": "ipython3",
   "version": "3.7.12"
  },
  "papermill": {
   "default_parameters": {},
   "duration": 12.755913,
   "end_time": "2023-05-01T11:26:02.722840",
   "environment_variables": {},
   "exception": null,
   "input_path": "__notebook__.ipynb",
   "output_path": "__notebook__.ipynb",
   "parameters": {},
   "start_time": "2023-05-01T11:25:49.966927",
   "version": "2.4.0"
  }
 },
 "nbformat": 4,
 "nbformat_minor": 5
}
