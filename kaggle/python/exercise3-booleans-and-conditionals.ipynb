{
 "cells": [
  {
   "cell_type": "markdown",
   "id": "0475d267",
   "metadata": {
    "papermill": {
     "duration": 0.009912,
     "end_time": "2023-05-01T13:47:33.581095",
     "exception": false,
     "start_time": "2023-05-01T13:47:33.571183",
     "status": "completed"
    },
    "tags": []
   },
   "source": [
    "**This notebook is an exercise in the [Python](https://www.kaggle.com/learn/python) course.  You can reference the tutorial at [this link](https://www.kaggle.com/colinmorris/booleans-and-conditionals).**\n",
    "\n",
    "---\n"
   ]
  },
  {
   "cell_type": "markdown",
   "id": "b5df5394",
   "metadata": {
    "papermill": {
     "duration": 0.008499,
     "end_time": "2023-05-01T13:47:33.598395",
     "exception": false,
     "start_time": "2023-05-01T13:47:33.589896",
     "status": "completed"
    },
    "tags": []
   },
   "source": [
    "In this exercise, you'll put to work what you have learned about booleans and conditionals.\n",
    "\n",
    "To get started, **run the setup code below** before writing your own code (and if you leave this notebook and come back later, don't forget to run the setup code again)."
   ]
  },
  {
   "cell_type": "code",
   "execution_count": 1,
   "id": "8fcf30fc",
   "metadata": {
    "execution": {
     "iopub.execute_input": "2023-05-01T13:47:33.618645Z",
     "iopub.status.busy": "2023-05-01T13:47:33.617623Z",
     "iopub.status.idle": "2023-05-01T13:47:33.673444Z",
     "shell.execute_reply": "2023-05-01T13:47:33.671488Z"
    },
    "papermill": {
     "duration": 0.069367,
     "end_time": "2023-05-01T13:47:33.676431",
     "exception": false,
     "start_time": "2023-05-01T13:47:33.607064",
     "status": "completed"
    },
    "tags": []
   },
   "outputs": [
    {
     "name": "stdout",
     "output_type": "stream",
     "text": [
      "Setup complete.\n"
     ]
    }
   ],
   "source": [
    "from learntools.core import binder; binder.bind(globals())\n",
    "from learntools.python.ex3 import *\n",
    "print('Setup complete.')"
   ]
  },
  {
   "cell_type": "markdown",
   "id": "1d29900e",
   "metadata": {
    "papermill": {
     "duration": 0.00861,
     "end_time": "2023-05-01T13:47:33.694057",
     "exception": false,
     "start_time": "2023-05-01T13:47:33.685447",
     "status": "completed"
    },
    "tags": []
   },
   "source": [
    "# 1.\n",
    "\n",
    "Many programming languages have [`sign`](https://en.wikipedia.org/wiki/Sign_function) available as a built-in function. Python doesn't, but we can define our own!\n",
    "\n",
    "In the cell below, define a function called `sign` which takes a numerical argument and returns -1 if it's negative, 1 if it's positive, and 0 if it's 0."
   ]
  },
  {
   "cell_type": "code",
   "execution_count": 2,
   "id": "8d0ee61e",
   "metadata": {
    "execution": {
     "iopub.execute_input": "2023-05-01T13:47:33.714710Z",
     "iopub.status.busy": "2023-05-01T13:47:33.713853Z",
     "iopub.status.idle": "2023-05-01T13:47:33.726230Z",
     "shell.execute_reply": "2023-05-01T13:47:33.725079Z"
    },
    "papermill": {
     "duration": 0.026906,
     "end_time": "2023-05-01T13:47:33.729884",
     "exception": false,
     "start_time": "2023-05-01T13:47:33.702978",
     "status": "completed"
    },
    "tags": []
   },
   "outputs": [
    {
     "data": {
      "application/javascript": [
       "parent.postMessage({\"jupyterEvent\": \"custom.exercise_interaction\", \"data\": {\"outcomeType\": 1, \"valueTowardsCompletion\": 0.2, \"interactionType\": 1, \"questionType\": 2, \"questionId\": \"1_SignFunctionProblem\", \"learnToolsVersion\": \"0.3.4\", \"failureMessage\": \"\", \"exceptionClass\": \"\", \"trace\": \"\"}}, \"*\")"
      ],
      "text/plain": [
       "<IPython.core.display.Javascript object>"
      ]
     },
     "metadata": {},
     "output_type": "display_data"
    },
    {
     "data": {
      "text/markdown": [
       "<span style=\"color:#33cc33\">Correct</span>"
      ],
      "text/plain": [
       "Correct"
      ]
     },
     "metadata": {},
     "output_type": "display_data"
    }
   ],
   "source": [
    "# Your code goes here. Define a function called 'sign'\n",
    "def sign(num):\n",
    "    if num ==0:\n",
    "        return 0\n",
    "    elif num >0:\n",
    "        return 1\n",
    "    else:\n",
    "        return -1\n",
    "\n",
    "# Check your answer\n",
    "q1.check()"
   ]
  },
  {
   "cell_type": "code",
   "execution_count": 3,
   "id": "0634f760",
   "metadata": {
    "execution": {
     "iopub.execute_input": "2023-05-01T13:47:33.752187Z",
     "iopub.status.busy": "2023-05-01T13:47:33.751382Z",
     "iopub.status.idle": "2023-05-01T13:47:33.755825Z",
     "shell.execute_reply": "2023-05-01T13:47:33.754822Z"
    },
    "papermill": {
     "duration": 0.017427,
     "end_time": "2023-05-01T13:47:33.758185",
     "exception": false,
     "start_time": "2023-05-01T13:47:33.740758",
     "status": "completed"
    },
    "tags": []
   },
   "outputs": [],
   "source": [
    "#q1.solution()"
   ]
  },
  {
   "cell_type": "markdown",
   "id": "e76c8fb0",
   "metadata": {
    "papermill": {
     "duration": 0.00881,
     "end_time": "2023-05-01T13:47:33.776298",
     "exception": false,
     "start_time": "2023-05-01T13:47:33.767488",
     "status": "completed"
    },
    "tags": []
   },
   "source": [
    "# 2.\n",
    "\n",
    "We've decided to add \"logging\" to our `to_smash` function from the previous exercise."
   ]
  },
  {
   "cell_type": "code",
   "execution_count": 4,
   "id": "e1b59fb5",
   "metadata": {
    "execution": {
     "iopub.execute_input": "2023-05-01T13:47:33.798067Z",
     "iopub.status.busy": "2023-05-01T13:47:33.797274Z",
     "iopub.status.idle": "2023-05-01T13:47:33.806665Z",
     "shell.execute_reply": "2023-05-01T13:47:33.804986Z"
    },
    "papermill": {
     "duration": 0.02274,
     "end_time": "2023-05-01T13:47:33.809212",
     "exception": false,
     "start_time": "2023-05-01T13:47:33.786472",
     "status": "completed"
    },
    "tags": []
   },
   "outputs": [
    {
     "name": "stdout",
     "output_type": "stream",
     "text": [
      "Splitting 91 candies\n"
     ]
    },
    {
     "data": {
      "text/plain": [
       "1"
      ]
     },
     "execution_count": 4,
     "metadata": {},
     "output_type": "execute_result"
    }
   ],
   "source": [
    "def to_smash(total_candies):\n",
    "    \"\"\"Return the number of leftover candies that must be smashed after distributing\n",
    "    the given number of candies evenly between 3 friends.\n",
    "    \n",
    "    >>> to_smash(91)\n",
    "    1\n",
    "    \"\"\"\n",
    "    print(\"Splitting\", total_candies, \"candies\")\n",
    "    return total_candies % 3\n",
    "\n",
    "to_smash(91)"
   ]
  },
  {
   "cell_type": "markdown",
   "id": "86a2b683",
   "metadata": {
    "papermill": {
     "duration": 0.008851,
     "end_time": "2023-05-01T13:47:33.827345",
     "exception": false,
     "start_time": "2023-05-01T13:47:33.818494",
     "status": "completed"
    },
    "tags": []
   },
   "source": [
    "What happens if we call it with `total_candies = 1`?"
   ]
  },
  {
   "cell_type": "code",
   "execution_count": 5,
   "id": "95ee4cde",
   "metadata": {
    "execution": {
     "iopub.execute_input": "2023-05-01T13:47:33.847557Z",
     "iopub.status.busy": "2023-05-01T13:47:33.847120Z",
     "iopub.status.idle": "2023-05-01T13:47:33.855711Z",
     "shell.execute_reply": "2023-05-01T13:47:33.854296Z"
    },
    "papermill": {
     "duration": 0.021672,
     "end_time": "2023-05-01T13:47:33.858281",
     "exception": false,
     "start_time": "2023-05-01T13:47:33.836609",
     "status": "completed"
    },
    "tags": []
   },
   "outputs": [
    {
     "name": "stdout",
     "output_type": "stream",
     "text": [
      "Splitting 1 candies\n"
     ]
    },
    {
     "data": {
      "text/plain": [
       "1"
      ]
     },
     "execution_count": 5,
     "metadata": {},
     "output_type": "execute_result"
    }
   ],
   "source": [
    "to_smash(1)"
   ]
  },
  {
   "cell_type": "markdown",
   "id": "4a7e3132",
   "metadata": {
    "papermill": {
     "duration": 0.009161,
     "end_time": "2023-05-01T13:47:33.877338",
     "exception": false,
     "start_time": "2023-05-01T13:47:33.868177",
     "status": "completed"
    },
    "tags": []
   },
   "source": [
    "That isn't great grammar!\n",
    "\n",
    "Modify the definition in the cell below to correct the grammar of our print statement. (If there's only one candy, we should use the singular \"candy\" instead of the plural \"candies\")"
   ]
  },
  {
   "cell_type": "code",
   "execution_count": 6,
   "id": "36eb420a",
   "metadata": {
    "execution": {
     "iopub.execute_input": "2023-05-01T13:47:33.898909Z",
     "iopub.status.busy": "2023-05-01T13:47:33.898164Z",
     "iopub.status.idle": "2023-05-01T13:47:33.908646Z",
     "shell.execute_reply": "2023-05-01T13:47:33.907195Z"
    },
    "papermill": {
     "duration": 0.024426,
     "end_time": "2023-05-01T13:47:33.911294",
     "exception": false,
     "start_time": "2023-05-01T13:47:33.886868",
     "status": "completed"
    },
    "tags": []
   },
   "outputs": [
    {
     "name": "stdout",
     "output_type": "stream",
     "text": [
      "Splitting 91 candies\n",
      "Splitting 1 candy\n"
     ]
    },
    {
     "data": {
      "text/plain": [
       "1"
      ]
     },
     "execution_count": 6,
     "metadata": {},
     "output_type": "execute_result"
    }
   ],
   "source": [
    "def to_smash(total_candies):\n",
    "    \"\"\"Return the number of leftover candies that must be smashed after distributing\n",
    "    the given number of candies evenly between 3 friends.\n",
    "    \n",
    "    >>> to_smash(91)\n",
    "    1\n",
    "    \"\"\"\n",
    "    if total_candies ==1:\n",
    "        print(\"Splitting\", total_candies, \"candy\")\n",
    "    else:\n",
    "        print(\"Splitting\", total_candies, \"candies\")\n",
    "    return total_candies % 3\n",
    "\n",
    "to_smash(91)\n",
    "to_smash(1)"
   ]
  },
  {
   "cell_type": "markdown",
   "id": "4226b26c",
   "metadata": {
    "papermill": {
     "duration": 0.009396,
     "end_time": "2023-05-01T13:47:33.932079",
     "exception": false,
     "start_time": "2023-05-01T13:47:33.922683",
     "status": "completed"
    },
    "tags": []
   },
   "source": [
    "To get credit for completing this problem, and to see the official answer, run the code cell below."
   ]
  },
  {
   "cell_type": "code",
   "execution_count": 7,
   "id": "544f7ca3",
   "metadata": {
    "execution": {
     "iopub.execute_input": "2023-05-01T13:47:33.954158Z",
     "iopub.status.busy": "2023-05-01T13:47:33.953479Z",
     "iopub.status.idle": "2023-05-01T13:47:33.963053Z",
     "shell.execute_reply": "2023-05-01T13:47:33.962056Z"
    },
    "papermill": {
     "duration": 0.02338,
     "end_time": "2023-05-01T13:47:33.965473",
     "exception": false,
     "start_time": "2023-05-01T13:47:33.942093",
     "status": "completed"
    },
    "tags": []
   },
   "outputs": [
    {
     "data": {
      "application/javascript": [
       "parent.postMessage({\"jupyterEvent\": \"custom.exercise_interaction\", \"data\": {\"interactionType\": 3, \"questionType\": 4, \"questionId\": \"2_PluralizationProblem\", \"learnToolsVersion\": \"0.3.4\", \"valueTowardsCompletion\": 0.0, \"failureMessage\": \"\", \"exceptionClass\": \"\", \"trace\": \"\", \"outcomeType\": 4}}, \"*\")"
      ],
      "text/plain": [
       "<IPython.core.display.Javascript object>"
      ]
     },
     "metadata": {},
     "output_type": "display_data"
    },
    {
     "data": {
      "text/markdown": [
       "<span style=\"color:#33cc99\">Solution:</span> A straightforward (and totally fine) solution is to replace the original `print` call with:\n",
       "\n",
       "```python\n",
       "if total_candies == 1:\n",
       "    print(\"Splitting 1 candy\")\n",
       "else:\n",
       "    print(\"Splitting\", total_candies, \"candies\")\n",
       "```\n",
       "\n",
       "Here's a slightly more succinct solution using a conditional expression:\n",
       "\n",
       "```python\n",
       "print(\"Splitting\", total_candies, \"candy\" if total_candies == 1 else \"candies\")\n",
       "```"
      ],
      "text/plain": [
       "Solution: A straightforward (and totally fine) solution is to replace the original `print` call with:\n",
       "\n",
       "```python\n",
       "if total_candies == 1:\n",
       "    print(\"Splitting 1 candy\")\n",
       "else:\n",
       "    print(\"Splitting\", total_candies, \"candies\")\n",
       "```\n",
       "\n",
       "Here's a slightly more succinct solution using a conditional expression:\n",
       "\n",
       "```python\n",
       "print(\"Splitting\", total_candies, \"candy\" if total_candies == 1 else \"candies\")\n",
       "```"
      ]
     },
     "metadata": {},
     "output_type": "display_data"
    }
   ],
   "source": [
    "# Check your answer (Run this code cell to receive credit!)\n",
    "q2.solution()"
   ]
  },
  {
   "cell_type": "markdown",
   "id": "fcfe9da0",
   "metadata": {
    "papermill": {
     "duration": 0.009516,
     "end_time": "2023-05-01T13:47:33.985005",
     "exception": false,
     "start_time": "2023-05-01T13:47:33.975489",
     "status": "completed"
    },
    "tags": []
   },
   "source": [
    "# 3. <span title=\"A bit spicy\" style=\"color: darkgreen \">🌶️</span>\n",
    "\n",
    "In the tutorial, we talked about deciding whether we're prepared for the weather. I said that I'm safe from today's weather if...\n",
    "- I have an umbrella...\n",
    "- or if the rain isn't too heavy and I have a hood...\n",
    "- otherwise, I'm still fine unless it's raining *and* it's a workday\n",
    "\n",
    "The function below uses our first attempt at turning this logic into a Python expression. I claimed that there was a bug in that code. Can you find it?\n",
    "\n",
    "To prove that `prepared_for_weather` is buggy, come up with a set of inputs where either:\n",
    "- the function returns `False` (but should have returned `True`), or\n",
    "- the function returned `True` (but should have returned `False`).\n",
    "\n",
    "To get credit for completing this question, your code should return a <font color='#33cc33'>Correct</font> result."
   ]
  },
  {
   "cell_type": "code",
   "execution_count": 8,
   "id": "1e89bda7",
   "metadata": {
    "execution": {
     "iopub.execute_input": "2023-05-01T13:47:34.007631Z",
     "iopub.status.busy": "2023-05-01T13:47:34.006867Z",
     "iopub.status.idle": "2023-05-01T13:47:34.020694Z",
     "shell.execute_reply": "2023-05-01T13:47:34.019462Z"
    },
    "papermill": {
     "duration": 0.028095,
     "end_time": "2023-05-01T13:47:34.023079",
     "exception": false,
     "start_time": "2023-05-01T13:47:33.994984",
     "status": "completed"
    },
    "tags": []
   },
   "outputs": [
    {
     "name": "stdout",
     "output_type": "stream",
     "text": [
      "False\n"
     ]
    },
    {
     "data": {
      "application/javascript": [
       "parent.postMessage({\"jupyterEvent\": \"custom.exercise_interaction\", \"data\": {\"outcomeType\": 1, \"valueTowardsCompletion\": 0.2, \"interactionType\": 1, \"questionType\": 1, \"questionId\": \"3_WeatherDebug\", \"learnToolsVersion\": \"0.3.4\", \"failureMessage\": \"\", \"exceptionClass\": \"\", \"trace\": \"\"}}, \"*\")"
      ],
      "text/plain": [
       "<IPython.core.display.Javascript object>"
      ]
     },
     "metadata": {},
     "output_type": "display_data"
    },
    {
     "data": {
      "text/markdown": [
       "<span style=\"color:#33cc33\">Correct:</span> \n",
       "\n",
       "One example of a failing test case is:\n",
       "\n",
       "```python\n",
       "have_umbrella = False\n",
       "rain_level = 0.0\n",
       "have_hood = False\n",
       "is_workday = False\n",
       "```\n",
       "\n",
       "Clearly we're prepared for the weather in this case. It's not raining. Not only that, it's not a workday, so we don't even need to leave the house! But our function will return False on these inputs.\n",
       "\n",
       "The key problem is that Python implictly parenthesizes the last part as:\n",
       "\n",
       "```python\n",
       "(not (rain_level > 0)) and is_workday\n",
       "```\n",
       "\n",
       "Whereas what we were trying to express would look more like:\n",
       "\n",
       "```python\n",
       "not (rain_level > 0 and is_workday)\n",
       "```\n"
      ],
      "text/plain": [
       "Correct: \n",
       "\n",
       "One example of a failing test case is:\n",
       "\n",
       "```python\n",
       "have_umbrella = False\n",
       "rain_level = 0.0\n",
       "have_hood = False\n",
       "is_workday = False\n",
       "```\n",
       "\n",
       "Clearly we're prepared for the weather in this case. It's not raining. Not only that, it's not a workday, so we don't even need to leave the house! But our function will return False on these inputs.\n",
       "\n",
       "The key problem is that Python implictly parenthesizes the last part as:\n",
       "\n",
       "```python\n",
       "(not (rain_level > 0)) and is_workday\n",
       "```\n",
       "\n",
       "Whereas what we were trying to express would look more like:\n",
       "\n",
       "```python\n",
       "not (rain_level > 0 and is_workday)\n",
       "```"
      ]
     },
     "metadata": {},
     "output_type": "display_data"
    }
   ],
   "source": [
    "def prepared_for_weather(have_umbrella, rain_level, have_hood, is_workday):\n",
    "    # Don't change this code. Our goal is just to find the bug, not fix it!\n",
    "    return have_umbrella or rain_level < 5 and have_hood or not rain_level > 0 and is_workday\n",
    "\n",
    "# Change the values of these inputs so they represent a case where prepared_for_weather\n",
    "# returns the wrong answer.\n",
    "have_umbrella = False\n",
    "rain_level = 0.0\n",
    "have_hood = False\n",
    "is_workday = False\n",
    "\n",
    "# Check what the function returns given the current values of the variables above\n",
    "actual = prepared_for_weather(have_umbrella, rain_level, have_hood, is_workday)\n",
    "print(actual)\n",
    "\n",
    "# Check your answer\n",
    "q3.check()"
   ]
  },
  {
   "cell_type": "code",
   "execution_count": 9,
   "id": "79b1655f",
   "metadata": {
    "execution": {
     "iopub.execute_input": "2023-05-01T13:47:34.045982Z",
     "iopub.status.busy": "2023-05-01T13:47:34.045244Z",
     "iopub.status.idle": "2023-05-01T13:47:34.060156Z",
     "shell.execute_reply": "2023-05-01T13:47:34.058913Z"
    },
    "papermill": {
     "duration": 0.029533,
     "end_time": "2023-05-01T13:47:34.062828",
     "exception": false,
     "start_time": "2023-05-01T13:47:34.033295",
     "status": "completed"
    },
    "tags": []
   },
   "outputs": [
    {
     "data": {
      "application/javascript": [
       "parent.postMessage({\"jupyterEvent\": \"custom.exercise_interaction\", \"data\": {\"interactionType\": 2, \"questionType\": 1, \"questionId\": \"3_WeatherDebug\", \"learnToolsVersion\": \"0.3.4\", \"valueTowardsCompletion\": 0.0, \"failureMessage\": \"\", \"exceptionClass\": \"\", \"trace\": \"\", \"outcomeType\": 4}}, \"*\")"
      ],
      "text/plain": [
       "<IPython.core.display.Javascript object>"
      ]
     },
     "metadata": {},
     "output_type": "display_data"
    },
    {
     "data": {
      "text/markdown": [
       "<span style=\"color:#3366cc\">Hint:</span> Take a look at how we fixed our original expression in the main lesson. We added parentheses around certain subexpressions. The bug in this code is caused by Python evaluating certain operations in the \"wrong\" order."
      ],
      "text/plain": [
       "Hint: Take a look at how we fixed our original expression in the main lesson. We added parentheses around certain subexpressions. The bug in this code is caused by Python evaluating certain operations in the \"wrong\" order."
      ]
     },
     "metadata": {},
     "output_type": "display_data"
    },
    {
     "data": {
      "application/javascript": [
       "parent.postMessage({\"jupyterEvent\": \"custom.exercise_interaction\", \"data\": {\"interactionType\": 3, \"questionType\": 1, \"questionId\": \"3_WeatherDebug\", \"learnToolsVersion\": \"0.3.4\", \"valueTowardsCompletion\": 0.0, \"failureMessage\": \"\", \"exceptionClass\": \"\", \"trace\": \"\", \"outcomeType\": 4}}, \"*\")"
      ],
      "text/plain": [
       "<IPython.core.display.Javascript object>"
      ]
     },
     "metadata": {},
     "output_type": "display_data"
    },
    {
     "data": {
      "text/markdown": [
       "<span style=\"color:#33cc99\">Solution:</span> One example of a failing test case is:\n",
       "\n",
       "```python\n",
       "have_umbrella = False\n",
       "rain_level = 0.0\n",
       "have_hood = False\n",
       "is_workday = False\n",
       "```\n",
       "\n",
       "Clearly we're prepared for the weather in this case. It's not raining. Not only that, it's not a workday, so we don't even need to leave the house! But our function will return False on these inputs.\n",
       "\n",
       "The key problem is that Python implictly parenthesizes the last part as:\n",
       "\n",
       "```python\n",
       "(not (rain_level > 0)) and is_workday\n",
       "```\n",
       "\n",
       "Whereas what we were trying to express would look more like:\n",
       "\n",
       "```python\n",
       "not (rain_level > 0 and is_workday)\n",
       "```\n"
      ],
      "text/plain": [
       "Solution: One example of a failing test case is:\n",
       "\n",
       "```python\n",
       "have_umbrella = False\n",
       "rain_level = 0.0\n",
       "have_hood = False\n",
       "is_workday = False\n",
       "```\n",
       "\n",
       "Clearly we're prepared for the weather in this case. It's not raining. Not only that, it's not a workday, so we don't even need to leave the house! But our function will return False on these inputs.\n",
       "\n",
       "The key problem is that Python implictly parenthesizes the last part as:\n",
       "\n",
       "```python\n",
       "(not (rain_level > 0)) and is_workday\n",
       "```\n",
       "\n",
       "Whereas what we were trying to express would look more like:\n",
       "\n",
       "```python\n",
       "not (rain_level > 0 and is_workday)\n",
       "```"
      ]
     },
     "metadata": {},
     "output_type": "display_data"
    }
   ],
   "source": [
    "q3.hint()\n",
    "q3.solution()"
   ]
  },
  {
   "cell_type": "markdown",
   "id": "afdaf681",
   "metadata": {
    "papermill": {
     "duration": 0.010466,
     "end_time": "2023-05-01T13:47:34.084473",
     "exception": false,
     "start_time": "2023-05-01T13:47:34.074007",
     "status": "completed"
    },
    "tags": []
   },
   "source": [
    "# 4.\n",
    "\n",
    "The function `is_negative` below is implemented correctly - it returns True if the given number is negative and False otherwise.\n",
    "\n",
    "However, it's more verbose than it needs to be. We can actually reduce the number of lines of code in this function by *75%* while keeping the same behaviour. \n",
    "\n",
    "See if you can come up with an equivalent body that uses just **one line** of code, and put it in the function `concise_is_negative`. (HINT: you don't even need Python's ternary syntax)"
   ]
  },
  {
   "cell_type": "code",
   "execution_count": 10,
   "id": "4714cfec",
   "metadata": {
    "execution": {
     "iopub.execute_input": "2023-05-01T13:47:34.108029Z",
     "iopub.status.busy": "2023-05-01T13:47:34.107559Z",
     "iopub.status.idle": "2023-05-01T13:47:34.118477Z",
     "shell.execute_reply": "2023-05-01T13:47:34.117123Z"
    },
    "papermill": {
     "duration": 0.025766,
     "end_time": "2023-05-01T13:47:34.121037",
     "exception": false,
     "start_time": "2023-05-01T13:47:34.095271",
     "status": "completed"
    },
    "tags": []
   },
   "outputs": [
    {
     "data": {
      "application/javascript": [
       "parent.postMessage({\"jupyterEvent\": \"custom.exercise_interaction\", \"data\": {\"outcomeType\": 1, \"valueTowardsCompletion\": 0.2, \"interactionType\": 1, \"questionType\": 2, \"questionId\": \"4_ConciseIsNegative\", \"learnToolsVersion\": \"0.3.4\", \"failureMessage\": \"\", \"exceptionClass\": \"\", \"trace\": \"\"}}, \"*\")"
      ],
      "text/plain": [
       "<IPython.core.display.Javascript object>"
      ]
     },
     "metadata": {},
     "output_type": "display_data"
    },
    {
     "data": {
      "text/markdown": [
       "<span style=\"color:#33cc33\">Correct</span>"
      ],
      "text/plain": [
       "Correct"
      ]
     },
     "metadata": {},
     "output_type": "display_data"
    }
   ],
   "source": [
    "def is_negative(number):\n",
    "    if number < 0:\n",
    "        return True\n",
    "    else:\n",
    "        return False\n",
    "\n",
    "def concise_is_negative(number):\n",
    "    return True if number <0 else False\n",
    "    pass # Your code goes here (try to keep it to one line!)\n",
    "\n",
    "# Check your answer\n",
    "q4.check()"
   ]
  },
  {
   "cell_type": "code",
   "execution_count": 11,
   "id": "3b6d65d4",
   "metadata": {
    "execution": {
     "iopub.execute_input": "2023-05-01T13:47:34.145686Z",
     "iopub.status.busy": "2023-05-01T13:47:34.145130Z",
     "iopub.status.idle": "2023-05-01T13:47:34.150184Z",
     "shell.execute_reply": "2023-05-01T13:47:34.148807Z"
    },
    "papermill": {
     "duration": 0.020604,
     "end_time": "2023-05-01T13:47:34.152873",
     "exception": false,
     "start_time": "2023-05-01T13:47:34.132269",
     "status": "completed"
    },
    "tags": []
   },
   "outputs": [],
   "source": [
    "#q4.hint()\n",
    "#q4.solution()"
   ]
  },
  {
   "cell_type": "markdown",
   "id": "e9b35339",
   "metadata": {
    "papermill": {
     "duration": 0.010643,
     "end_time": "2023-05-01T13:47:34.175265",
     "exception": false,
     "start_time": "2023-05-01T13:47:34.164622",
     "status": "completed"
    },
    "tags": []
   },
   "source": [
    "# 5a.\n",
    "\n",
    "The boolean variables `ketchup`, `mustard` and `onion` represent whether a customer wants a particular topping on their hot dog. We want to implement a number of boolean functions that correspond to some yes-or-no questions about the customer's order. For example:"
   ]
  },
  {
   "cell_type": "code",
   "execution_count": 12,
   "id": "9cc84543",
   "metadata": {
    "execution": {
     "iopub.execute_input": "2023-05-01T13:47:34.199210Z",
     "iopub.status.busy": "2023-05-01T13:47:34.198484Z",
     "iopub.status.idle": "2023-05-01T13:47:34.204007Z",
     "shell.execute_reply": "2023-05-01T13:47:34.202719Z"
    },
    "papermill": {
     "duration": 0.02025,
     "end_time": "2023-05-01T13:47:34.206553",
     "exception": false,
     "start_time": "2023-05-01T13:47:34.186303",
     "status": "completed"
    },
    "tags": []
   },
   "outputs": [],
   "source": [
    "def onionless(ketchup, mustard, onion):\n",
    "    \"\"\"Return whether the customer doesn't want onions.\n",
    "    \"\"\"\n",
    "    return not onion"
   ]
  },
  {
   "cell_type": "code",
   "execution_count": 13,
   "id": "98924fd2",
   "metadata": {
    "execution": {
     "iopub.execute_input": "2023-05-01T13:47:34.231156Z",
     "iopub.status.busy": "2023-05-01T13:47:34.230716Z",
     "iopub.status.idle": "2023-05-01T13:47:34.241747Z",
     "shell.execute_reply": "2023-05-01T13:47:34.240628Z"
    },
    "papermill": {
     "duration": 0.026281,
     "end_time": "2023-05-01T13:47:34.244134",
     "exception": false,
     "start_time": "2023-05-01T13:47:34.217853",
     "status": "completed"
    },
    "tags": []
   },
   "outputs": [
    {
     "data": {
      "application/javascript": [
       "parent.postMessage({\"jupyterEvent\": \"custom.exercise_interaction\", \"data\": {\"outcomeType\": 1, \"valueTowardsCompletion\": 0.2, \"interactionType\": 1, \"questionType\": 2, \"questionId\": \"5.1_AllToppings\", \"learnToolsVersion\": \"0.3.4\", \"failureMessage\": \"\", \"exceptionClass\": \"\", \"trace\": \"\"}}, \"*\")"
      ],
      "text/plain": [
       "<IPython.core.display.Javascript object>"
      ]
     },
     "metadata": {},
     "output_type": "display_data"
    },
    {
     "data": {
      "text/markdown": [
       "<span style=\"color:#33cc33\">Correct</span>"
      ],
      "text/plain": [
       "Correct"
      ]
     },
     "metadata": {},
     "output_type": "display_data"
    }
   ],
   "source": [
    "def wants_all_toppings(ketchup, mustard, onion):\n",
    "    \"\"\"Return whether the customer wants \"the works\" (all 3 toppings)\n",
    "    \"\"\"\n",
    "    return ketchup and  mustard and onion\n",
    "        \n",
    "    \n",
    "\n",
    "# Check your answer\n",
    "q5.a.check()"
   ]
  },
  {
   "cell_type": "code",
   "execution_count": 14,
   "id": "4591aa69",
   "metadata": {
    "execution": {
     "iopub.execute_input": "2023-05-01T13:47:34.269798Z",
     "iopub.status.busy": "2023-05-01T13:47:34.268995Z",
     "iopub.status.idle": "2023-05-01T13:47:34.282767Z",
     "shell.execute_reply": "2023-05-01T13:47:34.281555Z"
    },
    "papermill": {
     "duration": 0.02921,
     "end_time": "2023-05-01T13:47:34.285330",
     "exception": false,
     "start_time": "2023-05-01T13:47:34.256120",
     "status": "completed"
    },
    "tags": []
   },
   "outputs": [
    {
     "data": {
      "application/javascript": [
       "parent.postMessage({\"jupyterEvent\": \"custom.exercise_interaction\", \"data\": {\"interactionType\": 2, \"questionType\": 2, \"questionId\": \"5.1_AllToppings\", \"learnToolsVersion\": \"0.3.4\", \"valueTowardsCompletion\": 0.0, \"failureMessage\": \"\", \"exceptionClass\": \"\", \"trace\": \"\", \"outcomeType\": 4}}, \"*\")"
      ],
      "text/plain": [
       "<IPython.core.display.Javascript object>"
      ]
     },
     "metadata": {},
     "output_type": "display_data"
    },
    {
     "data": {
      "text/markdown": [
       "<span style=\"color:#3366cc\">Hint:</span> You'll need to use the `and` operator."
      ],
      "text/plain": [
       "Hint: You'll need to use the `and` operator."
      ]
     },
     "metadata": {},
     "output_type": "display_data"
    },
    {
     "data": {
      "application/javascript": [
       "parent.postMessage({\"jupyterEvent\": \"custom.exercise_interaction\", \"data\": {\"interactionType\": 3, \"questionType\": 2, \"questionId\": \"5.1_AllToppings\", \"learnToolsVersion\": \"0.3.4\", \"valueTowardsCompletion\": 0.0, \"failureMessage\": \"\", \"exceptionClass\": \"\", \"trace\": \"\", \"outcomeType\": 4}}, \"*\")"
      ],
      "text/plain": [
       "<IPython.core.display.Javascript object>"
      ]
     },
     "metadata": {},
     "output_type": "display_data"
    },
    {
     "data": {
      "text/markdown": [
       "<span style=\"color:#33cc99\">Solution:</span> \n",
       "```python\n",
       "return ketchup and mustard and onion\n",
       "```"
      ],
      "text/plain": [
       "Solution: \n",
       "```python\n",
       "return ketchup and mustard and onion\n",
       "```"
      ]
     },
     "metadata": {},
     "output_type": "display_data"
    }
   ],
   "source": [
    "q5.a.hint()\n",
    "q5.a.solution()"
   ]
  },
  {
   "cell_type": "markdown",
   "id": "3c1fed92",
   "metadata": {
    "papermill": {
     "duration": 0.011573,
     "end_time": "2023-05-01T13:47:34.308746",
     "exception": false,
     "start_time": "2023-05-01T13:47:34.297173",
     "status": "completed"
    },
    "tags": []
   },
   "source": [
    "# 5b.\n",
    "\n",
    "For the next function, fill in the body to match the English description in the docstring. "
   ]
  },
  {
   "cell_type": "code",
   "execution_count": 15,
   "id": "026db774",
   "metadata": {
    "execution": {
     "iopub.execute_input": "2023-05-01T13:47:34.335175Z",
     "iopub.status.busy": "2023-05-01T13:47:34.334776Z",
     "iopub.status.idle": "2023-05-01T13:47:34.345091Z",
     "shell.execute_reply": "2023-05-01T13:47:34.343665Z"
    },
    "papermill": {
     "duration": 0.027151,
     "end_time": "2023-05-01T13:47:34.347736",
     "exception": false,
     "start_time": "2023-05-01T13:47:34.320585",
     "status": "completed"
    },
    "tags": []
   },
   "outputs": [
    {
     "data": {
      "application/javascript": [
       "parent.postMessage({\"jupyterEvent\": \"custom.exercise_interaction\", \"data\": {\"outcomeType\": 1, \"valueTowardsCompletion\": 0.2, \"interactionType\": 1, \"questionType\": 2, \"questionId\": \"5.2_PlainDog\", \"learnToolsVersion\": \"0.3.4\", \"failureMessage\": \"\", \"exceptionClass\": \"\", \"trace\": \"\"}}, \"*\")"
      ],
      "text/plain": [
       "<IPython.core.display.Javascript object>"
      ]
     },
     "metadata": {},
     "output_type": "display_data"
    },
    {
     "data": {
      "text/markdown": [
       "<span style=\"color:#33cc33\">Correct:</span> \n",
       "\n",
       "One solution looks like:\n",
       "```python\n",
       "return not ketchup and not mustard and not onion\n",
       "```\n",
       "\n",
       "We can also [\"factor out\" the nots](https://en.wikipedia.org/wiki/De_Morgan%27s_laws) to get:\n",
       "\n",
       "```python\n",
       "return not (ketchup or mustard or onion)\n",
       "```"
      ],
      "text/plain": [
       "Correct: \n",
       "\n",
       "One solution looks like:\n",
       "```python\n",
       "return not ketchup and not mustard and not onion\n",
       "```\n",
       "\n",
       "We can also [\"factor out\" the nots](https://en.wikipedia.org/wiki/De_Morgan%27s_laws) to get:\n",
       "\n",
       "```python\n",
       "return not (ketchup or mustard or onion)\n",
       "```"
      ]
     },
     "metadata": {},
     "output_type": "display_data"
    }
   ],
   "source": [
    "def wants_plain_hotdog(ketchup, mustard, onion):\n",
    "    \"\"\"Return whether the customer wants a plain hot dog with no toppings.\n",
    "    \"\"\"\n",
    "    return not ketchup and not mustard and not onion\n",
    "    pass\n",
    "\n",
    "# Check your answer\n",
    "q5.b.check()"
   ]
  },
  {
   "cell_type": "code",
   "execution_count": 16,
   "id": "a1845555",
   "metadata": {
    "execution": {
     "iopub.execute_input": "2023-05-01T13:47:34.373735Z",
     "iopub.status.busy": "2023-05-01T13:47:34.373226Z",
     "iopub.status.idle": "2023-05-01T13:47:34.378455Z",
     "shell.execute_reply": "2023-05-01T13:47:34.377001Z"
    },
    "papermill": {
     "duration": 0.021258,
     "end_time": "2023-05-01T13:47:34.380989",
     "exception": false,
     "start_time": "2023-05-01T13:47:34.359731",
     "status": "completed"
    },
    "tags": []
   },
   "outputs": [],
   "source": [
    "#q5.b.hint()\n",
    "#q5.b.solution()"
   ]
  },
  {
   "cell_type": "markdown",
   "id": "6ef9b58e",
   "metadata": {
    "papermill": {
     "duration": 0.011895,
     "end_time": "2023-05-01T13:47:34.405029",
     "exception": false,
     "start_time": "2023-05-01T13:47:34.393134",
     "status": "completed"
    },
    "tags": []
   },
   "source": [
    "# 5c.\n",
    "\n",
    "You know what to do: for the next function, fill in the body to match the English description in the docstring."
   ]
  },
  {
   "cell_type": "code",
   "execution_count": 17,
   "id": "8f641378",
   "metadata": {
    "execution": {
     "iopub.execute_input": "2023-05-01T13:47:34.432656Z",
     "iopub.status.busy": "2023-05-01T13:47:34.432217Z",
     "iopub.status.idle": "2023-05-01T13:47:34.442799Z",
     "shell.execute_reply": "2023-05-01T13:47:34.441529Z"
    },
    "papermill": {
     "duration": 0.027814,
     "end_time": "2023-05-01T13:47:34.445482",
     "exception": false,
     "start_time": "2023-05-01T13:47:34.417668",
     "status": "completed"
    },
    "tags": []
   },
   "outputs": [
    {
     "data": {
      "application/javascript": [
       "parent.postMessage({\"jupyterEvent\": \"custom.exercise_interaction\", \"data\": {\"outcomeType\": 1, \"valueTowardsCompletion\": 0.2, \"interactionType\": 1, \"questionType\": 2, \"questionId\": \"5.3_OneSauce\", \"learnToolsVersion\": \"0.3.4\", \"failureMessage\": \"\", \"exceptionClass\": \"\", \"trace\": \"\"}}, \"*\")"
      ],
      "text/plain": [
       "<IPython.core.display.Javascript object>"
      ]
     },
     "metadata": {},
     "output_type": "display_data"
    },
    {
     "data": {
      "text/markdown": [
       "<span style=\"color:#33cc33\">Correct</span>"
      ],
      "text/plain": [
       "Correct"
      ]
     },
     "metadata": {},
     "output_type": "display_data"
    }
   ],
   "source": [
    "def exactly_one_sauce(ketchup, mustard, onion):\n",
    "    \"\"\"Return whether the customer wants either ketchup or mustard, but not both.\n",
    "    (You may be familiar with this operation under the name \"exclusive or\")\n",
    "    \"\"\"\n",
    "    pass\n",
    "    return ketchup ^ mustard\n",
    "\n",
    "# Check your answer\n",
    "q5.c.check()"
   ]
  },
  {
   "cell_type": "code",
   "execution_count": 18,
   "id": "b6521163",
   "metadata": {
    "execution": {
     "iopub.execute_input": "2023-05-01T13:47:34.473220Z",
     "iopub.status.busy": "2023-05-01T13:47:34.472764Z",
     "iopub.status.idle": "2023-05-01T13:47:34.478335Z",
     "shell.execute_reply": "2023-05-01T13:47:34.476932Z"
    },
    "papermill": {
     "duration": 0.022747,
     "end_time": "2023-05-01T13:47:34.480723",
     "exception": false,
     "start_time": "2023-05-01T13:47:34.457976",
     "status": "completed"
    },
    "tags": []
   },
   "outputs": [],
   "source": [
    "#q5.c.hint()\n",
    "#q5.c.solution()"
   ]
  },
  {
   "cell_type": "markdown",
   "id": "6a25d575",
   "metadata": {
    "papermill": {
     "duration": 0.011943,
     "end_time": "2023-05-01T13:47:34.505002",
     "exception": false,
     "start_time": "2023-05-01T13:47:34.493059",
     "status": "completed"
    },
    "tags": []
   },
   "source": [
    "# 6. <span title=\"A bit spicy\" style=\"color: darkgreen \">🌶️</span>\n",
    "\n",
    "We’ve seen that calling `bool()` on an integer returns `False` if it’s equal to 0 and `True` otherwise. What happens if we call `int()` on a bool? Try it out in the notebook cell below.\n",
    "\n",
    "Can you take advantage of this to write a succinct function that corresponds to the English sentence \"does the customer want exactly one topping?\"?"
   ]
  },
  {
   "cell_type": "code",
   "execution_count": 19,
   "id": "4fe16dbf",
   "metadata": {
    "execution": {
     "iopub.execute_input": "2023-05-01T13:47:34.532774Z",
     "iopub.status.busy": "2023-05-01T13:47:34.532348Z",
     "iopub.status.idle": "2023-05-01T13:47:34.542856Z",
     "shell.execute_reply": "2023-05-01T13:47:34.541923Z"
    },
    "papermill": {
     "duration": 0.027224,
     "end_time": "2023-05-01T13:47:34.545081",
     "exception": false,
     "start_time": "2023-05-01T13:47:34.517857",
     "status": "completed"
    },
    "tags": []
   },
   "outputs": [
    {
     "data": {
      "application/javascript": [
       "parent.postMessage({\"jupyterEvent\": \"custom.exercise_interaction\", \"data\": {\"outcomeType\": 1, \"valueTowardsCompletion\": 0.2, \"interactionType\": 1, \"questionType\": 2, \"questionId\": \"6_OneTopping\", \"learnToolsVersion\": \"0.3.4\", \"failureMessage\": \"\", \"exceptionClass\": \"\", \"trace\": \"\"}}, \"*\")"
      ],
      "text/plain": [
       "<IPython.core.display.Javascript object>"
      ]
     },
     "metadata": {},
     "output_type": "display_data"
    },
    {
     "data": {
      "text/markdown": [
       "<span style=\"color:#33cc33\">Correct:</span> \n",
       "\n",
       "This condition would be pretty complicated to express using just `and`, `or` and `not`, but using boolean-to-integer conversion gives us this short solution:\n",
       "```python\n",
       "return (int(ketchup) + int(mustard) + int(onion)) == 1\n",
       "```\n",
       "\n",
       "Fun fact: we don't technically need to call `int` on the arguments. Just by doing addition with booleans, Python implicitly does the integer conversion. So we could also write...\n",
       "\n",
       "```python\n",
       "return (ketchup + mustard + onion) == 1\n",
       "```"
      ],
      "text/plain": [
       "Correct: \n",
       "\n",
       "This condition would be pretty complicated to express using just `and`, `or` and `not`, but using boolean-to-integer conversion gives us this short solution:\n",
       "```python\n",
       "return (int(ketchup) + int(mustard) + int(onion)) == 1\n",
       "```\n",
       "\n",
       "Fun fact: we don't technically need to call `int` on the arguments. Just by doing addition with booleans, Python implicitly does the integer conversion. So we could also write...\n",
       "\n",
       "```python\n",
       "return (ketchup + mustard + onion) == 1\n",
       "```"
      ]
     },
     "metadata": {},
     "output_type": "display_data"
    }
   ],
   "source": [
    "def exactly_one_topping(ketchup, mustard, onion):\n",
    "    \"\"\"Return whether the customer wants exactly one of the three available toppings\n",
    "    on their hot dog.\n",
    "    \"\"\"\n",
    "    ketchup = int(ketchup)\n",
    "    mustard = int(mustard)\n",
    "    onion=int(onion)\n",
    "    if ketchup+mustard+onion == 1:\n",
    "        return True\n",
    "    else:\n",
    "        return False\n",
    "        \n",
    "\n",
    "# Check your answer\n",
    "q6.check()"
   ]
  },
  {
   "cell_type": "code",
   "execution_count": 20,
   "id": "f4c30a1f",
   "metadata": {
    "execution": {
     "iopub.execute_input": "2023-05-01T13:47:34.572221Z",
     "iopub.status.busy": "2023-05-01T13:47:34.571806Z",
     "iopub.status.idle": "2023-05-01T13:47:34.581340Z",
     "shell.execute_reply": "2023-05-01T13:47:34.580257Z"
    },
    "papermill": {
     "duration": 0.026075,
     "end_time": "2023-05-01T13:47:34.583772",
     "exception": false,
     "start_time": "2023-05-01T13:47:34.557697",
     "status": "completed"
    },
    "tags": []
   },
   "outputs": [
    {
     "data": {
      "application/javascript": [
       "parent.postMessage({\"jupyterEvent\": \"custom.exercise_interaction\", \"data\": {\"interactionType\": 2, \"questionType\": 2, \"questionId\": \"6_OneTopping\", \"learnToolsVersion\": \"0.3.4\", \"valueTowardsCompletion\": 0.0, \"failureMessage\": \"\", \"exceptionClass\": \"\", \"trace\": \"\", \"outcomeType\": 4}}, \"*\")"
      ],
      "text/plain": [
       "<IPython.core.display.Javascript object>"
      ]
     },
     "metadata": {},
     "output_type": "display_data"
    },
    {
     "data": {
      "text/markdown": [
       "<span style=\"color:#3366cc\">Hint:</span> You may have already found that `int(True)` is 1, and `int(False)` is 0. Think about what kinds of basic arithmetic operations you might want to perform on `ketchup`, `mustard`, and `onion` after converting them to integers."
      ],
      "text/plain": [
       "Hint: You may have already found that `int(True)` is 1, and `int(False)` is 0. Think about what kinds of basic arithmetic operations you might want to perform on `ketchup`, `mustard`, and `onion` after converting them to integers."
      ]
     },
     "metadata": {},
     "output_type": "display_data"
    }
   ],
   "source": [
    "q6.hint()\n",
    "#q6.solution()"
   ]
  },
  {
   "cell_type": "markdown",
   "id": "b5202f62",
   "metadata": {
    "papermill": {
     "duration": 0.013415,
     "end_time": "2023-05-01T13:47:34.610699",
     "exception": false,
     "start_time": "2023-05-01T13:47:34.597284",
     "status": "completed"
    },
    "tags": []
   },
   "source": [
    "# 7. <span title=\"A bit spicy\" style=\"color: darkgreen \">🌶️</span> (Optional)\n",
    "\n",
    "In this problem we'll be working with a simplified version of [blackjack](https://en.wikipedia.org/wiki/Blackjack) (aka twenty-one). In this version there is one player (who you'll control) and a dealer. Play proceeds as follows:\n",
    "\n",
    "- The player is dealt two face-up cards. The dealer is dealt one face-up card.\n",
    "- The player may ask to be dealt another card ('hit') as many times as they wish. If the sum of their cards exceeds 21, they lose the round immediately.\n",
    "- The dealer then deals additional cards to himself until either:\n",
    "    - the sum of the dealer's cards exceeds 21, in which case the player wins the round\n",
    "    - the sum of the dealer's cards is greater than or equal to 17. If the player's total is greater than the dealer's, the player wins. Otherwise, the dealer wins (even in case of a tie).\n",
    "    \n",
    "When calculating the sum of cards, Jack, Queen, and King count for 10. Aces can count as 1 or 11 (when referring to a player's \"total\" above, we mean the largest total that can be made without exceeding 21. So e.g. A+8 = 19, A+8+8 = 17)\n",
    "\n",
    "For this problem, you'll write a function representing the player's decision-making strategy in this game. We've provided a very unintelligent implementation below:"
   ]
  },
  {
   "cell_type": "code",
   "execution_count": 21,
   "id": "590c5a12",
   "metadata": {
    "execution": {
     "iopub.execute_input": "2023-05-01T13:47:34.639244Z",
     "iopub.status.busy": "2023-05-01T13:47:34.638062Z",
     "iopub.status.idle": "2023-05-01T13:47:34.643683Z",
     "shell.execute_reply": "2023-05-01T13:47:34.642754Z"
    },
    "papermill": {
     "duration": 0.022347,
     "end_time": "2023-05-01T13:47:34.646043",
     "exception": false,
     "start_time": "2023-05-01T13:47:34.623696",
     "status": "completed"
    },
    "tags": []
   },
   "outputs": [],
   "source": [
    "def should_hit(dealer_total, player_total, player_low_aces, player_high_aces):\n",
    "    \"\"\"Return True if the player should hit (request another card) given the current game\n",
    "    state, or False if the player should stay.\n",
    "    When calculating a hand's total value, we count aces as \"high\" (with value 11) if doing so\n",
    "    doesn't bring the total above 21, otherwise we count them as low (with value 1). \n",
    "    For example, if the player's hand is {A, A, A, 7}, we will count it as 11 + 1 + 1 + 7,\n",
    "    and therefore set player_total=20, player_low_aces=2, player_high_aces=1.\n",
    "    \"\"\"\n",
    "    return False"
   ]
  },
  {
   "cell_type": "markdown",
   "id": "4a21898b",
   "metadata": {
    "papermill": {
     "duration": 0.012999,
     "end_time": "2023-05-01T13:47:34.672546",
     "exception": false,
     "start_time": "2023-05-01T13:47:34.659547",
     "status": "completed"
    },
    "tags": []
   },
   "source": [
    "This very conservative agent *always* sticks with the hand of two cards that they're dealt.\n",
    "\n",
    "We'll be simulating games between your player agent and our own dealer agent by calling your function.\n",
    "\n",
    "Try running the function below to see an example of a simulated game:"
   ]
  },
  {
   "cell_type": "code",
   "execution_count": 22,
   "id": "af6e2c45",
   "metadata": {
    "execution": {
     "iopub.execute_input": "2023-05-01T13:47:34.701490Z",
     "iopub.status.busy": "2023-05-01T13:47:34.700110Z",
     "iopub.status.idle": "2023-05-01T13:47:34.708226Z",
     "shell.execute_reply": "2023-05-01T13:47:34.706574Z"
    },
    "papermill": {
     "duration": 0.025229,
     "end_time": "2023-05-01T13:47:34.710979",
     "exception": false,
     "start_time": "2023-05-01T13:47:34.685750",
     "status": "completed"
    },
    "tags": []
   },
   "outputs": [
    {
     "name": "stdout",
     "output_type": "stream",
     "text": [
      "Player starts with 2 and 6 (total = 8)\n",
      "Dealer starts with 10\n",
      "\n",
      "__Player's turn__\n",
      "Player stays\n",
      "\n",
      "__Dealer's turn__\n",
      "Dealer hits and receives 6. (total = 16)\n",
      "Dealer hits and receives K. (total = 26)\n",
      "Dealer busts! Player wins.\n"
     ]
    }
   ],
   "source": [
    "q7.simulate_one_game()"
   ]
  },
  {
   "cell_type": "markdown",
   "id": "d6c9ce28",
   "metadata": {
    "papermill": {
     "duration": 0.013405,
     "end_time": "2023-05-01T13:47:34.737584",
     "exception": false,
     "start_time": "2023-05-01T13:47:34.724179",
     "status": "completed"
    },
    "tags": []
   },
   "source": [
    "The real test of your agent's mettle is their average win rate over many games. Try calling the function below to simulate 50000 games of blackjack (it may take a couple seconds):"
   ]
  },
  {
   "cell_type": "code",
   "execution_count": 23,
   "id": "c56b704c",
   "metadata": {
    "execution": {
     "iopub.execute_input": "2023-05-01T13:47:34.765877Z",
     "iopub.status.busy": "2023-05-01T13:47:34.765389Z",
     "iopub.status.idle": "2023-05-01T13:47:36.464340Z",
     "shell.execute_reply": "2023-05-01T13:47:36.462525Z"
    },
    "papermill": {
     "duration": 1.716134,
     "end_time": "2023-05-01T13:47:36.467159",
     "exception": false,
     "start_time": "2023-05-01T13:47:34.751025",
     "status": "completed"
    },
    "tags": []
   },
   "outputs": [
    {
     "name": "stdout",
     "output_type": "stream",
     "text": [
      "Player won 19033 out of 50000 games (win rate = 38.1%)\n"
     ]
    }
   ],
   "source": [
    "q7.simulate(n_games=50000)"
   ]
  },
  {
   "cell_type": "markdown",
   "id": "30f66772",
   "metadata": {
    "papermill": {
     "duration": 0.012985,
     "end_time": "2023-05-01T13:47:36.494667",
     "exception": false,
     "start_time": "2023-05-01T13:47:36.481682",
     "status": "completed"
    },
    "tags": []
   },
   "source": [
    "Our dumb agent that completely ignores the game state still manages to win shockingly often!\n",
    "\n",
    "Try adding some more smarts to the `should_hit` function and see how it affects the results."
   ]
  },
  {
   "cell_type": "code",
   "execution_count": 24,
   "id": "919f6e43",
   "metadata": {
    "execution": {
     "iopub.execute_input": "2023-05-01T13:47:36.524166Z",
     "iopub.status.busy": "2023-05-01T13:47:36.523746Z",
     "iopub.status.idle": "2023-05-01T13:47:38.222457Z",
     "shell.execute_reply": "2023-05-01T13:47:38.220587Z"
    },
    "papermill": {
     "duration": 1.716935,
     "end_time": "2023-05-01T13:47:38.225427",
     "exception": false,
     "start_time": "2023-05-01T13:47:36.508492",
     "status": "completed"
    },
    "tags": []
   },
   "outputs": [
    {
     "name": "stdout",
     "output_type": "stream",
     "text": [
      "Player won 19095 out of 50000 games (win rate = 38.2%)\n"
     ]
    }
   ],
   "source": [
    "def should_hit(dealer_total, player_total, player_low_aces, player_high_aces):\n",
    "    \"\"\"Return True if the player should hit (request another card) given the current game\n",
    "    state, or False if the player should stay.\n",
    "    When calculating a hand's total value, we count aces as \"high\" (with value 11) if doing so\n",
    "    doesn't bring the total above 21, otherwise we count them as low (with value 1). \n",
    "    For example, if the player's hand is {A, A, A, 7}, we will count it as 11 + 1 + 1 + 7,\n",
    "    and therefore set player_total=20, player_low_aces=2, player_high_aces=1.\n",
    "    \"\"\"\n",
    "    return False\n",
    "\n",
    "q7.simulate(n_games=50000)"
   ]
  },
  {
   "cell_type": "markdown",
   "id": "2bb4e022",
   "metadata": {
    "papermill": {
     "duration": 0.013516,
     "end_time": "2023-05-01T13:47:38.252282",
     "exception": false,
     "start_time": "2023-05-01T13:47:38.238766",
     "status": "completed"
    },
    "tags": []
   },
   "source": [
    "# Keep Going\n",
    "\n",
    "Learn about **[lists and tuples](https://www.kaggle.com/colinmorris/lists)** to handle multiple items of data in a systematic way."
   ]
  },
  {
   "cell_type": "markdown",
   "id": "e8e08ade",
   "metadata": {
    "papermill": {
     "duration": 0.012785,
     "end_time": "2023-05-01T13:47:38.278412",
     "exception": false,
     "start_time": "2023-05-01T13:47:38.265627",
     "status": "completed"
    },
    "tags": []
   },
   "source": [
    "---\n",
    "\n",
    "\n",
    "\n",
    "\n",
    "*Have questions or comments? Visit the [course discussion forum](https://www.kaggle.com/learn/python/discussion) to chat with other learners.*"
   ]
  }
 ],
 "metadata": {
  "kernelspec": {
   "display_name": "Python 3",
   "language": "python",
   "name": "python3"
  },
  "language_info": {
   "codemirror_mode": {
    "name": "ipython",
    "version": 3
   },
   "file_extension": ".py",
   "mimetype": "text/x-python",
   "name": "python",
   "nbconvert_exporter": "python",
   "pygments_lexer": "ipython3",
   "version": "3.7.12"
  },
  "papermill": {
   "default_parameters": {},
   "duration": 16.339857,
   "end_time": "2023-05-01T13:47:39.015442",
   "environment_variables": {},
   "exception": null,
   "input_path": "__notebook__.ipynb",
   "output_path": "__notebook__.ipynb",
   "parameters": {},
   "start_time": "2023-05-01T13:47:22.675585",
   "version": "2.4.0"
  }
 },
 "nbformat": 4,
 "nbformat_minor": 5
}
