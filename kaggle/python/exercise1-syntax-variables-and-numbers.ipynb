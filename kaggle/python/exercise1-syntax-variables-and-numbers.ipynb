{
 "cells": [
  {
   "cell_type": "markdown",
   "id": "6cf5723b",
   "metadata": {
    "papermill": {
     "duration": 0.008449,
     "end_time": "2023-05-01T10:15:01.284293",
     "exception": false,
     "start_time": "2023-05-01T10:15:01.275844",
     "status": "completed"
    },
    "tags": []
   },
   "source": [
    "**This notebook is an exercise in the [Python](https://www.kaggle.com/learn/python) course.  You can reference the tutorial at [this link](https://www.kaggle.com/colinmorris/hello-python).**\n",
    "\n",
    "---\n"
   ]
  },
  {
   "cell_type": "markdown",
   "id": "5f95bb1c",
   "metadata": {
    "papermill": {
     "duration": 0.00675,
     "end_time": "2023-05-01T10:15:01.298473",
     "exception": false,
     "start_time": "2023-05-01T10:15:01.291723",
     "status": "completed"
    },
    "tags": []
   },
   "source": [
    "Welcome to your first set of Python coding problems.  If this is your first time using Kaggle Notebooks, welcome! \n",
    "\n",
    "Notebooks are composed of blocks (called \"cells\") of text and code. Each of these is editable, though you'll mainly be editing the code cells to answer some questions.\n",
    "\n",
    "To get started, try running the code cell below (by pressing the ► button, or clicking on the cell and pressing ctrl+enter on your keyboard)."
   ]
  },
  {
   "cell_type": "code",
   "execution_count": 1,
   "id": "df69b8fa",
   "metadata": {
    "execution": {
     "iopub.execute_input": "2023-05-01T10:15:01.315004Z",
     "iopub.status.busy": "2023-05-01T10:15:01.314226Z",
     "iopub.status.idle": "2023-05-01T10:15:01.325746Z",
     "shell.execute_reply": "2023-05-01T10:15:01.324527Z"
    },
    "papermill": {
     "duration": 0.023127,
     "end_time": "2023-05-01T10:15:01.328458",
     "exception": false,
     "start_time": "2023-05-01T10:15:01.305331",
     "status": "completed"
    },
    "tags": []
   },
   "outputs": [
    {
     "name": "stdout",
     "output_type": "stream",
     "text": [
      "You've successfully run some Python code\n",
      "Congratulations!\n"
     ]
    }
   ],
   "source": [
    "print(\"You've successfully run some Python code\")\n",
    "print(\"Congratulations!\")"
   ]
  },
  {
   "cell_type": "markdown",
   "id": "88acd76c",
   "metadata": {
    "papermill": {
     "duration": 0.006523,
     "end_time": "2023-05-01T10:15:01.342138",
     "exception": false,
     "start_time": "2023-05-01T10:15:01.335615",
     "status": "completed"
    },
    "tags": []
   },
   "source": [
    "Try adding another line of code in the cell above and re-running it. \n",
    "\n",
    "Now let's get a little fancier:  Add a new code cell by clicking on an existing code cell, hitting the escape key, and then hitting the `a` or `b` key.  The `a` key will add a cell above the current cell, and `b` adds a cell below.\n",
    "\n",
    "Great! Now you know how to use Notebooks.\n",
    "\n",
    "Each hands-on exercise starts by setting up our feedback and code checking mechanism. Run the code cell below to do that. Then you'll be ready to move on to question 0."
   ]
  },
  {
   "cell_type": "code",
   "execution_count": 2,
   "id": "c7c2f4ac",
   "metadata": {
    "_kg_hide-input": true,
    "_kg_hide-output": true,
    "execution": {
     "iopub.execute_input": "2023-05-01T10:15:01.358031Z",
     "iopub.status.busy": "2023-05-01T10:15:01.357571Z",
     "iopub.status.idle": "2023-05-01T10:15:01.404306Z",
     "shell.execute_reply": "2023-05-01T10:15:01.402900Z"
    },
    "papermill": {
     "duration": 0.058044,
     "end_time": "2023-05-01T10:15:01.407086",
     "exception": false,
     "start_time": "2023-05-01T10:15:01.349042",
     "status": "completed"
    },
    "tags": []
   },
   "outputs": [
    {
     "name": "stdout",
     "output_type": "stream",
     "text": [
      "Setup complete! You're ready to start question 0.\n"
     ]
    }
   ],
   "source": [
    "from learntools.core import binder; binder.bind(globals())\n",
    "from learntools.python.ex1 import *\n",
    "print(\"Setup complete! You're ready to start question 0.\")"
   ]
  },
  {
   "cell_type": "markdown",
   "id": "9b92565b",
   "metadata": {
    "papermill": {
     "duration": 0.006586,
     "end_time": "2023-05-01T10:15:01.420947",
     "exception": false,
     "start_time": "2023-05-01T10:15:01.414361",
     "status": "completed"
    },
    "tags": []
   },
   "source": [
    "# 0.\n",
    "\n",
    "*This is a silly question intended as an introduction to the format we use for hands-on exercises throughout all Kaggle courses.*\n",
    "\n",
    "**What is your favorite color? **\n",
    "\n",
    "To complete this question, create a variable called `color` in the cell below with an appropriate value. The function call `q0.check()` (which we've already provided in the cell below) will check your answer."
   ]
  },
  {
   "cell_type": "code",
   "execution_count": 3,
   "id": "afc952cd",
   "metadata": {
    "execution": {
     "iopub.execute_input": "2023-05-01T10:15:01.437740Z",
     "iopub.status.busy": "2023-05-01T10:15:01.436535Z",
     "iopub.status.idle": "2023-05-01T10:15:01.448501Z",
     "shell.execute_reply": "2023-05-01T10:15:01.447138Z"
    },
    "papermill": {
     "duration": 0.023193,
     "end_time": "2023-05-01T10:15:01.451207",
     "exception": false,
     "start_time": "2023-05-01T10:15:01.428014",
     "status": "completed"
    },
    "tags": []
   },
   "outputs": [
    {
     "data": {
      "application/javascript": [
       "parent.postMessage({\"jupyterEvent\": \"custom.exercise_interaction\", \"data\": {\"outcomeType\": 1, \"valueTowardsCompletion\": 0.25, \"interactionType\": 1, \"questionType\": 2, \"questionId\": \"0_ExerciseFormatTutorial\", \"learnToolsVersion\": \"0.3.4\", \"failureMessage\": \"\", \"exceptionClass\": \"\", \"trace\": \"\"}}, \"*\")"
      ],
      "text/plain": [
       "<IPython.core.display.Javascript object>"
      ]
     },
     "metadata": {},
     "output_type": "display_data"
    },
    {
     "data": {
      "text/markdown": [
       "<span style=\"color:#33cc33\">Correct:</span> What?! You got it right without needing a hint or anything? Drats. Well hey, you should still continue to the next step to get some practice asking for a hint and checking solutions. (Even though you obviously don't need any help here.)"
      ],
      "text/plain": [
       "Correct: What?! You got it right without needing a hint or anything? Drats. Well hey, you should still continue to the next step to get some practice asking for a hint and checking solutions. (Even though you obviously don't need any help here.)"
      ]
     },
     "metadata": {},
     "output_type": "display_data"
    }
   ],
   "source": [
    "# create a variable called color with an appropriate value on the line below\n",
    "# (Remember, strings in Python must be enclosed in 'single' or \"double\" quotes)\n",
    "color=\"blue\"\n",
    "\n",
    "# Check your answer\n",
    "q0.check()"
   ]
  },
  {
   "cell_type": "markdown",
   "id": "4d934de6",
   "metadata": {
    "papermill": {
     "duration": 0.006944,
     "end_time": "2023-05-01T10:15:01.465425",
     "exception": false,
     "start_time": "2023-05-01T10:15:01.458481",
     "status": "completed"
    },
    "tags": []
   },
   "source": [
    "Didn't get the right answer? How do you not even know your own favorite color?!\n",
    "\n",
    "Delete the `#` in the line below to make one of the lines run. You can choose between getting a hint or the full answer by choosing which line to remove the `#` from. \n",
    "\n",
    "Removing the `#` is called uncommenting, because it changes that line from a \"comment\" which Python doesn't run to code, which Python does run."
   ]
  },
  {
   "cell_type": "code",
   "execution_count": 4,
   "id": "b7b5dc8a",
   "metadata": {
    "execution": {
     "iopub.execute_input": "2023-05-01T10:15:01.482610Z",
     "iopub.status.busy": "2023-05-01T10:15:01.481641Z",
     "iopub.status.idle": "2023-05-01T10:15:01.487045Z",
     "shell.execute_reply": "2023-05-01T10:15:01.486030Z"
    },
    "papermill": {
     "duration": 0.017349,
     "end_time": "2023-05-01T10:15:01.489978",
     "exception": false,
     "start_time": "2023-05-01T10:15:01.472629",
     "status": "completed"
    },
    "tags": []
   },
   "outputs": [],
   "source": [
    "#q0.hint()\n",
    "#q0.solution()"
   ]
  },
  {
   "cell_type": "markdown",
   "id": "f22bf0b1",
   "metadata": {
    "papermill": {
     "duration": 0.006805,
     "end_time": "2023-05-01T10:15:01.504100",
     "exception": false,
     "start_time": "2023-05-01T10:15:01.497295",
     "status": "completed"
    },
    "tags": []
   },
   "source": [
    "The upcoming questions work the same way. The only thing that will change are the question numbers. For the next question, you'll call `q1.check()`, `q1.hint()`, `q1.solution()`, for question 2, you'll call `q2.check()`, and so on."
   ]
  },
  {
   "cell_type": "markdown",
   "id": "8929ae93",
   "metadata": {
    "papermill": {
     "duration": 0.006797,
     "end_time": "2023-05-01T10:15:01.518170",
     "exception": false,
     "start_time": "2023-05-01T10:15:01.511373",
     "status": "completed"
    },
    "tags": []
   },
   "source": [
    "<hr/>\n",
    "\n",
    "# 1.\n",
    "\n",
    "Complete the code below. In case it's helpful, here is the table of available arithmetic operations:\n",
    "\n",
    "\n",
    "\n",
    "| Operator     | Name           | Description                                            |\n",
    "|--------------|----------------|--------------------------------------------------------|\n",
    "| ``a + b``    | Addition       | Sum of ``a`` and ``b``                                 |\n",
    "| ``a - b``    | Subtraction    | Difference of ``a`` and ``b``                          |\n",
    "| ``a * b``    | Multiplication | Product of ``a`` and ``b``                             |\n",
    "| ``a / b``    | True division  | Quotient of ``a`` and ``b``                            |\n",
    "| ``a // b``   | Floor division | Quotient of ``a`` and ``b``, removing fractional parts |\n",
    "| ``a % b``    | Modulus        | Integer remainder after division of ``a`` by ``b``     |\n",
    "| ``a ** b``   | Exponentiation | ``a`` raised to the power of ``b``                     |\n",
    "| ``-a``       | Negation       | The negative of ``a``                                  |\n",
    "\n",
    "<span style=\"display:none\"></span>\n"
   ]
  },
  {
   "cell_type": "code",
   "execution_count": 5,
   "id": "f5c49689",
   "metadata": {
    "execution": {
     "iopub.execute_input": "2023-05-01T10:15:01.536537Z",
     "iopub.status.busy": "2023-05-01T10:15:01.535545Z",
     "iopub.status.idle": "2023-05-01T10:15:01.546659Z",
     "shell.execute_reply": "2023-05-01T10:15:01.545289Z"
    },
    "papermill": {
     "duration": 0.022517,
     "end_time": "2023-05-01T10:15:01.549225",
     "exception": false,
     "start_time": "2023-05-01T10:15:01.526708",
     "status": "completed"
    },
    "tags": []
   },
   "outputs": [
    {
     "data": {
      "application/javascript": [
       "parent.postMessage({\"jupyterEvent\": \"custom.exercise_interaction\", \"data\": {\"outcomeType\": 1, \"valueTowardsCompletion\": 0.25, \"interactionType\": 1, \"questionType\": 1, \"questionId\": \"1_CircleArea\", \"learnToolsVersion\": \"0.3.4\", \"failureMessage\": \"\", \"exceptionClass\": \"\", \"trace\": \"\"}}, \"*\")"
      ],
      "text/plain": [
       "<IPython.core.display.Javascript object>"
      ]
     },
     "metadata": {},
     "output_type": "display_data"
    },
    {
     "data": {
      "text/markdown": [
       "<span style=\"color:#33cc33\">Correct</span>"
      ],
      "text/plain": [
       "Correct"
      ]
     },
     "metadata": {},
     "output_type": "display_data"
    }
   ],
   "source": [
    "pi = 3.14159 # approximate\n",
    "diameter = 3\n",
    "\n",
    "# Create a variable called 'radius' equal to half the diameter\n",
    "radius=diameter/2\n",
    "\n",
    "# Create a variable called 'area', using the formula for the area of a circle: pi times the radius squared\n",
    "area=pi *(radius**2)\n",
    "\n",
    "# Check your answer\n",
    "q1.check()"
   ]
  },
  {
   "cell_type": "code",
   "execution_count": 6,
   "id": "78b84a66",
   "metadata": {
    "execution": {
     "iopub.execute_input": "2023-05-01T10:15:01.566751Z",
     "iopub.status.busy": "2023-05-01T10:15:01.565910Z",
     "iopub.status.idle": "2023-05-01T10:15:01.571067Z",
     "shell.execute_reply": "2023-05-01T10:15:01.570011Z"
    },
    "papermill": {
     "duration": 0.017132,
     "end_time": "2023-05-01T10:15:01.573775",
     "exception": false,
     "start_time": "2023-05-01T10:15:01.556643",
     "status": "completed"
    },
    "tags": []
   },
   "outputs": [],
   "source": [
    "# Uncomment and run the lines below if you need help.\n",
    "#q1.hint()\n",
    "#q1.solution()"
   ]
  },
  {
   "cell_type": "markdown",
   "id": "6b962522",
   "metadata": {
    "papermill": {
     "duration": 0.007165,
     "end_time": "2023-05-01T10:15:01.588632",
     "exception": false,
     "start_time": "2023-05-01T10:15:01.581467",
     "status": "completed"
    },
    "tags": []
   },
   "source": [
    "<hr/>\n",
    "\n",
    "# 2.\n",
    "\n",
    "Add code to the following cell to swap variables `a` and `b` (so that `a` refers to the object previously referred to by `b` and vice versa)."
   ]
  },
  {
   "cell_type": "code",
   "execution_count": 7,
   "id": "2a948524",
   "metadata": {
    "execution": {
     "iopub.execute_input": "2023-05-01T10:15:01.606289Z",
     "iopub.status.busy": "2023-05-01T10:15:01.605539Z",
     "iopub.status.idle": "2023-05-01T10:15:01.617337Z",
     "shell.execute_reply": "2023-05-01T10:15:01.616030Z"
    },
    "papermill": {
     "duration": 0.023953,
     "end_time": "2023-05-01T10:15:01.620117",
     "exception": false,
     "start_time": "2023-05-01T10:15:01.596164",
     "status": "completed"
    },
    "tags": []
   },
   "outputs": [
    {
     "data": {
      "application/javascript": [
       "parent.postMessage({\"jupyterEvent\": \"custom.exercise_interaction\", \"data\": {\"outcomeType\": 1, \"valueTowardsCompletion\": 0.25, \"interactionType\": 1, \"questionType\": 2, \"questionId\": \"2_VariableSwap\", \"learnToolsVersion\": \"0.3.4\", \"failureMessage\": \"\", \"exceptionClass\": \"\", \"trace\": \"\"}}, \"*\")"
      ],
      "text/plain": [
       "<IPython.core.display.Javascript object>"
      ]
     },
     "metadata": {},
     "output_type": "display_data"
    },
    {
     "data": {
      "text/markdown": [
       "<span style=\"color:#33cc33\">Correct:</span> \n",
       "\n",
       "The most straightforward solution is to use a third variable to temporarily store one of the old values. e.g.:\n",
       "\n",
       "    tmp = a\n",
       "    a = b\n",
       "    b = tmp\n",
       "\n",
       "If you've read lots of Python code, you might have seen the following trick to swap two variables in one line:\n",
       "\n",
       "    a, b = b, a\n",
       "\n",
       "We'll demystify this bit of Python magic later when we talk about *tuples*."
      ],
      "text/plain": [
       "Correct: \n",
       "\n",
       "The most straightforward solution is to use a third variable to temporarily store one of the old values. e.g.:\n",
       "\n",
       "    tmp = a\n",
       "    a = b\n",
       "    b = tmp\n",
       "\n",
       "If you've read lots of Python code, you might have seen the following trick to swap two variables in one line:\n",
       "\n",
       "    a, b = b, a\n",
       "\n",
       "We'll demystify this bit of Python magic later when we talk about *tuples*."
      ]
     },
     "metadata": {},
     "output_type": "display_data"
    }
   ],
   "source": [
    "########### Setup code - don't touch this part ######################\n",
    "# If you're curious, these are examples of lists. We'll talk about \n",
    "# them in depth a few lessons from now. For now, just know that they're\n",
    "# yet another type of Python object, like int or float.\n",
    "a = [1, 2, 3]\n",
    "b = [3, 2, 1]\n",
    "\n",
    "q2.store_original_ids()\n",
    "######################################################################\n",
    "c= a\n",
    "a=b\n",
    "b=c\n",
    "# Your code goes here. Swap the values to which a and b refer.\n",
    "# If you get stuck, you can always uncomment one or both of the lines in\n",
    "# the next cell for a hint, or to peek at the solution.\n",
    "\n",
    "######################################################################\n",
    "\n",
    "# Check your answer\n",
    "q2.check()"
   ]
  },
  {
   "cell_type": "code",
   "execution_count": 8,
   "id": "f4ce19ba",
   "metadata": {
    "execution": {
     "iopub.execute_input": "2023-05-01T10:15:01.638281Z",
     "iopub.status.busy": "2023-05-01T10:15:01.637861Z",
     "iopub.status.idle": "2023-05-01T10:15:01.647949Z",
     "shell.execute_reply": "2023-05-01T10:15:01.646579Z"
    },
    "papermill": {
     "duration": 0.022687,
     "end_time": "2023-05-01T10:15:01.650836",
     "exception": false,
     "start_time": "2023-05-01T10:15:01.628149",
     "status": "completed"
    },
    "tags": []
   },
   "outputs": [
    {
     "data": {
      "application/javascript": [
       "parent.postMessage({\"jupyterEvent\": \"custom.exercise_interaction\", \"data\": {\"interactionType\": 2, \"questionType\": 2, \"questionId\": \"2_VariableSwap\", \"learnToolsVersion\": \"0.3.4\", \"valueTowardsCompletion\": 0.0, \"failureMessage\": \"\", \"exceptionClass\": \"\", \"trace\": \"\", \"outcomeType\": 4}}, \"*\")"
      ],
      "text/plain": [
       "<IPython.core.display.Javascript object>"
      ]
     },
     "metadata": {},
     "output_type": "display_data"
    },
    {
     "data": {
      "text/markdown": [
       "<span style=\"color:#3366cc\">Hint:</span> Try using a third variable."
      ],
      "text/plain": [
       "Hint: Try using a third variable."
      ]
     },
     "metadata": {},
     "output_type": "display_data"
    }
   ],
   "source": [
    "q2.hint()"
   ]
  },
  {
   "cell_type": "code",
   "execution_count": 9,
   "id": "7dbb08ef",
   "metadata": {
    "execution": {
     "iopub.execute_input": "2023-05-01T10:15:01.670302Z",
     "iopub.status.busy": "2023-05-01T10:15:01.669213Z",
     "iopub.status.idle": "2023-05-01T10:15:01.674688Z",
     "shell.execute_reply": "2023-05-01T10:15:01.673519Z"
    },
    "papermill": {
     "duration": 0.017661,
     "end_time": "2023-05-01T10:15:01.677161",
     "exception": false,
     "start_time": "2023-05-01T10:15:01.659500",
     "status": "completed"
    },
    "tags": []
   },
   "outputs": [],
   "source": [
    "#q2.solution()"
   ]
  },
  {
   "cell_type": "markdown",
   "id": "fba87a9d",
   "metadata": {
    "papermill": {
     "duration": 0.007753,
     "end_time": "2023-05-01T10:15:01.693166",
     "exception": false,
     "start_time": "2023-05-01T10:15:01.685413",
     "status": "completed"
    },
    "tags": []
   },
   "source": [
    "<hr/>\n",
    "\n",
    "# 3a.\n",
    "\n",
    "Add parentheses to the following expression so that it evaluates to 1."
   ]
  },
  {
   "cell_type": "code",
   "execution_count": 10,
   "id": "fc955639",
   "metadata": {
    "execution": {
     "iopub.execute_input": "2023-05-01T10:15:01.712629Z",
     "iopub.status.busy": "2023-05-01T10:15:01.711646Z",
     "iopub.status.idle": "2023-05-01T10:15:01.719102Z",
     "shell.execute_reply": "2023-05-01T10:15:01.717644Z"
    },
    "papermill": {
     "duration": 0.020679,
     "end_time": "2023-05-01T10:15:01.722186",
     "exception": false,
     "start_time": "2023-05-01T10:15:01.701507",
     "status": "completed"
    },
    "tags": []
   },
   "outputs": [
    {
     "data": {
      "text/plain": [
       "1"
      ]
     },
     "execution_count": 10,
     "metadata": {},
     "output_type": "execute_result"
    }
   ],
   "source": [
    "(5 - 3) // 2"
   ]
  },
  {
   "cell_type": "code",
   "execution_count": 11,
   "id": "738a039b",
   "metadata": {
    "execution": {
     "iopub.execute_input": "2023-05-01T10:15:01.742222Z",
     "iopub.status.busy": "2023-05-01T10:15:01.741760Z",
     "iopub.status.idle": "2023-05-01T10:15:01.747354Z",
     "shell.execute_reply": "2023-05-01T10:15:01.745917Z"
    },
    "papermill": {
     "duration": 0.019216,
     "end_time": "2023-05-01T10:15:01.750177",
     "exception": false,
     "start_time": "2023-05-01T10:15:01.730961",
     "status": "completed"
    },
    "tags": []
   },
   "outputs": [],
   "source": [
    "#q3.a.hint()"
   ]
  },
  {
   "cell_type": "code",
   "execution_count": 12,
   "id": "a924cdb6",
   "metadata": {
    "execution": {
     "iopub.execute_input": "2023-05-01T10:15:01.768892Z",
     "iopub.status.busy": "2023-05-01T10:15:01.768456Z",
     "iopub.status.idle": "2023-05-01T10:15:01.779572Z",
     "shell.execute_reply": "2023-05-01T10:15:01.778093Z"
    },
    "papermill": {
     "duration": 0.023495,
     "end_time": "2023-05-01T10:15:01.782176",
     "exception": false,
     "start_time": "2023-05-01T10:15:01.758681",
     "status": "completed"
    },
    "tags": []
   },
   "outputs": [
    {
     "data": {
      "application/javascript": [
       "parent.postMessage({\"jupyterEvent\": \"custom.exercise_interaction\", \"data\": {\"interactionType\": 3, \"questionType\": 4, \"questionId\": \"3.1_ArithmeticParensEasy\", \"learnToolsVersion\": \"0.3.4\", \"valueTowardsCompletion\": 0.0, \"failureMessage\": \"\", \"exceptionClass\": \"\", \"trace\": \"\", \"outcomeType\": 4}}, \"*\")"
      ],
      "text/plain": [
       "<IPython.core.display.Javascript object>"
      ]
     },
     "metadata": {},
     "output_type": "display_data"
    },
    {
     "data": {
      "text/markdown": [
       "<span style=\"color:#33cc99\">Solution:</span> \n",
       "```python\n",
       "(5 - 3) // 2\n",
       "```"
      ],
      "text/plain": [
       "Solution: \n",
       "```python\n",
       "(5 - 3) // 2\n",
       "```"
      ]
     },
     "metadata": {},
     "output_type": "display_data"
    }
   ],
   "source": [
    "# Check your answer (Run this code cell to receive credit!)\n",
    "q3.a.solution()"
   ]
  },
  {
   "cell_type": "markdown",
   "id": "d24771f5",
   "metadata": {
    "papermill": {
     "duration": 0.008303,
     "end_time": "2023-05-01T10:15:01.799314",
     "exception": false,
     "start_time": "2023-05-01T10:15:01.791011",
     "status": "completed"
    },
    "tags": []
   },
   "source": [
    "# 3b.  <span title=\"A bit spicy\" style=\"color: darkgreen \">🌶️</span>\n",
    "\n",
    "<small>Questions, like this one, marked a spicy pepper are a bit harder.</small>\n",
    "\n",
    "Add parentheses to the following expression so that it evaluates to 0."
   ]
  },
  {
   "cell_type": "code",
   "execution_count": 13,
   "id": "c85ba4ac",
   "metadata": {
    "execution": {
     "iopub.execute_input": "2023-05-01T10:15:01.819885Z",
     "iopub.status.busy": "2023-05-01T10:15:01.819444Z",
     "iopub.status.idle": "2023-05-01T10:15:01.826233Z",
     "shell.execute_reply": "2023-05-01T10:15:01.825137Z"
    },
    "papermill": {
     "duration": 0.020382,
     "end_time": "2023-05-01T10:15:01.828837",
     "exception": false,
     "start_time": "2023-05-01T10:15:01.808455",
     "status": "completed"
    },
    "tags": []
   },
   "outputs": [
    {
     "data": {
      "text/plain": [
       "0"
      ]
     },
     "execution_count": 13,
     "metadata": {},
     "output_type": "execute_result"
    }
   ],
   "source": [
    "8 - (3 * 2) - (1 + 1)"
   ]
  },
  {
   "cell_type": "code",
   "execution_count": 14,
   "id": "cb7cb777",
   "metadata": {
    "execution": {
     "iopub.execute_input": "2023-05-01T10:15:01.848818Z",
     "iopub.status.busy": "2023-05-01T10:15:01.847961Z",
     "iopub.status.idle": "2023-05-01T10:15:01.853066Z",
     "shell.execute_reply": "2023-05-01T10:15:01.851957Z"
    },
    "papermill": {
     "duration": 0.018099,
     "end_time": "2023-05-01T10:15:01.855722",
     "exception": false,
     "start_time": "2023-05-01T10:15:01.837623",
     "status": "completed"
    },
    "tags": []
   },
   "outputs": [],
   "source": [
    "#q3.b.hint()"
   ]
  },
  {
   "cell_type": "code",
   "execution_count": 15,
   "id": "b78ef130",
   "metadata": {
    "execution": {
     "iopub.execute_input": "2023-05-01T10:15:01.876145Z",
     "iopub.status.busy": "2023-05-01T10:15:01.875116Z",
     "iopub.status.idle": "2023-05-01T10:15:01.885987Z",
     "shell.execute_reply": "2023-05-01T10:15:01.884639Z"
    },
    "papermill": {
     "duration": 0.024973,
     "end_time": "2023-05-01T10:15:01.889618",
     "exception": false,
     "start_time": "2023-05-01T10:15:01.864645",
     "status": "completed"
    },
    "tags": []
   },
   "outputs": [
    {
     "data": {
      "application/javascript": [
       "parent.postMessage({\"jupyterEvent\": \"custom.exercise_interaction\", \"data\": {\"interactionType\": 3, \"questionType\": 4, \"questionId\": \"3.2_ArithmeticParensHard\", \"learnToolsVersion\": \"0.3.4\", \"valueTowardsCompletion\": 0.0, \"failureMessage\": \"\", \"exceptionClass\": \"\", \"trace\": \"\", \"outcomeType\": 4}}, \"*\")"
      ],
      "text/plain": [
       "<IPython.core.display.Javascript object>"
      ]
     },
     "metadata": {},
     "output_type": "display_data"
    },
    {
     "data": {
      "text/markdown": [
       "<span style=\"color:#33cc99\">Solution:</span> `(8 - 3) * (2 - (1 + 1))` is one solution. There may be others."
      ],
      "text/plain": [
       "Solution: `(8 - 3) * (2 - (1 + 1))` is one solution. There may be others."
      ]
     },
     "metadata": {},
     "output_type": "display_data"
    }
   ],
   "source": [
    "# Check your answer (Run this code cell to receive credit!)\n",
    "q3.b.solution()"
   ]
  },
  {
   "cell_type": "markdown",
   "id": "455852b7",
   "metadata": {
    "papermill": {
     "duration": 0.009389,
     "end_time": "2023-05-01T10:15:01.908472",
     "exception": false,
     "start_time": "2023-05-01T10:15:01.899083",
     "status": "completed"
    },
    "tags": []
   },
   "source": [
    "<hr/>\n",
    "\n",
    "# 4. \n",
    "Alice, Bob and Carol have agreed to pool their Halloween candy and split it evenly among themselves.\n",
    "For the sake of their friendship, any candies left over will be smashed. For example, if they collectively\n",
    "bring home 91 candies, they'll take 30 each and smash 1.\n",
    "\n",
    "Write an arithmetic expression below to calculate how many candies they must smash for a given haul."
   ]
  },
  {
   "cell_type": "code",
   "execution_count": 16,
   "id": "99eaef9f",
   "metadata": {
    "execution": {
     "iopub.execute_input": "2023-05-01T10:15:01.928771Z",
     "iopub.status.busy": "2023-05-01T10:15:01.928268Z",
     "iopub.status.idle": "2023-05-01T10:15:01.939020Z",
     "shell.execute_reply": "2023-05-01T10:15:01.937958Z"
    },
    "papermill": {
     "duration": 0.024075,
     "end_time": "2023-05-01T10:15:01.941630",
     "exception": false,
     "start_time": "2023-05-01T10:15:01.917555",
     "status": "completed"
    },
    "tags": []
   },
   "outputs": [
    {
     "data": {
      "application/javascript": [
       "parent.postMessage({\"jupyterEvent\": \"custom.exercise_interaction\", \"data\": {\"outcomeType\": 1, \"valueTowardsCompletion\": 0.25, \"interactionType\": 1, \"questionType\": 1, \"questionId\": \"4_CandySplitting\", \"learnToolsVersion\": \"0.3.4\", \"failureMessage\": \"\", \"exceptionClass\": \"\", \"trace\": \"\"}}, \"*\")"
      ],
      "text/plain": [
       "<IPython.core.display.Javascript object>"
      ]
     },
     "metadata": {},
     "output_type": "display_data"
    },
    {
     "data": {
      "text/markdown": [
       "<span style=\"color:#33cc33\">Correct</span>"
      ],
      "text/plain": [
       "Correct"
      ]
     },
     "metadata": {},
     "output_type": "display_data"
    }
   ],
   "source": [
    "# Variables representing the number of candies collected by alice, bob, and carol\n",
    "alice_candies = 121\n",
    "bob_candies = 77\n",
    "carol_candies = 109\n",
    "\n",
    "# Your code goes here! Replace the right-hand side of this assignment with an expression\n",
    "# involving alice_candies, bob_candies, and carol_candies\n",
    "to_smash = -1\n",
    "to_smash =(alice_candies+bob_candies+carol_candies)%3\n",
    "# Check your answer\n",
    "q4.check()"
   ]
  },
  {
   "cell_type": "code",
   "execution_count": 17,
   "id": "28abb1a7",
   "metadata": {
    "execution": {
     "iopub.execute_input": "2023-05-01T10:15:01.962478Z",
     "iopub.status.busy": "2023-05-01T10:15:01.961997Z",
     "iopub.status.idle": "2023-05-01T10:15:01.967851Z",
     "shell.execute_reply": "2023-05-01T10:15:01.966059Z"
    },
    "papermill": {
     "duration": 0.02002,
     "end_time": "2023-05-01T10:15:01.970972",
     "exception": false,
     "start_time": "2023-05-01T10:15:01.950952",
     "status": "completed"
    },
    "tags": []
   },
   "outputs": [],
   "source": [
    "#q4.hint()\n",
    "#q4.solution()"
   ]
  },
  {
   "cell_type": "markdown",
   "id": "6323e36c",
   "metadata": {
    "papermill": {
     "duration": 0.009096,
     "end_time": "2023-05-01T10:15:01.989894",
     "exception": false,
     "start_time": "2023-05-01T10:15:01.980798",
     "status": "completed"
    },
    "tags": []
   },
   "source": [
    "# Keep Going\n",
    "\n",
    "Next up, you'll **[learn to write new functions and understand functions others write](https://www.kaggle.com/colinmorris/functions-and-getting-help)**. This will make you at least 10 times more productive as a Python programmer. "
   ]
  },
  {
   "cell_type": "markdown",
   "id": "ef6594f5",
   "metadata": {
    "papermill": {
     "duration": 0.008829,
     "end_time": "2023-05-01T10:15:02.008078",
     "exception": false,
     "start_time": "2023-05-01T10:15:01.999249",
     "status": "completed"
    },
    "tags": []
   },
   "source": [
    "---\n",
    "\n",
    "\n",
    "\n",
    "\n",
    "*Have questions or comments? Visit the [course discussion forum](https://www.kaggle.com/learn/python/discussion) to chat with other learners.*"
   ]
  }
 ],
 "metadata": {
  "kernelspec": {
   "display_name": "Python 3",
   "language": "python",
   "name": "python3"
  },
  "language_info": {
   "codemirror_mode": {
    "name": "ipython",
    "version": 3
   },
   "file_extension": ".py",
   "mimetype": "text/x-python",
   "name": "python",
   "nbconvert_exporter": "python",
   "pygments_lexer": "ipython3",
   "version": "3.7.12"
  },
  "papermill": {
   "default_parameters": {},
   "duration": 12.803369,
   "end_time": "2023-05-01T10:15:02.741398",
   "environment_variables": {},
   "exception": null,
   "input_path": "__notebook__.ipynb",
   "output_path": "__notebook__.ipynb",
   "parameters": {},
   "start_time": "2023-05-01T10:14:49.938029",
   "version": "2.4.0"
  }
 },
 "nbformat": 4,
 "nbformat_minor": 5
}
